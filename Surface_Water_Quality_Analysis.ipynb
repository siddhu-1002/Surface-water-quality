{
 "cells": [
  {
   "cell_type": "code",
   "execution_count": 257,
   "id": "ba9ada3b",
   "metadata": {},
   "outputs": [],
   "source": [
    "import numpy as np\n",
    "import pandas as pd\n",
    "import matplotlib.pyplot as plt\n",
    "import seaborn as sns"
   ]
  },
  {
   "cell_type": "code",
   "execution_count": 258,
   "id": "ab4fc718",
   "metadata": {},
   "outputs": [
    {
     "name": "stdout",
     "output_type": "stream",
     "text": [
      "WARNING *** OLE2 inconsistency: SSCS size is 0 but SSAT size is non-zero\n"
     ]
    },
    {
     "data": {
      "text/html": [
       "<div>\n",
       "<style scoped>\n",
       "    .dataframe tbody tr th:only-of-type {\n",
       "        vertical-align: middle;\n",
       "    }\n",
       "\n",
       "    .dataframe tbody tr th {\n",
       "        vertical-align: top;\n",
       "    }\n",
       "\n",
       "    .dataframe thead th {\n",
       "        text-align: right;\n",
       "    }\n",
       "</style>\n",
       "<table border=\"1\" class=\"dataframe\">\n",
       "  <thead>\n",
       "    <tr style=\"text-align: right;\">\n",
       "      <th></th>\n",
       "      <th>station_code</th>\n",
       "      <th>station_name</th>\n",
       "      <th>station_type</th>\n",
       "      <th>state_name</th>\n",
       "      <th>district_name</th>\n",
       "      <th>block_name</th>\n",
       "      <th>basin_name</th>\n",
       "      <th>sub_basin_name</th>\n",
       "      <th>agency_name</th>\n",
       "      <th>date_collection</th>\n",
       "      <th>...</th>\n",
       "      <th>TRITIUM</th>\n",
       "      <th>SOLIDS(TOTAL)</th>\n",
       "      <th>TURBIDITY(NTU)</th>\n",
       "      <th>URANIUM</th>\n",
       "      <th>ZINC(mg/L)</th>\n",
       "      <th>NITROGEN,NITRITE.1</th>\n",
       "      <th>CALCIUM CARBONATE</th>\n",
       "      <th>MAGNESIUM CARBONATE</th>\n",
       "      <th>BIOCHEMICAL OXYGEN DEAMND</th>\n",
       "      <th>MAGNESIUM HARDNESS</th>\n",
       "    </tr>\n",
       "  </thead>\n",
       "  <tbody>\n",
       "    <tr>\n",
       "      <th>0</th>\n",
       "      <td>CPCB_1158</td>\n",
       "      <td>MANER AT SOMNAPALLI</td>\n",
       "      <td>Surface Water</td>\n",
       "      <td>Andhra Pradesh</td>\n",
       "      <td>Warangal</td>\n",
       "      <td>THORRUR</td>\n",
       "      <td>Godavari Basin</td>\n",
       "      <td>Pranhita and others</td>\n",
       "      <td>CPCB</td>\n",
       "      <td>08-03-2021 00:00</td>\n",
       "      <td>...</td>\n",
       "      <td>NaN</td>\n",
       "      <td>NaN</td>\n",
       "      <td>NaN</td>\n",
       "      <td>NaN</td>\n",
       "      <td>NaN</td>\n",
       "      <td>NaN</td>\n",
       "      <td>NaN</td>\n",
       "      <td>NaN</td>\n",
       "      <td>NaN</td>\n",
       "      <td>NaN</td>\n",
       "    </tr>\n",
       "    <tr>\n",
       "      <th>1</th>\n",
       "      <td>CPCB_1174</td>\n",
       "      <td>TUNGABHADRA AT KURNOOL U/S BHAVAPURAM KURNOOL</td>\n",
       "      <td>Surface Water</td>\n",
       "      <td>Andhra Pradesh</td>\n",
       "      <td>KURNOOL</td>\n",
       "      <td>KURNOOL</td>\n",
       "      <td>Krishna Basin</td>\n",
       "      <td>Tungabhadra Lower</td>\n",
       "      <td>CPCB</td>\n",
       "      <td>07-03-2021 00:00</td>\n",
       "      <td>...</td>\n",
       "      <td>NaN</td>\n",
       "      <td>NaN</td>\n",
       "      <td>NaN</td>\n",
       "      <td>NaN</td>\n",
       "      <td>NaN</td>\n",
       "      <td>NaN</td>\n",
       "      <td>NaN</td>\n",
       "      <td>NaN</td>\n",
       "      <td>NaN</td>\n",
       "      <td>NaN</td>\n",
       "    </tr>\n",
       "    <tr>\n",
       "      <th>2</th>\n",
       "      <td>CPCB_1175</td>\n",
       "      <td>KRISHNA A/C WITH TUNGABHADRA SANGAMESHWARAM KU...</td>\n",
       "      <td>Surface Water</td>\n",
       "      <td>Andhra Pradesh</td>\n",
       "      <td>KURNOOL</td>\n",
       "      <td>PAGIDYALA</td>\n",
       "      <td>Krishna Basin</td>\n",
       "      <td>Krishna Middle</td>\n",
       "      <td>CPCB</td>\n",
       "      <td>14-03-2021 00:00</td>\n",
       "      <td>...</td>\n",
       "      <td>NaN</td>\n",
       "      <td>NaN</td>\n",
       "      <td>NaN</td>\n",
       "      <td>NaN</td>\n",
       "      <td>NaN</td>\n",
       "      <td>NaN</td>\n",
       "      <td>NaN</td>\n",
       "      <td>NaN</td>\n",
       "      <td>NaN</td>\n",
       "      <td>NaN</td>\n",
       "    </tr>\n",
       "    <tr>\n",
       "      <th>3</th>\n",
       "      <td>CPCB_1178</td>\n",
       "      <td>PALLERU B/C WITH KRISHNA JAGGAIAPET</td>\n",
       "      <td>Surface Water</td>\n",
       "      <td>Andhra Pradesh</td>\n",
       "      <td>KRISHNA</td>\n",
       "      <td>JAGGAYYAPETA</td>\n",
       "      <td>Krishna Basin</td>\n",
       "      <td>Krishna Lower</td>\n",
       "      <td>CPCB</td>\n",
       "      <td>24-03-2021 00:00</td>\n",
       "      <td>...</td>\n",
       "      <td>NaN</td>\n",
       "      <td>NaN</td>\n",
       "      <td>NaN</td>\n",
       "      <td>NaN</td>\n",
       "      <td>NaN</td>\n",
       "      <td>NaN</td>\n",
       "      <td>NaN</td>\n",
       "      <td>NaN</td>\n",
       "      <td>NaN</td>\n",
       "      <td>NaN</td>\n",
       "    </tr>\n",
       "    <tr>\n",
       "      <th>4</th>\n",
       "      <td>CPCB_1215</td>\n",
       "      <td>MANER AT WARANGAL U/S (RIVER MANERU AT THUMMAL...</td>\n",
       "      <td>Surface Water</td>\n",
       "      <td>Andhra Pradesh</td>\n",
       "      <td>Warangal</td>\n",
       "      <td>THORRUR</td>\n",
       "      <td>Krishna Basin</td>\n",
       "      <td>Krishna Lower</td>\n",
       "      <td>CPCB</td>\n",
       "      <td>10-03-2021 00:00</td>\n",
       "      <td>...</td>\n",
       "      <td>NaN</td>\n",
       "      <td>NaN</td>\n",
       "      <td>NaN</td>\n",
       "      <td>NaN</td>\n",
       "      <td>NaN</td>\n",
       "      <td>NaN</td>\n",
       "      <td>NaN</td>\n",
       "      <td>NaN</td>\n",
       "      <td>NaN</td>\n",
       "      <td>NaN</td>\n",
       "    </tr>\n",
       "  </tbody>\n",
       "</table>\n",
       "<p>5 rows × 97 columns</p>\n",
       "</div>"
      ],
      "text/plain": [
       "  station_code                                       station_name  \\\n",
       "0    CPCB_1158                                MANER AT SOMNAPALLI   \n",
       "1    CPCB_1174      TUNGABHADRA AT KURNOOL U/S BHAVAPURAM KURNOOL   \n",
       "2    CPCB_1175  KRISHNA A/C WITH TUNGABHADRA SANGAMESHWARAM KU...   \n",
       "3    CPCB_1178                PALLERU B/C WITH KRISHNA JAGGAIAPET   \n",
       "4    CPCB_1215  MANER AT WARANGAL U/S (RIVER MANERU AT THUMMAL...   \n",
       "\n",
       "    station_type      state_name district_name    block_name      basin_name  \\\n",
       "0  Surface Water  Andhra Pradesh      Warangal       THORRUR  Godavari Basin   \n",
       "1  Surface Water  Andhra Pradesh       KURNOOL       KURNOOL   Krishna Basin   \n",
       "2  Surface Water  Andhra Pradesh       KURNOOL     PAGIDYALA   Krishna Basin   \n",
       "3  Surface Water  Andhra Pradesh       KRISHNA  JAGGAYYAPETA   Krishna Basin   \n",
       "4  Surface Water  Andhra Pradesh      Warangal       THORRUR   Krishna Basin   \n",
       "\n",
       "        sub_basin_name agency_name   date_collection  ...  TRITIUM  \\\n",
       "0  Pranhita and others        CPCB  08-03-2021 00:00  ...      NaN   \n",
       "1    Tungabhadra Lower        CPCB  07-03-2021 00:00  ...      NaN   \n",
       "2       Krishna Middle        CPCB  14-03-2021 00:00  ...      NaN   \n",
       "3        Krishna Lower        CPCB  24-03-2021 00:00  ...      NaN   \n",
       "4        Krishna Lower        CPCB  10-03-2021 00:00  ...      NaN   \n",
       "\n",
       "   SOLIDS(TOTAL)  TURBIDITY(NTU)  URANIUM  ZINC(mg/L)  NITROGEN,NITRITE.1  \\\n",
       "0            NaN             NaN      NaN         NaN                 NaN   \n",
       "1            NaN             NaN      NaN         NaN                 NaN   \n",
       "2            NaN             NaN      NaN         NaN                 NaN   \n",
       "3            NaN             NaN      NaN         NaN                 NaN   \n",
       "4            NaN             NaN      NaN         NaN                 NaN   \n",
       "\n",
       "   CALCIUM CARBONATE  MAGNESIUM CARBONATE  BIOCHEMICAL OXYGEN DEAMND  \\\n",
       "0                NaN                  NaN                        NaN   \n",
       "1                NaN                  NaN                        NaN   \n",
       "2                NaN                  NaN                        NaN   \n",
       "3                NaN                  NaN                        NaN   \n",
       "4                NaN                  NaN                        NaN   \n",
       "\n",
       "   MAGNESIUM HARDNESS  \n",
       "0                 NaN  \n",
       "1                 NaN  \n",
       "2                 NaN  \n",
       "3                 NaN  \n",
       "4                 NaN  \n",
       "\n",
       "[5 rows x 97 columns]"
      ]
     },
     "execution_count": 258,
     "metadata": {},
     "output_type": "execute_result"
    }
   ],
   "source": [
    "data = pd.read_excel('datafile.xls')\n",
    "data.head()"
   ]
  },
  {
   "cell_type": "code",
   "execution_count": 259,
   "id": "187cbd90",
   "metadata": {},
   "outputs": [
    {
     "data": {
      "text/plain": [
       "(2290, 97)"
      ]
     },
     "execution_count": 259,
     "metadata": {},
     "output_type": "execute_result"
    }
   ],
   "source": [
    "data.shape"
   ]
  },
  {
   "cell_type": "code",
   "execution_count": 260,
   "id": "00858aef",
   "metadata": {},
   "outputs": [
    {
     "name": "stdout",
     "output_type": "stream",
     "text": [
      "<class 'pandas.core.frame.DataFrame'>\n",
      "RangeIndex: 2290 entries, 0 to 2289\n",
      "Data columns (total 97 columns):\n",
      " #   Column                             Non-Null Count  Dtype  \n",
      "---  ------                             --------------  -----  \n",
      " 0   station_code                       2290 non-null   object \n",
      " 1   station_name                       2290 non-null   object \n",
      " 2   station_type                       2290 non-null   object \n",
      " 3   state_name                         2290 non-null   object \n",
      " 4   district_name                      2290 non-null   object \n",
      " 5   block_name                         2268 non-null   object \n",
      " 6   basin_name                         2287 non-null   object \n",
      " 7   sub_basin_name                     2287 non-null   object \n",
      " 8   agency_name                        2290 non-null   object \n",
      " 9   date_collection                    2290 non-null   object \n",
      " 10  _24d                               0 non-null      float64\n",
      " 11  _401                               0 non-null      float64\n",
      " 12  SILVER(mg/L)                       0 non-null      float64\n",
      " 13  ALUMINIUM                          0 non-null      float64\n",
      " 14  ALDRIN                             0 non-null      float64\n",
      " 15  ALKALINITY,PHENOLPHTHALEIN(mg/L)   0 non-null      float64\n",
      " 16  TOTAL ALKALINITY                   0 non-null      float64\n",
      " 17  ARSENIC(mg/l)                      0 non-null      float64\n",
      " 18  BORON(mg/L)                        44 non-null     float64\n",
      " 19  BARIUM                             0 non-null      float64\n",
      " 20  GAMMA-BHC(BENZENE HEXACHLORIDE)    0 non-null      float64\n",
      " 21  BIOCHEMICAL OXYGEN DEMAND(mg/L)    1869 non-null   float64\n",
      " 22  CALCIUM(mg/L)                      0 non-null      float64\n",
      " 23  CARBON(14)                         0 non-null      float64\n",
      " 24  CADMIUM                            0 non-null      float64\n",
      " 25  CHLOROPHY11-a                      0 non-null      float64\n",
      " 26  CHLORIDE                           0 non-null      float64\n",
      " 27  CYANIDE                            0 non-null      float64\n",
      " 28  CARBONATE(mg/L)                    0 non-null      float64\n",
      " 29  FECAL STREPTOCOCCI(MPN/100ml)      434 non-null    float64\n",
      " 30  CHEMICAL OXYGEN DEMAND             0 non-null      float64\n",
      " 31  COLOUR                             0 non-null      float64\n",
      " 32  CHROMIUM(mg/L)                     0 non-null      float64\n",
      " 33  COPPER                             0 non-null      float64\n",
      " 34  DDT                                0 non-null      float64\n",
      " 35  DIELDRIN                           0 non-null      float64\n",
      " 36  DISSOLVED OXYGEN(mg/L)             0 non-null      float64\n",
      " 37  DISSOLVED OXYGEN(mg/L).1           2122 non-null   float64\n",
      " 38  ALKALINITY(TOTAL)                  0 non-null      float64\n",
      " 39  DISSOLVED OXYGEN SATURATION(%)     0 non-null      float64\n",
      " 40  ELECTRICAL CINDUCTIVITY FIELD      0 non-null      float64\n",
      " 41  False                              497 non-null    float64\n",
      " 42  ENDOSULPHAN                        0 non-null      float64\n",
      " 43  FLUORIDE                           0 non-null      float64\n",
      " 44  FECAL COLIFORMS(mpn/100ml)         1430 non-null   float64\n",
      " 45  IRON(mg/L)                         0 non-null      float64\n",
      " 46  CALCIUM HARDNESS(mg/L)             0 non-null      float64\n",
      " 47  TOTAL HARDNESS(mg/L)               0 non-null      float64\n",
      " 48  BICARBONATE(mg/L)                  0 non-null      float64\n",
      " 49  MERCURY(mg/L)                      0 non-null      float64\n",
      " 50  POTASSIUM(mg/L)                    0 non-null      float64\n",
      " 51  MAGNESIUM(mg/L)                    0 non-null      float64\n",
      " 52  MANGANESE(mg/L)                    0 non-null      float64\n",
      " 53  SODIUM                             0 non-null      float64\n",
      " 54  PERCENT SODIUM                     0 non-null      float64\n",
      " 55  AMMONIA-N(mg/L)                    404 non-null    float64\n",
      " 56  NICKEL(mg/L)                       0 non-null      float64\n",
      " 57  NITROGEN,NITRITE                   0 non-null      float64\n",
      " 58  NITROGEN, TOTAL OXIDISED(NO2+NO3)  0 non-null      float64\n",
      " 59  no3_n                              0 non-null      float64\n",
      " 60  ODOUR                              0 non-null      float64\n",
      " 61  o_po4_p                            0 non-null      float64\n",
      " 62  NITROGEN,ORGANIC                   0 non-null      float64\n",
      " 63  OXYGEN(18)                         0 non-null      float64\n",
      " 64  FLUORANTHENE                       0 non-null      float64\n",
      " 65  LEAD(mg/L)                         0 non-null      float64\n",
      " 66  PCB-1242                           0 non-null      float64\n",
      " 67  PH                                 0 non-null      float64\n",
      " 68  TOTAL PHENOLS                      0 non-null      float64\n",
      " 69  PH_FIELD                           0 non-null      float64\n",
      " 70  PH.1                               2224 non-null   float64\n",
      " 71  PHOSPHORUS(TOTAL)                  0 non-null      float64\n",
      " 72  RADON                              0 non-null      float64\n",
      " 73  RESIDUAL SODIUM CARBONATE          0 non-null      float64\n",
      " 74  SODIUM ABSORPTION RATIO            175 non-null    float64\n",
      " 75  SELENIUM(mg/L)                     0 non-null      float64\n",
      " 76  SECCHI DEPTH                       0 non-null      float64\n",
      " 77  SILICATE(sio2)(mg/L)               0 non-null      float64\n",
      " 78  SILICATE(sio3)                     0 non-null      float64\n",
      " 79  SULPHATE(mg/L)                     0 non-null      float64\n",
      " 80  SOLIDS,SUSPENDED                   0 non-null      float64\n",
      " 81  STRONTIUM                          0 non-null      float64\n",
      " 82  TOTAL COLIFORNS(MPN/100ml)         476 non-null    float64\n",
      " 83  TOTAL DISSOLVED SOLIDS(mg/L)       0 non-null      float64\n",
      " 84  TEMPERATURE                        0 non-null      float64\n",
      " 85  TEST                               0 non-null      float64\n",
      " 86  TOTAL ORGANIC CARBON               0 non-null      float64\n",
      " 87  TRITIUM                            0 non-null      float64\n",
      " 88  SOLIDS(TOTAL)                      0 non-null      float64\n",
      " 89  TURBIDITY(NTU)                     0 non-null      float64\n",
      " 90  URANIUM                            0 non-null      float64\n",
      " 91  ZINC(mg/L)                         0 non-null      float64\n",
      " 92  NITROGEN,NITRITE.1                 0 non-null      float64\n",
      " 93  CALCIUM CARBONATE                  0 non-null      float64\n",
      " 94  MAGNESIUM CARBONATE                0 non-null      float64\n",
      " 95  BIOCHEMICAL OXYGEN DEAMND          0 non-null      float64\n",
      " 96  MAGNESIUM HARDNESS                 0 non-null      float64\n",
      "dtypes: float64(87), object(10)\n",
      "memory usage: 1.7+ MB\n"
     ]
    }
   ],
   "source": [
    "data.info()"
   ]
  },
  {
   "cell_type": "code",
   "execution_count": null,
   "id": "978c34d0",
   "metadata": {},
   "outputs": [],
   "source": []
  },
  {
   "cell_type": "code",
   "execution_count": 261,
   "id": "6df88d9d",
   "metadata": {},
   "outputs": [],
   "source": [
    "data = data.dropna(how = 'all', axis = 1)"
   ]
  },
  {
   "cell_type": "code",
   "execution_count": 262,
   "id": "623e96ba",
   "metadata": {},
   "outputs": [
    {
     "name": "stdout",
     "output_type": "stream",
     "text": [
      "<class 'pandas.core.frame.DataFrame'>\n",
      "RangeIndex: 2290 entries, 0 to 2289\n",
      "Data columns (total 20 columns):\n",
      " #   Column                           Non-Null Count  Dtype  \n",
      "---  ------                           --------------  -----  \n",
      " 0   station_code                     2290 non-null   object \n",
      " 1   station_name                     2290 non-null   object \n",
      " 2   station_type                     2290 non-null   object \n",
      " 3   state_name                       2290 non-null   object \n",
      " 4   district_name                    2290 non-null   object \n",
      " 5   block_name                       2268 non-null   object \n",
      " 6   basin_name                       2287 non-null   object \n",
      " 7   sub_basin_name                   2287 non-null   object \n",
      " 8   agency_name                      2290 non-null   object \n",
      " 9   date_collection                  2290 non-null   object \n",
      " 10  BORON(mg/L)                      44 non-null     float64\n",
      " 11  BIOCHEMICAL OXYGEN DEMAND(mg/L)  1869 non-null   float64\n",
      " 12  FECAL STREPTOCOCCI(MPN/100ml)    434 non-null    float64\n",
      " 13  DISSOLVED OXYGEN(mg/L).1         2122 non-null   float64\n",
      " 14  False                            497 non-null    float64\n",
      " 15  FECAL COLIFORMS(mpn/100ml)       1430 non-null   float64\n",
      " 16  AMMONIA-N(mg/L)                  404 non-null    float64\n",
      " 17  PH.1                             2224 non-null   float64\n",
      " 18  SODIUM ABSORPTION RATIO          175 non-null    float64\n",
      " 19  TOTAL COLIFORNS(MPN/100ml)       476 non-null    float64\n",
      "dtypes: float64(10), object(10)\n",
      "memory usage: 357.9+ KB\n"
     ]
    }
   ],
   "source": [
    "data.info()"
   ]
  },
  {
   "cell_type": "code",
   "execution_count": 263,
   "id": "c5477ea5",
   "metadata": {},
   "outputs": [
    {
     "data": {
      "text/plain": [
       "station_code                          0\n",
       "station_name                          0\n",
       "station_type                          0\n",
       "state_name                            0\n",
       "district_name                         0\n",
       "block_name                           22\n",
       "basin_name                            3\n",
       "sub_basin_name                        3\n",
       "agency_name                           0\n",
       "date_collection                       0\n",
       "BORON(mg/L)                        2246\n",
       "BIOCHEMICAL OXYGEN DEMAND(mg/L)     421\n",
       "FECAL STREPTOCOCCI(MPN/100ml)      1856\n",
       "DISSOLVED OXYGEN(mg/L).1            168\n",
       "False                              1793\n",
       "FECAL COLIFORMS(mpn/100ml)          860\n",
       "AMMONIA-N(mg/L)                    1886\n",
       "PH.1                                 66\n",
       "SODIUM ABSORPTION RATIO            2115\n",
       "TOTAL COLIFORNS(MPN/100ml)         1814\n",
       "dtype: int64"
      ]
     },
     "execution_count": 263,
     "metadata": {},
     "output_type": "execute_result"
    }
   ],
   "source": [
    "data.isnull().sum()"
   ]
  },
  {
   "cell_type": "code",
   "execution_count": 264,
   "id": "6f784355",
   "metadata": {},
   "outputs": [],
   "source": [
    "data.drop(['BORON(mg/L)', 'FECAL STREPTOCOCCI(MPN/100ml)', 'FECAL COLIFORMS(mpn/100ml)', \n",
    "          'AMMONIA-N(mg/L)', 'SODIUM ABSORPTION RATIO', 'TOTAL COLIFORNS(MPN/100ml)'], axis = 1, inplace = True)"
   ]
  },
  {
   "cell_type": "code",
   "execution_count": 265,
   "id": "e7866179",
   "metadata": {},
   "outputs": [
    {
     "data": {
      "text/plain": [
       "Index([                   'station_code',                    'station_name',\n",
       "                          'station_type',                      'state_name',\n",
       "                         'district_name',                      'block_name',\n",
       "                            'basin_name',                  'sub_basin_name',\n",
       "                           'agency_name',                 'date_collection',\n",
       "       'BIOCHEMICAL OXYGEN DEMAND(mg/L)',        'DISSOLVED OXYGEN(mg/L).1',\n",
       "                                   False,                            'PH.1'],\n",
       "      dtype='object')"
      ]
     },
     "execution_count": 265,
     "metadata": {},
     "output_type": "execute_result"
    }
   ],
   "source": [
    "data.columns"
   ]
  },
  {
   "cell_type": "code",
   "execution_count": 266,
   "id": "fb7a7bd9",
   "metadata": {},
   "outputs": [
    {
     "data": {
      "text/html": [
       "<div>\n",
       "<style scoped>\n",
       "    .dataframe tbody tr th:only-of-type {\n",
       "        vertical-align: middle;\n",
       "    }\n",
       "\n",
       "    .dataframe tbody tr th {\n",
       "        vertical-align: top;\n",
       "    }\n",
       "\n",
       "    .dataframe thead th {\n",
       "        text-align: right;\n",
       "    }\n",
       "</style>\n",
       "<table border=\"1\" class=\"dataframe\">\n",
       "  <thead>\n",
       "    <tr style=\"text-align: right;\">\n",
       "      <th></th>\n",
       "      <th>station_code</th>\n",
       "      <th>station_name</th>\n",
       "      <th>station_type</th>\n",
       "      <th>state_name</th>\n",
       "      <th>district_name</th>\n",
       "      <th>block_name</th>\n",
       "      <th>basin_name</th>\n",
       "      <th>sub_basin_name</th>\n",
       "      <th>agency_name</th>\n",
       "      <th>date_collection</th>\n",
       "      <th>BIOCHEMICAL OXYGEN DEMAND(mg/L)</th>\n",
       "      <th>DISSOLVED OXYGEN(mg/L).1</th>\n",
       "      <th>False</th>\n",
       "      <th>PH.1</th>\n",
       "    </tr>\n",
       "  </thead>\n",
       "  <tbody>\n",
       "    <tr>\n",
       "      <th>0</th>\n",
       "      <td>CPCB_1158</td>\n",
       "      <td>MANER AT SOMNAPALLI</td>\n",
       "      <td>Surface Water</td>\n",
       "      <td>Andhra Pradesh</td>\n",
       "      <td>Warangal</td>\n",
       "      <td>THORRUR</td>\n",
       "      <td>Godavari Basin</td>\n",
       "      <td>Pranhita and others</td>\n",
       "      <td>CPCB</td>\n",
       "      <td>08-03-2021 00:00</td>\n",
       "      <td>2.1</td>\n",
       "      <td>5.4</td>\n",
       "      <td>NaN</td>\n",
       "      <td>7.31</td>\n",
       "    </tr>\n",
       "    <tr>\n",
       "      <th>1</th>\n",
       "      <td>CPCB_1174</td>\n",
       "      <td>TUNGABHADRA AT KURNOOL U/S BHAVAPURAM KURNOOL</td>\n",
       "      <td>Surface Water</td>\n",
       "      <td>Andhra Pradesh</td>\n",
       "      <td>KURNOOL</td>\n",
       "      <td>KURNOOL</td>\n",
       "      <td>Krishna Basin</td>\n",
       "      <td>Tungabhadra Lower</td>\n",
       "      <td>CPCB</td>\n",
       "      <td>07-03-2021 00:00</td>\n",
       "      <td>2.8</td>\n",
       "      <td>5.0</td>\n",
       "      <td>NaN</td>\n",
       "      <td>7.70</td>\n",
       "    </tr>\n",
       "    <tr>\n",
       "      <th>2</th>\n",
       "      <td>CPCB_1175</td>\n",
       "      <td>KRISHNA A/C WITH TUNGABHADRA SANGAMESHWARAM KU...</td>\n",
       "      <td>Surface Water</td>\n",
       "      <td>Andhra Pradesh</td>\n",
       "      <td>KURNOOL</td>\n",
       "      <td>PAGIDYALA</td>\n",
       "      <td>Krishna Basin</td>\n",
       "      <td>Krishna Middle</td>\n",
       "      <td>CPCB</td>\n",
       "      <td>14-03-2021 00:00</td>\n",
       "      <td>2.5</td>\n",
       "      <td>5.6</td>\n",
       "      <td>NaN</td>\n",
       "      <td>7.30</td>\n",
       "    </tr>\n",
       "    <tr>\n",
       "      <th>3</th>\n",
       "      <td>CPCB_1178</td>\n",
       "      <td>PALLERU B/C WITH KRISHNA JAGGAIAPET</td>\n",
       "      <td>Surface Water</td>\n",
       "      <td>Andhra Pradesh</td>\n",
       "      <td>KRISHNA</td>\n",
       "      <td>JAGGAYYAPETA</td>\n",
       "      <td>Krishna Basin</td>\n",
       "      <td>Krishna Lower</td>\n",
       "      <td>CPCB</td>\n",
       "      <td>24-03-2021 00:00</td>\n",
       "      <td>2.6</td>\n",
       "      <td>7.1</td>\n",
       "      <td>NaN</td>\n",
       "      <td>8.15</td>\n",
       "    </tr>\n",
       "    <tr>\n",
       "      <th>4</th>\n",
       "      <td>CPCB_1215</td>\n",
       "      <td>MANER AT WARANGAL U/S (RIVER MANERU AT THUMMAL...</td>\n",
       "      <td>Surface Water</td>\n",
       "      <td>Andhra Pradesh</td>\n",
       "      <td>Warangal</td>\n",
       "      <td>THORRUR</td>\n",
       "      <td>Krishna Basin</td>\n",
       "      <td>Krishna Lower</td>\n",
       "      <td>CPCB</td>\n",
       "      <td>10-03-2021 00:00</td>\n",
       "      <td>2.2</td>\n",
       "      <td>6.2</td>\n",
       "      <td>NaN</td>\n",
       "      <td>8.15</td>\n",
       "    </tr>\n",
       "  </tbody>\n",
       "</table>\n",
       "</div>"
      ],
      "text/plain": [
       "  station_code                                       station_name  \\\n",
       "0    CPCB_1158                                MANER AT SOMNAPALLI   \n",
       "1    CPCB_1174      TUNGABHADRA AT KURNOOL U/S BHAVAPURAM KURNOOL   \n",
       "2    CPCB_1175  KRISHNA A/C WITH TUNGABHADRA SANGAMESHWARAM KU...   \n",
       "3    CPCB_1178                PALLERU B/C WITH KRISHNA JAGGAIAPET   \n",
       "4    CPCB_1215  MANER AT WARANGAL U/S (RIVER MANERU AT THUMMAL...   \n",
       "\n",
       "    station_type      state_name district_name    block_name      basin_name  \\\n",
       "0  Surface Water  Andhra Pradesh      Warangal       THORRUR  Godavari Basin   \n",
       "1  Surface Water  Andhra Pradesh       KURNOOL       KURNOOL   Krishna Basin   \n",
       "2  Surface Water  Andhra Pradesh       KURNOOL     PAGIDYALA   Krishna Basin   \n",
       "3  Surface Water  Andhra Pradesh       KRISHNA  JAGGAYYAPETA   Krishna Basin   \n",
       "4  Surface Water  Andhra Pradesh      Warangal       THORRUR   Krishna Basin   \n",
       "\n",
       "        sub_basin_name agency_name   date_collection  \\\n",
       "0  Pranhita and others        CPCB  08-03-2021 00:00   \n",
       "1    Tungabhadra Lower        CPCB  07-03-2021 00:00   \n",
       "2       Krishna Middle        CPCB  14-03-2021 00:00   \n",
       "3        Krishna Lower        CPCB  24-03-2021 00:00   \n",
       "4        Krishna Lower        CPCB  10-03-2021 00:00   \n",
       "\n",
       "   BIOCHEMICAL OXYGEN DEMAND(mg/L)  DISSOLVED OXYGEN(mg/L).1  False  PH.1  \n",
       "0                              2.1                       5.4    NaN  7.31  \n",
       "1                              2.8                       5.0    NaN  7.70  \n",
       "2                              2.5                       5.6    NaN  7.30  \n",
       "3                              2.6                       7.1    NaN  8.15  \n",
       "4                              2.2                       6.2    NaN  8.15  "
      ]
     },
     "execution_count": 266,
     "metadata": {},
     "output_type": "execute_result"
    }
   ],
   "source": [
    "data.head()"
   ]
  },
  {
   "cell_type": "code",
   "execution_count": 267,
   "id": "7d5163eb",
   "metadata": {},
   "outputs": [
    {
     "data": {
      "text/plain": [
       "0        NaN\n",
       "1        NaN\n",
       "2        NaN\n",
       "3        NaN\n",
       "4        NaN\n",
       "        ... \n",
       "2285     NaN\n",
       "2286     NaN\n",
       "2287    16.0\n",
       "2288     NaN\n",
       "2289    20.0\n",
       "Length: 2290, dtype: float64"
      ]
     },
     "execution_count": 267,
     "metadata": {},
     "output_type": "execute_result"
    }
   ],
   "source": [
    "data.iloc[:, -2]"
   ]
  },
  {
   "cell_type": "code",
   "execution_count": 268,
   "id": "b57d399a",
   "metadata": {},
   "outputs": [
    {
     "data": {
      "text/html": [
       "<div>\n",
       "<style scoped>\n",
       "    .dataframe tbody tr th:only-of-type {\n",
       "        vertical-align: middle;\n",
       "    }\n",
       "\n",
       "    .dataframe tbody tr th {\n",
       "        vertical-align: top;\n",
       "    }\n",
       "\n",
       "    .dataframe thead th {\n",
       "        text-align: right;\n",
       "    }\n",
       "</style>\n",
       "<table border=\"1\" class=\"dataframe\">\n",
       "  <thead>\n",
       "    <tr style=\"text-align: right;\">\n",
       "      <th></th>\n",
       "      <th>station_code</th>\n",
       "      <th>station_name</th>\n",
       "      <th>station_type</th>\n",
       "      <th>state_name</th>\n",
       "      <th>district_name</th>\n",
       "      <th>block_name</th>\n",
       "      <th>basin_name</th>\n",
       "      <th>sub_basin_name</th>\n",
       "      <th>agency_name</th>\n",
       "      <th>date_collection</th>\n",
       "      <th>BIOCHEMICAL OXYGEN DEMAND(mg/L)</th>\n",
       "      <th>DISSOLVED OXYGEN(mg/L).1</th>\n",
       "      <th>False</th>\n",
       "      <th>PH.1</th>\n",
       "    </tr>\n",
       "  </thead>\n",
       "  <tbody>\n",
       "    <tr>\n",
       "      <th>0</th>\n",
       "      <td>CPCB_1158</td>\n",
       "      <td>MANER AT SOMNAPALLI</td>\n",
       "      <td>Surface Water</td>\n",
       "      <td>Andhra Pradesh</td>\n",
       "      <td>Warangal</td>\n",
       "      <td>THORRUR</td>\n",
       "      <td>Godavari Basin</td>\n",
       "      <td>Pranhita and others</td>\n",
       "      <td>CPCB</td>\n",
       "      <td>08-03-2021 00:00</td>\n",
       "      <td>2.1</td>\n",
       "      <td>5.4</td>\n",
       "      <td>NaN</td>\n",
       "      <td>7.31</td>\n",
       "    </tr>\n",
       "    <tr>\n",
       "      <th>1</th>\n",
       "      <td>CPCB_1174</td>\n",
       "      <td>TUNGABHADRA AT KURNOOL U/S BHAVAPURAM KURNOOL</td>\n",
       "      <td>Surface Water</td>\n",
       "      <td>Andhra Pradesh</td>\n",
       "      <td>KURNOOL</td>\n",
       "      <td>KURNOOL</td>\n",
       "      <td>Krishna Basin</td>\n",
       "      <td>Tungabhadra Lower</td>\n",
       "      <td>CPCB</td>\n",
       "      <td>07-03-2021 00:00</td>\n",
       "      <td>2.8</td>\n",
       "      <td>5.0</td>\n",
       "      <td>NaN</td>\n",
       "      <td>7.70</td>\n",
       "    </tr>\n",
       "    <tr>\n",
       "      <th>2</th>\n",
       "      <td>CPCB_1175</td>\n",
       "      <td>KRISHNA A/C WITH TUNGABHADRA SANGAMESHWARAM KU...</td>\n",
       "      <td>Surface Water</td>\n",
       "      <td>Andhra Pradesh</td>\n",
       "      <td>KURNOOL</td>\n",
       "      <td>PAGIDYALA</td>\n",
       "      <td>Krishna Basin</td>\n",
       "      <td>Krishna Middle</td>\n",
       "      <td>CPCB</td>\n",
       "      <td>14-03-2021 00:00</td>\n",
       "      <td>2.5</td>\n",
       "      <td>5.6</td>\n",
       "      <td>NaN</td>\n",
       "      <td>7.30</td>\n",
       "    </tr>\n",
       "    <tr>\n",
       "      <th>3</th>\n",
       "      <td>CPCB_1178</td>\n",
       "      <td>PALLERU B/C WITH KRISHNA JAGGAIAPET</td>\n",
       "      <td>Surface Water</td>\n",
       "      <td>Andhra Pradesh</td>\n",
       "      <td>KRISHNA</td>\n",
       "      <td>JAGGAYYAPETA</td>\n",
       "      <td>Krishna Basin</td>\n",
       "      <td>Krishna Lower</td>\n",
       "      <td>CPCB</td>\n",
       "      <td>24-03-2021 00:00</td>\n",
       "      <td>2.6</td>\n",
       "      <td>7.1</td>\n",
       "      <td>NaN</td>\n",
       "      <td>8.15</td>\n",
       "    </tr>\n",
       "    <tr>\n",
       "      <th>4</th>\n",
       "      <td>CPCB_1215</td>\n",
       "      <td>MANER AT WARANGAL U/S (RIVER MANERU AT THUMMAL...</td>\n",
       "      <td>Surface Water</td>\n",
       "      <td>Andhra Pradesh</td>\n",
       "      <td>Warangal</td>\n",
       "      <td>THORRUR</td>\n",
       "      <td>Krishna Basin</td>\n",
       "      <td>Krishna Lower</td>\n",
       "      <td>CPCB</td>\n",
       "      <td>10-03-2021 00:00</td>\n",
       "      <td>2.2</td>\n",
       "      <td>6.2</td>\n",
       "      <td>NaN</td>\n",
       "      <td>8.15</td>\n",
       "    </tr>\n",
       "  </tbody>\n",
       "</table>\n",
       "</div>"
      ],
      "text/plain": [
       "  station_code                                       station_name  \\\n",
       "0    CPCB_1158                                MANER AT SOMNAPALLI   \n",
       "1    CPCB_1174      TUNGABHADRA AT KURNOOL U/S BHAVAPURAM KURNOOL   \n",
       "2    CPCB_1175  KRISHNA A/C WITH TUNGABHADRA SANGAMESHWARAM KU...   \n",
       "3    CPCB_1178                PALLERU B/C WITH KRISHNA JAGGAIAPET   \n",
       "4    CPCB_1215  MANER AT WARANGAL U/S (RIVER MANERU AT THUMMAL...   \n",
       "\n",
       "    station_type      state_name district_name    block_name      basin_name  \\\n",
       "0  Surface Water  Andhra Pradesh      Warangal       THORRUR  Godavari Basin   \n",
       "1  Surface Water  Andhra Pradesh       KURNOOL       KURNOOL   Krishna Basin   \n",
       "2  Surface Water  Andhra Pradesh       KURNOOL     PAGIDYALA   Krishna Basin   \n",
       "3  Surface Water  Andhra Pradesh       KRISHNA  JAGGAYYAPETA   Krishna Basin   \n",
       "4  Surface Water  Andhra Pradesh      Warangal       THORRUR   Krishna Basin   \n",
       "\n",
       "        sub_basin_name agency_name   date_collection  \\\n",
       "0  Pranhita and others        CPCB  08-03-2021 00:00   \n",
       "1    Tungabhadra Lower        CPCB  07-03-2021 00:00   \n",
       "2       Krishna Middle        CPCB  14-03-2021 00:00   \n",
       "3        Krishna Lower        CPCB  24-03-2021 00:00   \n",
       "4        Krishna Lower        CPCB  10-03-2021 00:00   \n",
       "\n",
       "   BIOCHEMICAL OXYGEN DEMAND(mg/L)  DISSOLVED OXYGEN(mg/L).1  False  PH.1  \n",
       "0                              2.1                       5.4    NaN  7.31  \n",
       "1                              2.8                       5.0    NaN  7.70  \n",
       "2                              2.5                       5.6    NaN  7.30  \n",
       "3                              2.6                       7.1    NaN  8.15  \n",
       "4                              2.2                       6.2    NaN  8.15  "
      ]
     },
     "execution_count": 268,
     "metadata": {},
     "output_type": "execute_result"
    }
   ],
   "source": [
    "data.head()"
   ]
  },
  {
   "cell_type": "code",
   "execution_count": 269,
   "id": "2b4bea2f",
   "metadata": {},
   "outputs": [],
   "source": [
    "ph1 = data.iloc[:, -1]"
   ]
  },
  {
   "cell_type": "code",
   "execution_count": 270,
   "id": "b28698f6",
   "metadata": {},
   "outputs": [],
   "source": [
    "data = data.iloc[:, :-2]"
   ]
  },
  {
   "cell_type": "code",
   "execution_count": 271,
   "id": "cf3067ed",
   "metadata": {},
   "outputs": [
    {
     "data": {
      "text/html": [
       "<div>\n",
       "<style scoped>\n",
       "    .dataframe tbody tr th:only-of-type {\n",
       "        vertical-align: middle;\n",
       "    }\n",
       "\n",
       "    .dataframe tbody tr th {\n",
       "        vertical-align: top;\n",
       "    }\n",
       "\n",
       "    .dataframe thead th {\n",
       "        text-align: right;\n",
       "    }\n",
       "</style>\n",
       "<table border=\"1\" class=\"dataframe\">\n",
       "  <thead>\n",
       "    <tr style=\"text-align: right;\">\n",
       "      <th></th>\n",
       "      <th>station_code</th>\n",
       "      <th>station_name</th>\n",
       "      <th>station_type</th>\n",
       "      <th>state_name</th>\n",
       "      <th>district_name</th>\n",
       "      <th>block_name</th>\n",
       "      <th>basin_name</th>\n",
       "      <th>sub_basin_name</th>\n",
       "      <th>agency_name</th>\n",
       "      <th>date_collection</th>\n",
       "      <th>BIOCHEMICAL OXYGEN DEMAND(mg/L)</th>\n",
       "      <th>DISSOLVED OXYGEN(mg/L).1</th>\n",
       "    </tr>\n",
       "  </thead>\n",
       "  <tbody>\n",
       "    <tr>\n",
       "      <th>0</th>\n",
       "      <td>CPCB_1158</td>\n",
       "      <td>MANER AT SOMNAPALLI</td>\n",
       "      <td>Surface Water</td>\n",
       "      <td>Andhra Pradesh</td>\n",
       "      <td>Warangal</td>\n",
       "      <td>THORRUR</td>\n",
       "      <td>Godavari Basin</td>\n",
       "      <td>Pranhita and others</td>\n",
       "      <td>CPCB</td>\n",
       "      <td>08-03-2021 00:00</td>\n",
       "      <td>2.1</td>\n",
       "      <td>5.4</td>\n",
       "    </tr>\n",
       "    <tr>\n",
       "      <th>1</th>\n",
       "      <td>CPCB_1174</td>\n",
       "      <td>TUNGABHADRA AT KURNOOL U/S BHAVAPURAM KURNOOL</td>\n",
       "      <td>Surface Water</td>\n",
       "      <td>Andhra Pradesh</td>\n",
       "      <td>KURNOOL</td>\n",
       "      <td>KURNOOL</td>\n",
       "      <td>Krishna Basin</td>\n",
       "      <td>Tungabhadra Lower</td>\n",
       "      <td>CPCB</td>\n",
       "      <td>07-03-2021 00:00</td>\n",
       "      <td>2.8</td>\n",
       "      <td>5.0</td>\n",
       "    </tr>\n",
       "    <tr>\n",
       "      <th>2</th>\n",
       "      <td>CPCB_1175</td>\n",
       "      <td>KRISHNA A/C WITH TUNGABHADRA SANGAMESHWARAM KU...</td>\n",
       "      <td>Surface Water</td>\n",
       "      <td>Andhra Pradesh</td>\n",
       "      <td>KURNOOL</td>\n",
       "      <td>PAGIDYALA</td>\n",
       "      <td>Krishna Basin</td>\n",
       "      <td>Krishna Middle</td>\n",
       "      <td>CPCB</td>\n",
       "      <td>14-03-2021 00:00</td>\n",
       "      <td>2.5</td>\n",
       "      <td>5.6</td>\n",
       "    </tr>\n",
       "    <tr>\n",
       "      <th>3</th>\n",
       "      <td>CPCB_1178</td>\n",
       "      <td>PALLERU B/C WITH KRISHNA JAGGAIAPET</td>\n",
       "      <td>Surface Water</td>\n",
       "      <td>Andhra Pradesh</td>\n",
       "      <td>KRISHNA</td>\n",
       "      <td>JAGGAYYAPETA</td>\n",
       "      <td>Krishna Basin</td>\n",
       "      <td>Krishna Lower</td>\n",
       "      <td>CPCB</td>\n",
       "      <td>24-03-2021 00:00</td>\n",
       "      <td>2.6</td>\n",
       "      <td>7.1</td>\n",
       "    </tr>\n",
       "    <tr>\n",
       "      <th>4</th>\n",
       "      <td>CPCB_1215</td>\n",
       "      <td>MANER AT WARANGAL U/S (RIVER MANERU AT THUMMAL...</td>\n",
       "      <td>Surface Water</td>\n",
       "      <td>Andhra Pradesh</td>\n",
       "      <td>Warangal</td>\n",
       "      <td>THORRUR</td>\n",
       "      <td>Krishna Basin</td>\n",
       "      <td>Krishna Lower</td>\n",
       "      <td>CPCB</td>\n",
       "      <td>10-03-2021 00:00</td>\n",
       "      <td>2.2</td>\n",
       "      <td>6.2</td>\n",
       "    </tr>\n",
       "  </tbody>\n",
       "</table>\n",
       "</div>"
      ],
      "text/plain": [
       "  station_code                                       station_name  \\\n",
       "0    CPCB_1158                                MANER AT SOMNAPALLI   \n",
       "1    CPCB_1174      TUNGABHADRA AT KURNOOL U/S BHAVAPURAM KURNOOL   \n",
       "2    CPCB_1175  KRISHNA A/C WITH TUNGABHADRA SANGAMESHWARAM KU...   \n",
       "3    CPCB_1178                PALLERU B/C WITH KRISHNA JAGGAIAPET   \n",
       "4    CPCB_1215  MANER AT WARANGAL U/S (RIVER MANERU AT THUMMAL...   \n",
       "\n",
       "    station_type      state_name district_name    block_name      basin_name  \\\n",
       "0  Surface Water  Andhra Pradesh      Warangal       THORRUR  Godavari Basin   \n",
       "1  Surface Water  Andhra Pradesh       KURNOOL       KURNOOL   Krishna Basin   \n",
       "2  Surface Water  Andhra Pradesh       KURNOOL     PAGIDYALA   Krishna Basin   \n",
       "3  Surface Water  Andhra Pradesh       KRISHNA  JAGGAYYAPETA   Krishna Basin   \n",
       "4  Surface Water  Andhra Pradesh      Warangal       THORRUR   Krishna Basin   \n",
       "\n",
       "        sub_basin_name agency_name   date_collection  \\\n",
       "0  Pranhita and others        CPCB  08-03-2021 00:00   \n",
       "1    Tungabhadra Lower        CPCB  07-03-2021 00:00   \n",
       "2       Krishna Middle        CPCB  14-03-2021 00:00   \n",
       "3        Krishna Lower        CPCB  24-03-2021 00:00   \n",
       "4        Krishna Lower        CPCB  10-03-2021 00:00   \n",
       "\n",
       "   BIOCHEMICAL OXYGEN DEMAND(mg/L)  DISSOLVED OXYGEN(mg/L).1  \n",
       "0                              2.1                       5.4  \n",
       "1                              2.8                       5.0  \n",
       "2                              2.5                       5.6  \n",
       "3                              2.6                       7.1  \n",
       "4                              2.2                       6.2  "
      ]
     },
     "execution_count": 271,
     "metadata": {},
     "output_type": "execute_result"
    }
   ],
   "source": [
    "data.head()"
   ]
  },
  {
   "cell_type": "code",
   "execution_count": 272,
   "id": "1a510bbc",
   "metadata": {},
   "outputs": [
    {
     "data": {
      "text/html": [
       "<div>\n",
       "<style scoped>\n",
       "    .dataframe tbody tr th:only-of-type {\n",
       "        vertical-align: middle;\n",
       "    }\n",
       "\n",
       "    .dataframe tbody tr th {\n",
       "        vertical-align: top;\n",
       "    }\n",
       "\n",
       "    .dataframe thead th {\n",
       "        text-align: right;\n",
       "    }\n",
       "</style>\n",
       "<table border=\"1\" class=\"dataframe\">\n",
       "  <thead>\n",
       "    <tr style=\"text-align: right;\">\n",
       "      <th></th>\n",
       "      <th>station_code</th>\n",
       "      <th>station_name</th>\n",
       "      <th>station_type</th>\n",
       "      <th>state_name</th>\n",
       "      <th>district_name</th>\n",
       "      <th>block_name</th>\n",
       "      <th>basin_name</th>\n",
       "      <th>sub_basin_name</th>\n",
       "      <th>agency_name</th>\n",
       "      <th>date_collection</th>\n",
       "      <th>BIOCHEMICAL OXYGEN DEMAND(mg/L)</th>\n",
       "      <th>DISSOLVED OXYGEN(mg/L).1</th>\n",
       "    </tr>\n",
       "  </thead>\n",
       "  <tbody>\n",
       "    <tr>\n",
       "      <th>0</th>\n",
       "      <td>CPCB_1158</td>\n",
       "      <td>MANER AT SOMNAPALLI</td>\n",
       "      <td>Surface Water</td>\n",
       "      <td>Andhra Pradesh</td>\n",
       "      <td>Warangal</td>\n",
       "      <td>THORRUR</td>\n",
       "      <td>Godavari Basin</td>\n",
       "      <td>Pranhita and others</td>\n",
       "      <td>CPCB</td>\n",
       "      <td>08-03-2021 00:00</td>\n",
       "      <td>2.1</td>\n",
       "      <td>5.4</td>\n",
       "    </tr>\n",
       "    <tr>\n",
       "      <th>1</th>\n",
       "      <td>CPCB_1174</td>\n",
       "      <td>TUNGABHADRA AT KURNOOL U/S BHAVAPURAM KURNOOL</td>\n",
       "      <td>Surface Water</td>\n",
       "      <td>Andhra Pradesh</td>\n",
       "      <td>KURNOOL</td>\n",
       "      <td>KURNOOL</td>\n",
       "      <td>Krishna Basin</td>\n",
       "      <td>Tungabhadra Lower</td>\n",
       "      <td>CPCB</td>\n",
       "      <td>07-03-2021 00:00</td>\n",
       "      <td>2.8</td>\n",
       "      <td>5.0</td>\n",
       "    </tr>\n",
       "    <tr>\n",
       "      <th>2</th>\n",
       "      <td>CPCB_1175</td>\n",
       "      <td>KRISHNA A/C WITH TUNGABHADRA SANGAMESHWARAM KU...</td>\n",
       "      <td>Surface Water</td>\n",
       "      <td>Andhra Pradesh</td>\n",
       "      <td>KURNOOL</td>\n",
       "      <td>PAGIDYALA</td>\n",
       "      <td>Krishna Basin</td>\n",
       "      <td>Krishna Middle</td>\n",
       "      <td>CPCB</td>\n",
       "      <td>14-03-2021 00:00</td>\n",
       "      <td>2.5</td>\n",
       "      <td>5.6</td>\n",
       "    </tr>\n",
       "    <tr>\n",
       "      <th>3</th>\n",
       "      <td>CPCB_1178</td>\n",
       "      <td>PALLERU B/C WITH KRISHNA JAGGAIAPET</td>\n",
       "      <td>Surface Water</td>\n",
       "      <td>Andhra Pradesh</td>\n",
       "      <td>KRISHNA</td>\n",
       "      <td>JAGGAYYAPETA</td>\n",
       "      <td>Krishna Basin</td>\n",
       "      <td>Krishna Lower</td>\n",
       "      <td>CPCB</td>\n",
       "      <td>24-03-2021 00:00</td>\n",
       "      <td>2.6</td>\n",
       "      <td>7.1</td>\n",
       "    </tr>\n",
       "    <tr>\n",
       "      <th>4</th>\n",
       "      <td>CPCB_1215</td>\n",
       "      <td>MANER AT WARANGAL U/S (RIVER MANERU AT THUMMAL...</td>\n",
       "      <td>Surface Water</td>\n",
       "      <td>Andhra Pradesh</td>\n",
       "      <td>Warangal</td>\n",
       "      <td>THORRUR</td>\n",
       "      <td>Krishna Basin</td>\n",
       "      <td>Krishna Lower</td>\n",
       "      <td>CPCB</td>\n",
       "      <td>10-03-2021 00:00</td>\n",
       "      <td>2.2</td>\n",
       "      <td>6.2</td>\n",
       "    </tr>\n",
       "  </tbody>\n",
       "</table>\n",
       "</div>"
      ],
      "text/plain": [
       "  station_code                                       station_name  \\\n",
       "0    CPCB_1158                                MANER AT SOMNAPALLI   \n",
       "1    CPCB_1174      TUNGABHADRA AT KURNOOL U/S BHAVAPURAM KURNOOL   \n",
       "2    CPCB_1175  KRISHNA A/C WITH TUNGABHADRA SANGAMESHWARAM KU...   \n",
       "3    CPCB_1178                PALLERU B/C WITH KRISHNA JAGGAIAPET   \n",
       "4    CPCB_1215  MANER AT WARANGAL U/S (RIVER MANERU AT THUMMAL...   \n",
       "\n",
       "    station_type      state_name district_name    block_name      basin_name  \\\n",
       "0  Surface Water  Andhra Pradesh      Warangal       THORRUR  Godavari Basin   \n",
       "1  Surface Water  Andhra Pradesh       KURNOOL       KURNOOL   Krishna Basin   \n",
       "2  Surface Water  Andhra Pradesh       KURNOOL     PAGIDYALA   Krishna Basin   \n",
       "3  Surface Water  Andhra Pradesh       KRISHNA  JAGGAYYAPETA   Krishna Basin   \n",
       "4  Surface Water  Andhra Pradesh      Warangal       THORRUR   Krishna Basin   \n",
       "\n",
       "        sub_basin_name agency_name   date_collection  \\\n",
       "0  Pranhita and others        CPCB  08-03-2021 00:00   \n",
       "1    Tungabhadra Lower        CPCB  07-03-2021 00:00   \n",
       "2       Krishna Middle        CPCB  14-03-2021 00:00   \n",
       "3        Krishna Lower        CPCB  24-03-2021 00:00   \n",
       "4        Krishna Lower        CPCB  10-03-2021 00:00   \n",
       "\n",
       "   BIOCHEMICAL OXYGEN DEMAND(mg/L)  DISSOLVED OXYGEN(mg/L).1  \n",
       "0                              2.1                       5.4  \n",
       "1                              2.8                       5.0  \n",
       "2                              2.5                       5.6  \n",
       "3                              2.6                       7.1  \n",
       "4                              2.2                       6.2  "
      ]
     },
     "execution_count": 272,
     "metadata": {},
     "output_type": "execute_result"
    }
   ],
   "source": [
    "data.head()"
   ]
  },
  {
   "cell_type": "code",
   "execution_count": 273,
   "id": "18cdb191",
   "metadata": {},
   "outputs": [],
   "source": [
    "data['PH1'] = ph1"
   ]
  },
  {
   "cell_type": "code",
   "execution_count": 274,
   "id": "5b40cd45",
   "metadata": {},
   "outputs": [
    {
     "data": {
      "text/html": [
       "<div>\n",
       "<style scoped>\n",
       "    .dataframe tbody tr th:only-of-type {\n",
       "        vertical-align: middle;\n",
       "    }\n",
       "\n",
       "    .dataframe tbody tr th {\n",
       "        vertical-align: top;\n",
       "    }\n",
       "\n",
       "    .dataframe thead th {\n",
       "        text-align: right;\n",
       "    }\n",
       "</style>\n",
       "<table border=\"1\" class=\"dataframe\">\n",
       "  <thead>\n",
       "    <tr style=\"text-align: right;\">\n",
       "      <th></th>\n",
       "      <th>station_code</th>\n",
       "      <th>station_name</th>\n",
       "      <th>station_type</th>\n",
       "      <th>state_name</th>\n",
       "      <th>district_name</th>\n",
       "      <th>block_name</th>\n",
       "      <th>basin_name</th>\n",
       "      <th>sub_basin_name</th>\n",
       "      <th>agency_name</th>\n",
       "      <th>date_collection</th>\n",
       "      <th>BIOCHEMICAL OXYGEN DEMAND(mg/L)</th>\n",
       "      <th>DISSOLVED OXYGEN(mg/L).1</th>\n",
       "      <th>PH1</th>\n",
       "    </tr>\n",
       "  </thead>\n",
       "  <tbody>\n",
       "    <tr>\n",
       "      <th>0</th>\n",
       "      <td>CPCB_1158</td>\n",
       "      <td>MANER AT SOMNAPALLI</td>\n",
       "      <td>Surface Water</td>\n",
       "      <td>Andhra Pradesh</td>\n",
       "      <td>Warangal</td>\n",
       "      <td>THORRUR</td>\n",
       "      <td>Godavari Basin</td>\n",
       "      <td>Pranhita and others</td>\n",
       "      <td>CPCB</td>\n",
       "      <td>08-03-2021 00:00</td>\n",
       "      <td>2.1</td>\n",
       "      <td>5.4</td>\n",
       "      <td>7.31</td>\n",
       "    </tr>\n",
       "    <tr>\n",
       "      <th>1</th>\n",
       "      <td>CPCB_1174</td>\n",
       "      <td>TUNGABHADRA AT KURNOOL U/S BHAVAPURAM KURNOOL</td>\n",
       "      <td>Surface Water</td>\n",
       "      <td>Andhra Pradesh</td>\n",
       "      <td>KURNOOL</td>\n",
       "      <td>KURNOOL</td>\n",
       "      <td>Krishna Basin</td>\n",
       "      <td>Tungabhadra Lower</td>\n",
       "      <td>CPCB</td>\n",
       "      <td>07-03-2021 00:00</td>\n",
       "      <td>2.8</td>\n",
       "      <td>5.0</td>\n",
       "      <td>7.70</td>\n",
       "    </tr>\n",
       "    <tr>\n",
       "      <th>2</th>\n",
       "      <td>CPCB_1175</td>\n",
       "      <td>KRISHNA A/C WITH TUNGABHADRA SANGAMESHWARAM KU...</td>\n",
       "      <td>Surface Water</td>\n",
       "      <td>Andhra Pradesh</td>\n",
       "      <td>KURNOOL</td>\n",
       "      <td>PAGIDYALA</td>\n",
       "      <td>Krishna Basin</td>\n",
       "      <td>Krishna Middle</td>\n",
       "      <td>CPCB</td>\n",
       "      <td>14-03-2021 00:00</td>\n",
       "      <td>2.5</td>\n",
       "      <td>5.6</td>\n",
       "      <td>7.30</td>\n",
       "    </tr>\n",
       "    <tr>\n",
       "      <th>3</th>\n",
       "      <td>CPCB_1178</td>\n",
       "      <td>PALLERU B/C WITH KRISHNA JAGGAIAPET</td>\n",
       "      <td>Surface Water</td>\n",
       "      <td>Andhra Pradesh</td>\n",
       "      <td>KRISHNA</td>\n",
       "      <td>JAGGAYYAPETA</td>\n",
       "      <td>Krishna Basin</td>\n",
       "      <td>Krishna Lower</td>\n",
       "      <td>CPCB</td>\n",
       "      <td>24-03-2021 00:00</td>\n",
       "      <td>2.6</td>\n",
       "      <td>7.1</td>\n",
       "      <td>8.15</td>\n",
       "    </tr>\n",
       "    <tr>\n",
       "      <th>4</th>\n",
       "      <td>CPCB_1215</td>\n",
       "      <td>MANER AT WARANGAL U/S (RIVER MANERU AT THUMMAL...</td>\n",
       "      <td>Surface Water</td>\n",
       "      <td>Andhra Pradesh</td>\n",
       "      <td>Warangal</td>\n",
       "      <td>THORRUR</td>\n",
       "      <td>Krishna Basin</td>\n",
       "      <td>Krishna Lower</td>\n",
       "      <td>CPCB</td>\n",
       "      <td>10-03-2021 00:00</td>\n",
       "      <td>2.2</td>\n",
       "      <td>6.2</td>\n",
       "      <td>8.15</td>\n",
       "    </tr>\n",
       "  </tbody>\n",
       "</table>\n",
       "</div>"
      ],
      "text/plain": [
       "  station_code                                       station_name  \\\n",
       "0    CPCB_1158                                MANER AT SOMNAPALLI   \n",
       "1    CPCB_1174      TUNGABHADRA AT KURNOOL U/S BHAVAPURAM KURNOOL   \n",
       "2    CPCB_1175  KRISHNA A/C WITH TUNGABHADRA SANGAMESHWARAM KU...   \n",
       "3    CPCB_1178                PALLERU B/C WITH KRISHNA JAGGAIAPET   \n",
       "4    CPCB_1215  MANER AT WARANGAL U/S (RIVER MANERU AT THUMMAL...   \n",
       "\n",
       "    station_type      state_name district_name    block_name      basin_name  \\\n",
       "0  Surface Water  Andhra Pradesh      Warangal       THORRUR  Godavari Basin   \n",
       "1  Surface Water  Andhra Pradesh       KURNOOL       KURNOOL   Krishna Basin   \n",
       "2  Surface Water  Andhra Pradesh       KURNOOL     PAGIDYALA   Krishna Basin   \n",
       "3  Surface Water  Andhra Pradesh       KRISHNA  JAGGAYYAPETA   Krishna Basin   \n",
       "4  Surface Water  Andhra Pradesh      Warangal       THORRUR   Krishna Basin   \n",
       "\n",
       "        sub_basin_name agency_name   date_collection  \\\n",
       "0  Pranhita and others        CPCB  08-03-2021 00:00   \n",
       "1    Tungabhadra Lower        CPCB  07-03-2021 00:00   \n",
       "2       Krishna Middle        CPCB  14-03-2021 00:00   \n",
       "3        Krishna Lower        CPCB  24-03-2021 00:00   \n",
       "4        Krishna Lower        CPCB  10-03-2021 00:00   \n",
       "\n",
       "   BIOCHEMICAL OXYGEN DEMAND(mg/L)  DISSOLVED OXYGEN(mg/L).1   PH1  \n",
       "0                              2.1                       5.4  7.31  \n",
       "1                              2.8                       5.0  7.70  \n",
       "2                              2.5                       5.6  7.30  \n",
       "3                              2.6                       7.1  8.15  \n",
       "4                              2.2                       6.2  8.15  "
      ]
     },
     "execution_count": 274,
     "metadata": {},
     "output_type": "execute_result"
    }
   ],
   "source": [
    "data.head()"
   ]
  },
  {
   "cell_type": "code",
   "execution_count": 275,
   "id": "59804f36",
   "metadata": {},
   "outputs": [
    {
     "data": {
      "text/plain": [
       "(2290, 13)"
      ]
     },
     "execution_count": 275,
     "metadata": {},
     "output_type": "execute_result"
    }
   ],
   "source": [
    "data.shape"
   ]
  },
  {
   "cell_type": "code",
   "execution_count": 276,
   "id": "4d6580f6",
   "metadata": {},
   "outputs": [
    {
     "data": {
      "text/html": [
       "<div>\n",
       "<style scoped>\n",
       "    .dataframe tbody tr th:only-of-type {\n",
       "        vertical-align: middle;\n",
       "    }\n",
       "\n",
       "    .dataframe tbody tr th {\n",
       "        vertical-align: top;\n",
       "    }\n",
       "\n",
       "    .dataframe thead th {\n",
       "        text-align: right;\n",
       "    }\n",
       "</style>\n",
       "<table border=\"1\" class=\"dataframe\">\n",
       "  <thead>\n",
       "    <tr style=\"text-align: right;\">\n",
       "      <th></th>\n",
       "      <th>station_code</th>\n",
       "      <th>station_name</th>\n",
       "      <th>station_type</th>\n",
       "      <th>state_name</th>\n",
       "      <th>district_name</th>\n",
       "      <th>block_name</th>\n",
       "      <th>basin_name</th>\n",
       "      <th>sub_basin_name</th>\n",
       "      <th>agency_name</th>\n",
       "      <th>date_collection</th>\n",
       "      <th>BIOCHEMICAL OXYGEN DEMAND(mg/L)</th>\n",
       "      <th>DISSOLVED OXYGEN(mg/L).1</th>\n",
       "      <th>PH1</th>\n",
       "    </tr>\n",
       "  </thead>\n",
       "  <tbody>\n",
       "    <tr>\n",
       "      <th>0</th>\n",
       "      <td>CPCB_1158</td>\n",
       "      <td>MANER AT SOMNAPALLI</td>\n",
       "      <td>Surface Water</td>\n",
       "      <td>Andhra Pradesh</td>\n",
       "      <td>Warangal</td>\n",
       "      <td>THORRUR</td>\n",
       "      <td>Godavari Basin</td>\n",
       "      <td>Pranhita and others</td>\n",
       "      <td>CPCB</td>\n",
       "      <td>08-03-2021 00:00</td>\n",
       "      <td>2.1</td>\n",
       "      <td>5.4</td>\n",
       "      <td>7.31</td>\n",
       "    </tr>\n",
       "    <tr>\n",
       "      <th>1</th>\n",
       "      <td>CPCB_1174</td>\n",
       "      <td>TUNGABHADRA AT KURNOOL U/S BHAVAPURAM KURNOOL</td>\n",
       "      <td>Surface Water</td>\n",
       "      <td>Andhra Pradesh</td>\n",
       "      <td>KURNOOL</td>\n",
       "      <td>KURNOOL</td>\n",
       "      <td>Krishna Basin</td>\n",
       "      <td>Tungabhadra Lower</td>\n",
       "      <td>CPCB</td>\n",
       "      <td>07-03-2021 00:00</td>\n",
       "      <td>2.8</td>\n",
       "      <td>5.0</td>\n",
       "      <td>7.70</td>\n",
       "    </tr>\n",
       "    <tr>\n",
       "      <th>2</th>\n",
       "      <td>CPCB_1175</td>\n",
       "      <td>KRISHNA A/C WITH TUNGABHADRA SANGAMESHWARAM KU...</td>\n",
       "      <td>Surface Water</td>\n",
       "      <td>Andhra Pradesh</td>\n",
       "      <td>KURNOOL</td>\n",
       "      <td>PAGIDYALA</td>\n",
       "      <td>Krishna Basin</td>\n",
       "      <td>Krishna Middle</td>\n",
       "      <td>CPCB</td>\n",
       "      <td>14-03-2021 00:00</td>\n",
       "      <td>2.5</td>\n",
       "      <td>5.6</td>\n",
       "      <td>7.30</td>\n",
       "    </tr>\n",
       "    <tr>\n",
       "      <th>3</th>\n",
       "      <td>CPCB_1178</td>\n",
       "      <td>PALLERU B/C WITH KRISHNA JAGGAIAPET</td>\n",
       "      <td>Surface Water</td>\n",
       "      <td>Andhra Pradesh</td>\n",
       "      <td>KRISHNA</td>\n",
       "      <td>JAGGAYYAPETA</td>\n",
       "      <td>Krishna Basin</td>\n",
       "      <td>Krishna Lower</td>\n",
       "      <td>CPCB</td>\n",
       "      <td>24-03-2021 00:00</td>\n",
       "      <td>2.6</td>\n",
       "      <td>7.1</td>\n",
       "      <td>8.15</td>\n",
       "    </tr>\n",
       "    <tr>\n",
       "      <th>4</th>\n",
       "      <td>CPCB_1215</td>\n",
       "      <td>MANER AT WARANGAL U/S (RIVER MANERU AT THUMMAL...</td>\n",
       "      <td>Surface Water</td>\n",
       "      <td>Andhra Pradesh</td>\n",
       "      <td>Warangal</td>\n",
       "      <td>THORRUR</td>\n",
       "      <td>Krishna Basin</td>\n",
       "      <td>Krishna Lower</td>\n",
       "      <td>CPCB</td>\n",
       "      <td>10-03-2021 00:00</td>\n",
       "      <td>2.2</td>\n",
       "      <td>6.2</td>\n",
       "      <td>8.15</td>\n",
       "    </tr>\n",
       "  </tbody>\n",
       "</table>\n",
       "</div>"
      ],
      "text/plain": [
       "  station_code                                       station_name  \\\n",
       "0    CPCB_1158                                MANER AT SOMNAPALLI   \n",
       "1    CPCB_1174      TUNGABHADRA AT KURNOOL U/S BHAVAPURAM KURNOOL   \n",
       "2    CPCB_1175  KRISHNA A/C WITH TUNGABHADRA SANGAMESHWARAM KU...   \n",
       "3    CPCB_1178                PALLERU B/C WITH KRISHNA JAGGAIAPET   \n",
       "4    CPCB_1215  MANER AT WARANGAL U/S (RIVER MANERU AT THUMMAL...   \n",
       "\n",
       "    station_type      state_name district_name    block_name      basin_name  \\\n",
       "0  Surface Water  Andhra Pradesh      Warangal       THORRUR  Godavari Basin   \n",
       "1  Surface Water  Andhra Pradesh       KURNOOL       KURNOOL   Krishna Basin   \n",
       "2  Surface Water  Andhra Pradesh       KURNOOL     PAGIDYALA   Krishna Basin   \n",
       "3  Surface Water  Andhra Pradesh       KRISHNA  JAGGAYYAPETA   Krishna Basin   \n",
       "4  Surface Water  Andhra Pradesh      Warangal       THORRUR   Krishna Basin   \n",
       "\n",
       "        sub_basin_name agency_name   date_collection  \\\n",
       "0  Pranhita and others        CPCB  08-03-2021 00:00   \n",
       "1    Tungabhadra Lower        CPCB  07-03-2021 00:00   \n",
       "2       Krishna Middle        CPCB  14-03-2021 00:00   \n",
       "3        Krishna Lower        CPCB  24-03-2021 00:00   \n",
       "4        Krishna Lower        CPCB  10-03-2021 00:00   \n",
       "\n",
       "   BIOCHEMICAL OXYGEN DEMAND(mg/L)  DISSOLVED OXYGEN(mg/L).1   PH1  \n",
       "0                              2.1                       5.4  7.31  \n",
       "1                              2.8                       5.0  7.70  \n",
       "2                              2.5                       5.6  7.30  \n",
       "3                              2.6                       7.1  8.15  \n",
       "4                              2.2                       6.2  8.15  "
      ]
     },
     "execution_count": 276,
     "metadata": {},
     "output_type": "execute_result"
    }
   ],
   "source": [
    "data.head()"
   ]
  },
  {
   "cell_type": "code",
   "execution_count": 277,
   "id": "deecd4d3",
   "metadata": {},
   "outputs": [
    {
     "data": {
      "text/plain": [
       "station_code                         0\n",
       "station_name                         0\n",
       "station_type                         0\n",
       "state_name                           0\n",
       "district_name                        0\n",
       "block_name                          22\n",
       "basin_name                           3\n",
       "sub_basin_name                       3\n",
       "agency_name                          0\n",
       "date_collection                      0\n",
       "BIOCHEMICAL OXYGEN DEMAND(mg/L)    421\n",
       "DISSOLVED OXYGEN(mg/L).1           168\n",
       "PH1                                 66\n",
       "dtype: int64"
      ]
     },
     "execution_count": 277,
     "metadata": {},
     "output_type": "execute_result"
    }
   ],
   "source": [
    "data.isnull().sum()"
   ]
  },
  {
   "cell_type": "code",
   "execution_count": 278,
   "id": "3c520499",
   "metadata": {},
   "outputs": [],
   "source": [
    "# BIOCHEMICAL OXYGEN DEMAND(mg/L) column\n",
    "\n",
    "# data.iloc[:, -3]\n",
    "\n",
    "# filling the nan values for the above column\n",
    "data['BIOCHEMICAL OXYGEN DEMAND(mg/L)'].fillna(value = data['BIOCHEMICAL OXYGEN DEMAND(mg/L)'].mean(), inplace = True)"
   ]
  },
  {
   "cell_type": "code",
   "execution_count": 279,
   "id": "59f12298",
   "metadata": {},
   "outputs": [
    {
     "data": {
      "text/plain": [
       "station_code                         0\n",
       "station_name                         0\n",
       "station_type                         0\n",
       "state_name                           0\n",
       "district_name                        0\n",
       "block_name                          22\n",
       "basin_name                           3\n",
       "sub_basin_name                       3\n",
       "agency_name                          0\n",
       "date_collection                      0\n",
       "BIOCHEMICAL OXYGEN DEMAND(mg/L)      0\n",
       "DISSOLVED OXYGEN(mg/L).1           168\n",
       "PH1                                 66\n",
       "dtype: int64"
      ]
     },
     "execution_count": 279,
     "metadata": {},
     "output_type": "execute_result"
    }
   ],
   "source": [
    "data.isnull().sum()"
   ]
  },
  {
   "cell_type": "code",
   "execution_count": 280,
   "id": "89e5d544",
   "metadata": {},
   "outputs": [],
   "source": [
    "# DISSOLVED OXYGEN(mg/L).1\n",
    "# data.iloc[:, -2]\n",
    "\n",
    "data['DISSOLVED OXYGEN(mg/L).1'].fillna(data['DISSOLVED OXYGEN(mg/L).1'].mean(), inplace = True)"
   ]
  },
  {
   "cell_type": "code",
   "execution_count": 281,
   "id": "05685106",
   "metadata": {},
   "outputs": [
    {
     "data": {
      "text/plain": [
       "station_code                        0\n",
       "station_name                        0\n",
       "station_type                        0\n",
       "state_name                          0\n",
       "district_name                       0\n",
       "block_name                         22\n",
       "basin_name                          3\n",
       "sub_basin_name                      3\n",
       "agency_name                         0\n",
       "date_collection                     0\n",
       "BIOCHEMICAL OXYGEN DEMAND(mg/L)     0\n",
       "DISSOLVED OXYGEN(mg/L).1            0\n",
       "PH1                                66\n",
       "dtype: int64"
      ]
     },
     "execution_count": 281,
     "metadata": {},
     "output_type": "execute_result"
    }
   ],
   "source": [
    "data.isnull().sum()"
   ]
  },
  {
   "cell_type": "code",
   "execution_count": 282,
   "id": "b7cd4baa",
   "metadata": {},
   "outputs": [],
   "source": [
    "# PH1 column\n",
    "\n",
    "data['PH1'].fillna(data['PH1'].mean(), inplace = True)"
   ]
  },
  {
   "cell_type": "code",
   "execution_count": 283,
   "id": "21ef399b",
   "metadata": {},
   "outputs": [
    {
     "data": {
      "text/html": [
       "<div>\n",
       "<style scoped>\n",
       "    .dataframe tbody tr th:only-of-type {\n",
       "        vertical-align: middle;\n",
       "    }\n",
       "\n",
       "    .dataframe tbody tr th {\n",
       "        vertical-align: top;\n",
       "    }\n",
       "\n",
       "    .dataframe thead th {\n",
       "        text-align: right;\n",
       "    }\n",
       "</style>\n",
       "<table border=\"1\" class=\"dataframe\">\n",
       "  <thead>\n",
       "    <tr style=\"text-align: right;\">\n",
       "      <th></th>\n",
       "      <th>station_code</th>\n",
       "      <th>station_name</th>\n",
       "      <th>station_type</th>\n",
       "      <th>state_name</th>\n",
       "      <th>district_name</th>\n",
       "      <th>block_name</th>\n",
       "      <th>basin_name</th>\n",
       "      <th>sub_basin_name</th>\n",
       "      <th>agency_name</th>\n",
       "      <th>date_collection</th>\n",
       "      <th>BIOCHEMICAL OXYGEN DEMAND(mg/L)</th>\n",
       "      <th>DISSOLVED OXYGEN(mg/L).1</th>\n",
       "      <th>PH1</th>\n",
       "    </tr>\n",
       "  </thead>\n",
       "  <tbody>\n",
       "    <tr>\n",
       "      <th>0</th>\n",
       "      <td>CPCB_1158</td>\n",
       "      <td>MANER AT SOMNAPALLI</td>\n",
       "      <td>Surface Water</td>\n",
       "      <td>Andhra Pradesh</td>\n",
       "      <td>Warangal</td>\n",
       "      <td>THORRUR</td>\n",
       "      <td>Godavari Basin</td>\n",
       "      <td>Pranhita and others</td>\n",
       "      <td>CPCB</td>\n",
       "      <td>08-03-2021 00:00</td>\n",
       "      <td>2.1</td>\n",
       "      <td>5.4</td>\n",
       "      <td>7.31</td>\n",
       "    </tr>\n",
       "    <tr>\n",
       "      <th>1</th>\n",
       "      <td>CPCB_1174</td>\n",
       "      <td>TUNGABHADRA AT KURNOOL U/S BHAVAPURAM KURNOOL</td>\n",
       "      <td>Surface Water</td>\n",
       "      <td>Andhra Pradesh</td>\n",
       "      <td>KURNOOL</td>\n",
       "      <td>KURNOOL</td>\n",
       "      <td>Krishna Basin</td>\n",
       "      <td>Tungabhadra Lower</td>\n",
       "      <td>CPCB</td>\n",
       "      <td>07-03-2021 00:00</td>\n",
       "      <td>2.8</td>\n",
       "      <td>5.0</td>\n",
       "      <td>7.70</td>\n",
       "    </tr>\n",
       "    <tr>\n",
       "      <th>2</th>\n",
       "      <td>CPCB_1175</td>\n",
       "      <td>KRISHNA A/C WITH TUNGABHADRA SANGAMESHWARAM KU...</td>\n",
       "      <td>Surface Water</td>\n",
       "      <td>Andhra Pradesh</td>\n",
       "      <td>KURNOOL</td>\n",
       "      <td>PAGIDYALA</td>\n",
       "      <td>Krishna Basin</td>\n",
       "      <td>Krishna Middle</td>\n",
       "      <td>CPCB</td>\n",
       "      <td>14-03-2021 00:00</td>\n",
       "      <td>2.5</td>\n",
       "      <td>5.6</td>\n",
       "      <td>7.30</td>\n",
       "    </tr>\n",
       "    <tr>\n",
       "      <th>3</th>\n",
       "      <td>CPCB_1178</td>\n",
       "      <td>PALLERU B/C WITH KRISHNA JAGGAIAPET</td>\n",
       "      <td>Surface Water</td>\n",
       "      <td>Andhra Pradesh</td>\n",
       "      <td>KRISHNA</td>\n",
       "      <td>JAGGAYYAPETA</td>\n",
       "      <td>Krishna Basin</td>\n",
       "      <td>Krishna Lower</td>\n",
       "      <td>CPCB</td>\n",
       "      <td>24-03-2021 00:00</td>\n",
       "      <td>2.6</td>\n",
       "      <td>7.1</td>\n",
       "      <td>8.15</td>\n",
       "    </tr>\n",
       "    <tr>\n",
       "      <th>4</th>\n",
       "      <td>CPCB_1215</td>\n",
       "      <td>MANER AT WARANGAL U/S (RIVER MANERU AT THUMMAL...</td>\n",
       "      <td>Surface Water</td>\n",
       "      <td>Andhra Pradesh</td>\n",
       "      <td>Warangal</td>\n",
       "      <td>THORRUR</td>\n",
       "      <td>Krishna Basin</td>\n",
       "      <td>Krishna Lower</td>\n",
       "      <td>CPCB</td>\n",
       "      <td>10-03-2021 00:00</td>\n",
       "      <td>2.2</td>\n",
       "      <td>6.2</td>\n",
       "      <td>8.15</td>\n",
       "    </tr>\n",
       "  </tbody>\n",
       "</table>\n",
       "</div>"
      ],
      "text/plain": [
       "  station_code                                       station_name  \\\n",
       "0    CPCB_1158                                MANER AT SOMNAPALLI   \n",
       "1    CPCB_1174      TUNGABHADRA AT KURNOOL U/S BHAVAPURAM KURNOOL   \n",
       "2    CPCB_1175  KRISHNA A/C WITH TUNGABHADRA SANGAMESHWARAM KU...   \n",
       "3    CPCB_1178                PALLERU B/C WITH KRISHNA JAGGAIAPET   \n",
       "4    CPCB_1215  MANER AT WARANGAL U/S (RIVER MANERU AT THUMMAL...   \n",
       "\n",
       "    station_type      state_name district_name    block_name      basin_name  \\\n",
       "0  Surface Water  Andhra Pradesh      Warangal       THORRUR  Godavari Basin   \n",
       "1  Surface Water  Andhra Pradesh       KURNOOL       KURNOOL   Krishna Basin   \n",
       "2  Surface Water  Andhra Pradesh       KURNOOL     PAGIDYALA   Krishna Basin   \n",
       "3  Surface Water  Andhra Pradesh       KRISHNA  JAGGAYYAPETA   Krishna Basin   \n",
       "4  Surface Water  Andhra Pradesh      Warangal       THORRUR   Krishna Basin   \n",
       "\n",
       "        sub_basin_name agency_name   date_collection  \\\n",
       "0  Pranhita and others        CPCB  08-03-2021 00:00   \n",
       "1    Tungabhadra Lower        CPCB  07-03-2021 00:00   \n",
       "2       Krishna Middle        CPCB  14-03-2021 00:00   \n",
       "3        Krishna Lower        CPCB  24-03-2021 00:00   \n",
       "4        Krishna Lower        CPCB  10-03-2021 00:00   \n",
       "\n",
       "   BIOCHEMICAL OXYGEN DEMAND(mg/L)  DISSOLVED OXYGEN(mg/L).1   PH1  \n",
       "0                              2.1                       5.4  7.31  \n",
       "1                              2.8                       5.0  7.70  \n",
       "2                              2.5                       5.6  7.30  \n",
       "3                              2.6                       7.1  8.15  \n",
       "4                              2.2                       6.2  8.15  "
      ]
     },
     "execution_count": 283,
     "metadata": {},
     "output_type": "execute_result"
    }
   ],
   "source": [
    "data.head()"
   ]
  },
  {
   "cell_type": "code",
   "execution_count": 284,
   "id": "01ab1fd5",
   "metadata": {},
   "outputs": [
    {
     "data": {
      "text/plain": [
       "station_code                        0\n",
       "station_name                        0\n",
       "station_type                        0\n",
       "state_name                          0\n",
       "district_name                       0\n",
       "block_name                         22\n",
       "basin_name                          3\n",
       "sub_basin_name                      3\n",
       "agency_name                         0\n",
       "date_collection                     0\n",
       "BIOCHEMICAL OXYGEN DEMAND(mg/L)     0\n",
       "DISSOLVED OXYGEN(mg/L).1            0\n",
       "PH1                                 0\n",
       "dtype: int64"
      ]
     },
     "execution_count": 284,
     "metadata": {},
     "output_type": "execute_result"
    }
   ],
   "source": [
    "data.isnull().sum()"
   ]
  },
  {
   "cell_type": "code",
   "execution_count": 285,
   "id": "0625b454",
   "metadata": {},
   "outputs": [
    {
     "data": {
      "text/plain": [
       "station_code                        object\n",
       "station_name                        object\n",
       "station_type                        object\n",
       "state_name                          object\n",
       "district_name                       object\n",
       "block_name                          object\n",
       "basin_name                          object\n",
       "sub_basin_name                      object\n",
       "agency_name                         object\n",
       "date_collection                     object\n",
       "BIOCHEMICAL OXYGEN DEMAND(mg/L)    float64\n",
       "DISSOLVED OXYGEN(mg/L).1           float64\n",
       "PH1                                float64\n",
       "dtype: object"
      ]
     },
     "execution_count": 285,
     "metadata": {},
     "output_type": "execute_result"
    }
   ],
   "source": [
    "data.dtypes"
   ]
  },
  {
   "cell_type": "code",
   "execution_count": 286,
   "id": "01b67582",
   "metadata": {},
   "outputs": [
    {
     "data": {
      "text/plain": [
       "883"
      ]
     },
     "execution_count": 286,
     "metadata": {},
     "output_type": "execute_result"
    }
   ],
   "source": [
    "data['block_name'].nunique()"
   ]
  },
  {
   "cell_type": "code",
   "execution_count": 287,
   "id": "2449399c",
   "metadata": {},
   "outputs": [],
   "source": [
    "data = data.dropna()"
   ]
  },
  {
   "cell_type": "code",
   "execution_count": 288,
   "id": "8a5d5dff",
   "metadata": {},
   "outputs": [
    {
     "data": {
      "text/plain": [
       "station_code                       0\n",
       "station_name                       0\n",
       "station_type                       0\n",
       "state_name                         0\n",
       "district_name                      0\n",
       "block_name                         0\n",
       "basin_name                         0\n",
       "sub_basin_name                     0\n",
       "agency_name                        0\n",
       "date_collection                    0\n",
       "BIOCHEMICAL OXYGEN DEMAND(mg/L)    0\n",
       "DISSOLVED OXYGEN(mg/L).1           0\n",
       "PH1                                0\n",
       "dtype: int64"
      ]
     },
     "execution_count": 288,
     "metadata": {},
     "output_type": "execute_result"
    }
   ],
   "source": [
    "data.isnull().sum()"
   ]
  },
  {
   "cell_type": "code",
   "execution_count": 289,
   "id": "0a97a942",
   "metadata": {},
   "outputs": [
    {
     "data": {
      "text/plain": [
       "(2265, 13)"
      ]
     },
     "execution_count": 289,
     "metadata": {},
     "output_type": "execute_result"
    }
   ],
   "source": [
    "data.shape"
   ]
  },
  {
   "cell_type": "code",
   "execution_count": 290,
   "id": "317b3a23",
   "metadata": {},
   "outputs": [
    {
     "data": {
      "text/html": [
       "<div>\n",
       "<style scoped>\n",
       "    .dataframe tbody tr th:only-of-type {\n",
       "        vertical-align: middle;\n",
       "    }\n",
       "\n",
       "    .dataframe tbody tr th {\n",
       "        vertical-align: top;\n",
       "    }\n",
       "\n",
       "    .dataframe thead th {\n",
       "        text-align: right;\n",
       "    }\n",
       "</style>\n",
       "<table border=\"1\" class=\"dataframe\">\n",
       "  <thead>\n",
       "    <tr style=\"text-align: right;\">\n",
       "      <th></th>\n",
       "      <th>station_code</th>\n",
       "      <th>station_name</th>\n",
       "      <th>station_type</th>\n",
       "      <th>state_name</th>\n",
       "      <th>district_name</th>\n",
       "      <th>block_name</th>\n",
       "      <th>basin_name</th>\n",
       "      <th>sub_basin_name</th>\n",
       "      <th>agency_name</th>\n",
       "      <th>date_collection</th>\n",
       "      <th>BIOCHEMICAL OXYGEN DEMAND(mg/L)</th>\n",
       "      <th>DISSOLVED OXYGEN(mg/L).1</th>\n",
       "      <th>PH1</th>\n",
       "    </tr>\n",
       "  </thead>\n",
       "  <tbody>\n",
       "    <tr>\n",
       "      <th>0</th>\n",
       "      <td>CPCB_1158</td>\n",
       "      <td>MANER AT SOMNAPALLI</td>\n",
       "      <td>Surface Water</td>\n",
       "      <td>Andhra Pradesh</td>\n",
       "      <td>Warangal</td>\n",
       "      <td>THORRUR</td>\n",
       "      <td>Godavari Basin</td>\n",
       "      <td>Pranhita and others</td>\n",
       "      <td>CPCB</td>\n",
       "      <td>08-03-2021 00:00</td>\n",
       "      <td>2.1</td>\n",
       "      <td>5.4</td>\n",
       "      <td>7.31</td>\n",
       "    </tr>\n",
       "    <tr>\n",
       "      <th>1</th>\n",
       "      <td>CPCB_1174</td>\n",
       "      <td>TUNGABHADRA AT KURNOOL U/S BHAVAPURAM KURNOOL</td>\n",
       "      <td>Surface Water</td>\n",
       "      <td>Andhra Pradesh</td>\n",
       "      <td>KURNOOL</td>\n",
       "      <td>KURNOOL</td>\n",
       "      <td>Krishna Basin</td>\n",
       "      <td>Tungabhadra Lower</td>\n",
       "      <td>CPCB</td>\n",
       "      <td>07-03-2021 00:00</td>\n",
       "      <td>2.8</td>\n",
       "      <td>5.0</td>\n",
       "      <td>7.70</td>\n",
       "    </tr>\n",
       "    <tr>\n",
       "      <th>2</th>\n",
       "      <td>CPCB_1175</td>\n",
       "      <td>KRISHNA A/C WITH TUNGABHADRA SANGAMESHWARAM KU...</td>\n",
       "      <td>Surface Water</td>\n",
       "      <td>Andhra Pradesh</td>\n",
       "      <td>KURNOOL</td>\n",
       "      <td>PAGIDYALA</td>\n",
       "      <td>Krishna Basin</td>\n",
       "      <td>Krishna Middle</td>\n",
       "      <td>CPCB</td>\n",
       "      <td>14-03-2021 00:00</td>\n",
       "      <td>2.5</td>\n",
       "      <td>5.6</td>\n",
       "      <td>7.30</td>\n",
       "    </tr>\n",
       "    <tr>\n",
       "      <th>3</th>\n",
       "      <td>CPCB_1178</td>\n",
       "      <td>PALLERU B/C WITH KRISHNA JAGGAIAPET</td>\n",
       "      <td>Surface Water</td>\n",
       "      <td>Andhra Pradesh</td>\n",
       "      <td>KRISHNA</td>\n",
       "      <td>JAGGAYYAPETA</td>\n",
       "      <td>Krishna Basin</td>\n",
       "      <td>Krishna Lower</td>\n",
       "      <td>CPCB</td>\n",
       "      <td>24-03-2021 00:00</td>\n",
       "      <td>2.6</td>\n",
       "      <td>7.1</td>\n",
       "      <td>8.15</td>\n",
       "    </tr>\n",
       "    <tr>\n",
       "      <th>4</th>\n",
       "      <td>CPCB_1215</td>\n",
       "      <td>MANER AT WARANGAL U/S (RIVER MANERU AT THUMMAL...</td>\n",
       "      <td>Surface Water</td>\n",
       "      <td>Andhra Pradesh</td>\n",
       "      <td>Warangal</td>\n",
       "      <td>THORRUR</td>\n",
       "      <td>Krishna Basin</td>\n",
       "      <td>Krishna Lower</td>\n",
       "      <td>CPCB</td>\n",
       "      <td>10-03-2021 00:00</td>\n",
       "      <td>2.2</td>\n",
       "      <td>6.2</td>\n",
       "      <td>8.15</td>\n",
       "    </tr>\n",
       "    <tr>\n",
       "      <th>5</th>\n",
       "      <td>CPCB_1218</td>\n",
       "      <td>GODAVARI AT RAJAHMUNDRY U/S KUMARADEVAM EAST G...</td>\n",
       "      <td>Surface Water</td>\n",
       "      <td>Andhra Pradesh</td>\n",
       "      <td>WEST GODAVARI</td>\n",
       "      <td>KOVVURU</td>\n",
       "      <td>Godavari Basin</td>\n",
       "      <td>Godavari Lower</td>\n",
       "      <td>CPCB</td>\n",
       "      <td>05-03-2021 00:00</td>\n",
       "      <td>2.0</td>\n",
       "      <td>6.4</td>\n",
       "      <td>7.08</td>\n",
       "    </tr>\n",
       "    <tr>\n",
       "      <th>6</th>\n",
       "      <td>CPCB_1219</td>\n",
       "      <td>GODAVARI AT RAJAHMUNDRY D/S DHAVALESWARAM EAST...</td>\n",
       "      <td>Surface Water</td>\n",
       "      <td>Andhra Pradesh</td>\n",
       "      <td>EAST GODAVARI</td>\n",
       "      <td>GOKAVARAM</td>\n",
       "      <td>Godavari Basin</td>\n",
       "      <td>Godavari Lower</td>\n",
       "      <td>CPCB</td>\n",
       "      <td>08-03-2021 00:00</td>\n",
       "      <td>1.4</td>\n",
       "      <td>8.5</td>\n",
       "      <td>6.83</td>\n",
       "    </tr>\n",
       "    <tr>\n",
       "      <th>7</th>\n",
       "      <td>CPCB_1255</td>\n",
       "      <td>PENNAR B/C WITH CHITRAVATHI TADIPATRI UNGANOOR...</td>\n",
       "      <td>Surface Water</td>\n",
       "      <td>Andhra Pradesh</td>\n",
       "      <td>ANANTAPUR</td>\n",
       "      <td>PUTTAPARTI</td>\n",
       "      <td>Pennar Basin</td>\n",
       "      <td>Pennar Upper</td>\n",
       "      <td>CPCB</td>\n",
       "      <td>10-03-2021 00:00</td>\n",
       "      <td>2.7</td>\n",
       "      <td>4.8</td>\n",
       "      <td>7.90</td>\n",
       "    </tr>\n",
       "    <tr>\n",
       "      <th>8</th>\n",
       "      <td>CPCB_1256</td>\n",
       "      <td>PENNAR A/C WITH PAPAGNI PUSHPAGINI KADAPA</td>\n",
       "      <td>Surface Water</td>\n",
       "      <td>Andhra Pradesh</td>\n",
       "      <td>CUDDAPAH</td>\n",
       "      <td>CHENNUR</td>\n",
       "      <td>Pennar Basin</td>\n",
       "      <td>Pennar Lower</td>\n",
       "      <td>CPCB</td>\n",
       "      <td>04-03-2021 00:00</td>\n",
       "      <td>2.2</td>\n",
       "      <td>5.1</td>\n",
       "      <td>7.20</td>\n",
       "    </tr>\n",
       "    <tr>\n",
       "      <th>9</th>\n",
       "      <td>CPCB_1257</td>\n",
       "      <td>PENNAR A/C WITH CHEYYURU SOMASILA NELLORE</td>\n",
       "      <td>Surface Water</td>\n",
       "      <td>Andhra Pradesh</td>\n",
       "      <td>CUDDAPAH</td>\n",
       "      <td>PENAGALUR</td>\n",
       "      <td>Pennar Basin</td>\n",
       "      <td>Pennar Lower</td>\n",
       "      <td>CPCB</td>\n",
       "      <td>08-03-2021 00:00</td>\n",
       "      <td>2.4</td>\n",
       "      <td>7.2</td>\n",
       "      <td>8.09</td>\n",
       "    </tr>\n",
       "  </tbody>\n",
       "</table>\n",
       "</div>"
      ],
      "text/plain": [
       "  station_code                                       station_name  \\\n",
       "0    CPCB_1158                                MANER AT SOMNAPALLI   \n",
       "1    CPCB_1174      TUNGABHADRA AT KURNOOL U/S BHAVAPURAM KURNOOL   \n",
       "2    CPCB_1175  KRISHNA A/C WITH TUNGABHADRA SANGAMESHWARAM KU...   \n",
       "3    CPCB_1178                PALLERU B/C WITH KRISHNA JAGGAIAPET   \n",
       "4    CPCB_1215  MANER AT WARANGAL U/S (RIVER MANERU AT THUMMAL...   \n",
       "5    CPCB_1218  GODAVARI AT RAJAHMUNDRY U/S KUMARADEVAM EAST G...   \n",
       "6    CPCB_1219  GODAVARI AT RAJAHMUNDRY D/S DHAVALESWARAM EAST...   \n",
       "7    CPCB_1255  PENNAR B/C WITH CHITRAVATHI TADIPATRI UNGANOOR...   \n",
       "8    CPCB_1256          PENNAR A/C WITH PAPAGNI PUSHPAGINI KADAPA   \n",
       "9    CPCB_1257          PENNAR A/C WITH CHEYYURU SOMASILA NELLORE   \n",
       "\n",
       "    station_type      state_name  district_name    block_name      basin_name  \\\n",
       "0  Surface Water  Andhra Pradesh       Warangal       THORRUR  Godavari Basin   \n",
       "1  Surface Water  Andhra Pradesh        KURNOOL       KURNOOL   Krishna Basin   \n",
       "2  Surface Water  Andhra Pradesh        KURNOOL     PAGIDYALA   Krishna Basin   \n",
       "3  Surface Water  Andhra Pradesh        KRISHNA  JAGGAYYAPETA   Krishna Basin   \n",
       "4  Surface Water  Andhra Pradesh       Warangal       THORRUR   Krishna Basin   \n",
       "5  Surface Water  Andhra Pradesh  WEST GODAVARI       KOVVURU  Godavari Basin   \n",
       "6  Surface Water  Andhra Pradesh  EAST GODAVARI     GOKAVARAM  Godavari Basin   \n",
       "7  Surface Water  Andhra Pradesh      ANANTAPUR    PUTTAPARTI    Pennar Basin   \n",
       "8  Surface Water  Andhra Pradesh       CUDDAPAH       CHENNUR    Pennar Basin   \n",
       "9  Surface Water  Andhra Pradesh       CUDDAPAH     PENAGALUR    Pennar Basin   \n",
       "\n",
       "        sub_basin_name agency_name   date_collection  \\\n",
       "0  Pranhita and others        CPCB  08-03-2021 00:00   \n",
       "1    Tungabhadra Lower        CPCB  07-03-2021 00:00   \n",
       "2       Krishna Middle        CPCB  14-03-2021 00:00   \n",
       "3        Krishna Lower        CPCB  24-03-2021 00:00   \n",
       "4        Krishna Lower        CPCB  10-03-2021 00:00   \n",
       "5       Godavari Lower        CPCB  05-03-2021 00:00   \n",
       "6       Godavari Lower        CPCB  08-03-2021 00:00   \n",
       "7         Pennar Upper        CPCB  10-03-2021 00:00   \n",
       "8         Pennar Lower        CPCB  04-03-2021 00:00   \n",
       "9         Pennar Lower        CPCB  08-03-2021 00:00   \n",
       "\n",
       "   BIOCHEMICAL OXYGEN DEMAND(mg/L)  DISSOLVED OXYGEN(mg/L).1   PH1  \n",
       "0                              2.1                       5.4  7.31  \n",
       "1                              2.8                       5.0  7.70  \n",
       "2                              2.5                       5.6  7.30  \n",
       "3                              2.6                       7.1  8.15  \n",
       "4                              2.2                       6.2  8.15  \n",
       "5                              2.0                       6.4  7.08  \n",
       "6                              1.4                       8.5  6.83  \n",
       "7                              2.7                       4.8  7.90  \n",
       "8                              2.2                       5.1  7.20  \n",
       "9                              2.4                       7.2  8.09  "
      ]
     },
     "execution_count": 290,
     "metadata": {},
     "output_type": "execute_result"
    }
   ],
   "source": [
    "data.head(10)"
   ]
  },
  {
   "cell_type": "code",
   "execution_count": 291,
   "id": "309919c0",
   "metadata": {},
   "outputs": [
    {
     "name": "stdout",
     "output_type": "stream",
     "text": [
      "(129, 13)\n",
      "129\n",
      "(1, 13)\n",
      "1\n",
      "(128, 13)\n",
      "128\n",
      "(118, 13)\n",
      "91\n",
      "(6, 13)\n",
      "6\n",
      "(45, 13)\n",
      "45\n",
      "(1, 13)\n",
      "1\n",
      "(3, 13)\n",
      "3\n",
      "(4, 13)\n",
      "4\n",
      "(53, 13)\n",
      "53\n",
      "(83, 13)\n",
      "83\n",
      "(18, 13)\n",
      "18\n",
      "(141, 13)\n",
      "141\n",
      "(17, 13)\n",
      "17\n",
      "(33, 13)\n",
      "33\n",
      "(252, 13)\n",
      "247\n",
      "(92, 13)\n",
      "92\n",
      "(171, 13)\n",
      "171\n",
      "(155, 13)\n",
      "155\n",
      "(21, 13)\n",
      "21\n",
      "(70, 13)\n",
      "70\n",
      "(49, 13)\n",
      "49\n",
      "(16, 13)\n",
      "16\n",
      "(152, 13)\n",
      "152\n",
      "(1, 13)\n",
      "1\n",
      "(42, 13)\n",
      "42\n",
      "(33, 13)\n",
      "33\n",
      "(12, 13)\n",
      "12\n",
      "(80, 13)\n",
      "80\n",
      "(67, 13)\n",
      "67\n",
      "(63, 13)\n",
      "63\n",
      "(32, 13)\n",
      "26\n",
      "(97, 13)\n",
      "79\n",
      "(80, 13)\n",
      "67\n"
     ]
    }
   ],
   "source": [
    "for i in data['state_name'].unique():\n",
    "    print(data[data['state_name'] == i].shape)\n",
    "    print(data[data['state_name'] == i]['station_name'].nunique())"
   ]
  },
  {
   "cell_type": "code",
   "execution_count": 292,
   "id": "9cb2b6ca",
   "metadata": {},
   "outputs": [
    {
     "data": {
      "text/plain": [
       "array(['Andhra Pradesh', 'Arunachal Pradesh', 'Assam', 'Bihar',\n",
       "       'Chandigarh', 'Chhattisgarh', 'Dadra & Nagar Haveli',\n",
       "       'Daman & Diu', 'Delhi', 'Goa', 'Gujarat', 'Haryana',\n",
       "       'Himachal Pradesh', 'Jammu & Kashmir', 'Jharkhand', 'Karnataka',\n",
       "       'Kerala', 'Madhya Pradesh', 'Maharashtra', 'Manipur', 'Meghalaya',\n",
       "       'Mizoram', 'Nagaland', 'Odisha', 'Puducherry', 'Punjab',\n",
       "       'Rajasthan', 'Sikkim', 'Tamil Nadu', 'Telangana', 'Tripura',\n",
       "       'Uttarakhand', 'Uttar Pradesh', 'West Bengal'], dtype=object)"
      ]
     },
     "execution_count": 292,
     "metadata": {},
     "output_type": "execute_result"
    }
   ],
   "source": [
    "data['state_name'].unique()"
   ]
  },
  {
   "cell_type": "markdown",
   "id": "38881d33",
   "metadata": {},
   "source": [
    "### Checking unique values to clean the data"
   ]
  },
  {
   "cell_type": "code",
   "execution_count": 293,
   "id": "75777795",
   "metadata": {},
   "outputs": [
    {
     "data": {
      "text/plain": [
       "2201"
      ]
     },
     "execution_count": 293,
     "metadata": {},
     "output_type": "execute_result"
    }
   ],
   "source": [
    "data['station_code'].nunique()"
   ]
  },
  {
   "cell_type": "code",
   "execution_count": 294,
   "id": "3a33fed8",
   "metadata": {},
   "outputs": [
    {
     "data": {
      "text/plain": [
       "2196"
      ]
     },
     "execution_count": 294,
     "metadata": {},
     "output_type": "execute_result"
    }
   ],
   "source": [
    "data['station_name'].nunique()"
   ]
  },
  {
   "cell_type": "code",
   "execution_count": 295,
   "id": "912bfba4",
   "metadata": {},
   "outputs": [
    {
     "data": {
      "text/plain": [
       "1"
      ]
     },
     "execution_count": 295,
     "metadata": {},
     "output_type": "execute_result"
    }
   ],
   "source": [
    "data['station_type'].nunique()"
   ]
  },
  {
   "cell_type": "code",
   "execution_count": 296,
   "id": "48593690",
   "metadata": {},
   "outputs": [],
   "source": [
    "data = data.iloc[:, 3:]"
   ]
  },
  {
   "cell_type": "code",
   "execution_count": 297,
   "id": "7dc5685e",
   "metadata": {},
   "outputs": [
    {
     "data": {
      "text/html": [
       "<div>\n",
       "<style scoped>\n",
       "    .dataframe tbody tr th:only-of-type {\n",
       "        vertical-align: middle;\n",
       "    }\n",
       "\n",
       "    .dataframe tbody tr th {\n",
       "        vertical-align: top;\n",
       "    }\n",
       "\n",
       "    .dataframe thead th {\n",
       "        text-align: right;\n",
       "    }\n",
       "</style>\n",
       "<table border=\"1\" class=\"dataframe\">\n",
       "  <thead>\n",
       "    <tr style=\"text-align: right;\">\n",
       "      <th></th>\n",
       "      <th>state_name</th>\n",
       "      <th>district_name</th>\n",
       "      <th>block_name</th>\n",
       "      <th>basin_name</th>\n",
       "      <th>sub_basin_name</th>\n",
       "      <th>agency_name</th>\n",
       "      <th>date_collection</th>\n",
       "      <th>BIOCHEMICAL OXYGEN DEMAND(mg/L)</th>\n",
       "      <th>DISSOLVED OXYGEN(mg/L).1</th>\n",
       "      <th>PH1</th>\n",
       "    </tr>\n",
       "  </thead>\n",
       "  <tbody>\n",
       "    <tr>\n",
       "      <th>0</th>\n",
       "      <td>Andhra Pradesh</td>\n",
       "      <td>Warangal</td>\n",
       "      <td>THORRUR</td>\n",
       "      <td>Godavari Basin</td>\n",
       "      <td>Pranhita and others</td>\n",
       "      <td>CPCB</td>\n",
       "      <td>08-03-2021 00:00</td>\n",
       "      <td>2.1</td>\n",
       "      <td>5.4</td>\n",
       "      <td>7.31</td>\n",
       "    </tr>\n",
       "    <tr>\n",
       "      <th>1</th>\n",
       "      <td>Andhra Pradesh</td>\n",
       "      <td>KURNOOL</td>\n",
       "      <td>KURNOOL</td>\n",
       "      <td>Krishna Basin</td>\n",
       "      <td>Tungabhadra Lower</td>\n",
       "      <td>CPCB</td>\n",
       "      <td>07-03-2021 00:00</td>\n",
       "      <td>2.8</td>\n",
       "      <td>5.0</td>\n",
       "      <td>7.70</td>\n",
       "    </tr>\n",
       "    <tr>\n",
       "      <th>2</th>\n",
       "      <td>Andhra Pradesh</td>\n",
       "      <td>KURNOOL</td>\n",
       "      <td>PAGIDYALA</td>\n",
       "      <td>Krishna Basin</td>\n",
       "      <td>Krishna Middle</td>\n",
       "      <td>CPCB</td>\n",
       "      <td>14-03-2021 00:00</td>\n",
       "      <td>2.5</td>\n",
       "      <td>5.6</td>\n",
       "      <td>7.30</td>\n",
       "    </tr>\n",
       "    <tr>\n",
       "      <th>3</th>\n",
       "      <td>Andhra Pradesh</td>\n",
       "      <td>KRISHNA</td>\n",
       "      <td>JAGGAYYAPETA</td>\n",
       "      <td>Krishna Basin</td>\n",
       "      <td>Krishna Lower</td>\n",
       "      <td>CPCB</td>\n",
       "      <td>24-03-2021 00:00</td>\n",
       "      <td>2.6</td>\n",
       "      <td>7.1</td>\n",
       "      <td>8.15</td>\n",
       "    </tr>\n",
       "    <tr>\n",
       "      <th>4</th>\n",
       "      <td>Andhra Pradesh</td>\n",
       "      <td>Warangal</td>\n",
       "      <td>THORRUR</td>\n",
       "      <td>Krishna Basin</td>\n",
       "      <td>Krishna Lower</td>\n",
       "      <td>CPCB</td>\n",
       "      <td>10-03-2021 00:00</td>\n",
       "      <td>2.2</td>\n",
       "      <td>6.2</td>\n",
       "      <td>8.15</td>\n",
       "    </tr>\n",
       "  </tbody>\n",
       "</table>\n",
       "</div>"
      ],
      "text/plain": [
       "       state_name district_name    block_name      basin_name  \\\n",
       "0  Andhra Pradesh      Warangal       THORRUR  Godavari Basin   \n",
       "1  Andhra Pradesh       KURNOOL       KURNOOL   Krishna Basin   \n",
       "2  Andhra Pradesh       KURNOOL     PAGIDYALA   Krishna Basin   \n",
       "3  Andhra Pradesh       KRISHNA  JAGGAYYAPETA   Krishna Basin   \n",
       "4  Andhra Pradesh      Warangal       THORRUR   Krishna Basin   \n",
       "\n",
       "        sub_basin_name agency_name   date_collection  \\\n",
       "0  Pranhita and others        CPCB  08-03-2021 00:00   \n",
       "1    Tungabhadra Lower        CPCB  07-03-2021 00:00   \n",
       "2       Krishna Middle        CPCB  14-03-2021 00:00   \n",
       "3        Krishna Lower        CPCB  24-03-2021 00:00   \n",
       "4        Krishna Lower        CPCB  10-03-2021 00:00   \n",
       "\n",
       "   BIOCHEMICAL OXYGEN DEMAND(mg/L)  DISSOLVED OXYGEN(mg/L).1   PH1  \n",
       "0                              2.1                       5.4  7.31  \n",
       "1                              2.8                       5.0  7.70  \n",
       "2                              2.5                       5.6  7.30  \n",
       "3                              2.6                       7.1  8.15  \n",
       "4                              2.2                       6.2  8.15  "
      ]
     },
     "execution_count": 297,
     "metadata": {},
     "output_type": "execute_result"
    }
   ],
   "source": [
    "data.head()"
   ]
  },
  {
   "cell_type": "code",
   "execution_count": 298,
   "id": "f3c5993e",
   "metadata": {},
   "outputs": [
    {
     "data": {
      "text/plain": [
       "34"
      ]
     },
     "execution_count": 298,
     "metadata": {},
     "output_type": "execute_result"
    }
   ],
   "source": [
    "data['state_name'].nunique()"
   ]
  },
  {
   "cell_type": "code",
   "execution_count": 299,
   "id": "ea5f263d",
   "metadata": {},
   "outputs": [
    {
     "data": {
      "text/plain": [
       "array(['Andhra Pradesh', 'Arunachal Pradesh', 'Assam', 'Bihar',\n",
       "       'Chandigarh', 'Chhattisgarh', 'Dadra & Nagar Haveli',\n",
       "       'Daman & Diu', 'Delhi', 'Goa', 'Gujarat', 'Haryana',\n",
       "       'Himachal Pradesh', 'Jammu & Kashmir', 'Jharkhand', 'Karnataka',\n",
       "       'Kerala', 'Madhya Pradesh', 'Maharashtra', 'Manipur', 'Meghalaya',\n",
       "       'Mizoram', 'Nagaland', 'Odisha', 'Puducherry', 'Punjab',\n",
       "       'Rajasthan', 'Sikkim', 'Tamil Nadu', 'Telangana', 'Tripura',\n",
       "       'Uttarakhand', 'Uttar Pradesh', 'West Bengal'], dtype=object)"
      ]
     },
     "execution_count": 299,
     "metadata": {},
     "output_type": "execute_result"
    }
   ],
   "source": [
    "data.state_name.unique()"
   ]
  },
  {
   "cell_type": "code",
   "execution_count": 300,
   "id": "a2ca699a",
   "metadata": {},
   "outputs": [
    {
     "data": {
      "text/html": [
       "<div>\n",
       "<style scoped>\n",
       "    .dataframe tbody tr th:only-of-type {\n",
       "        vertical-align: middle;\n",
       "    }\n",
       "\n",
       "    .dataframe tbody tr th {\n",
       "        vertical-align: top;\n",
       "    }\n",
       "\n",
       "    .dataframe thead th {\n",
       "        text-align: right;\n",
       "    }\n",
       "</style>\n",
       "<table border=\"1\" class=\"dataframe\">\n",
       "  <thead>\n",
       "    <tr style=\"text-align: right;\">\n",
       "      <th></th>\n",
       "      <th>state_name</th>\n",
       "      <th>district_name</th>\n",
       "      <th>block_name</th>\n",
       "      <th>basin_name</th>\n",
       "      <th>sub_basin_name</th>\n",
       "      <th>agency_name</th>\n",
       "      <th>date_collection</th>\n",
       "      <th>BIOCHEMICAL OXYGEN DEMAND(mg/L)</th>\n",
       "      <th>DISSOLVED OXYGEN(mg/L).1</th>\n",
       "      <th>PH1</th>\n",
       "    </tr>\n",
       "  </thead>\n",
       "  <tbody>\n",
       "    <tr>\n",
       "      <th>0</th>\n",
       "      <td>Andhra Pradesh</td>\n",
       "      <td>Warangal</td>\n",
       "      <td>THORRUR</td>\n",
       "      <td>Godavari Basin</td>\n",
       "      <td>Pranhita and others</td>\n",
       "      <td>CPCB</td>\n",
       "      <td>08-03-2021 00:00</td>\n",
       "      <td>2.1</td>\n",
       "      <td>5.4</td>\n",
       "      <td>7.31</td>\n",
       "    </tr>\n",
       "    <tr>\n",
       "      <th>1</th>\n",
       "      <td>Andhra Pradesh</td>\n",
       "      <td>KURNOOL</td>\n",
       "      <td>KURNOOL</td>\n",
       "      <td>Krishna Basin</td>\n",
       "      <td>Tungabhadra Lower</td>\n",
       "      <td>CPCB</td>\n",
       "      <td>07-03-2021 00:00</td>\n",
       "      <td>2.8</td>\n",
       "      <td>5.0</td>\n",
       "      <td>7.70</td>\n",
       "    </tr>\n",
       "    <tr>\n",
       "      <th>2</th>\n",
       "      <td>Andhra Pradesh</td>\n",
       "      <td>KURNOOL</td>\n",
       "      <td>PAGIDYALA</td>\n",
       "      <td>Krishna Basin</td>\n",
       "      <td>Krishna Middle</td>\n",
       "      <td>CPCB</td>\n",
       "      <td>14-03-2021 00:00</td>\n",
       "      <td>2.5</td>\n",
       "      <td>5.6</td>\n",
       "      <td>7.30</td>\n",
       "    </tr>\n",
       "    <tr>\n",
       "      <th>3</th>\n",
       "      <td>Andhra Pradesh</td>\n",
       "      <td>KRISHNA</td>\n",
       "      <td>JAGGAYYAPETA</td>\n",
       "      <td>Krishna Basin</td>\n",
       "      <td>Krishna Lower</td>\n",
       "      <td>CPCB</td>\n",
       "      <td>24-03-2021 00:00</td>\n",
       "      <td>2.6</td>\n",
       "      <td>7.1</td>\n",
       "      <td>8.15</td>\n",
       "    </tr>\n",
       "    <tr>\n",
       "      <th>4</th>\n",
       "      <td>Andhra Pradesh</td>\n",
       "      <td>Warangal</td>\n",
       "      <td>THORRUR</td>\n",
       "      <td>Krishna Basin</td>\n",
       "      <td>Krishna Lower</td>\n",
       "      <td>CPCB</td>\n",
       "      <td>10-03-2021 00:00</td>\n",
       "      <td>2.2</td>\n",
       "      <td>6.2</td>\n",
       "      <td>8.15</td>\n",
       "    </tr>\n",
       "  </tbody>\n",
       "</table>\n",
       "</div>"
      ],
      "text/plain": [
       "       state_name district_name    block_name      basin_name  \\\n",
       "0  Andhra Pradesh      Warangal       THORRUR  Godavari Basin   \n",
       "1  Andhra Pradesh       KURNOOL       KURNOOL   Krishna Basin   \n",
       "2  Andhra Pradesh       KURNOOL     PAGIDYALA   Krishna Basin   \n",
       "3  Andhra Pradesh       KRISHNA  JAGGAYYAPETA   Krishna Basin   \n",
       "4  Andhra Pradesh      Warangal       THORRUR   Krishna Basin   \n",
       "\n",
       "        sub_basin_name agency_name   date_collection  \\\n",
       "0  Pranhita and others        CPCB  08-03-2021 00:00   \n",
       "1    Tungabhadra Lower        CPCB  07-03-2021 00:00   \n",
       "2       Krishna Middle        CPCB  14-03-2021 00:00   \n",
       "3        Krishna Lower        CPCB  24-03-2021 00:00   \n",
       "4        Krishna Lower        CPCB  10-03-2021 00:00   \n",
       "\n",
       "   BIOCHEMICAL OXYGEN DEMAND(mg/L)  DISSOLVED OXYGEN(mg/L).1   PH1  \n",
       "0                              2.1                       5.4  7.31  \n",
       "1                              2.8                       5.0  7.70  \n",
       "2                              2.5                       5.6  7.30  \n",
       "3                              2.6                       7.1  8.15  \n",
       "4                              2.2                       6.2  8.15  "
      ]
     },
     "execution_count": 300,
     "metadata": {},
     "output_type": "execute_result"
    }
   ],
   "source": [
    "data.head()"
   ]
  },
  {
   "cell_type": "code",
   "execution_count": 301,
   "id": "aeb8bbed",
   "metadata": {},
   "outputs": [
    {
     "data": {
      "text/plain": [
       "17"
      ]
     },
     "execution_count": 301,
     "metadata": {},
     "output_type": "execute_result"
    }
   ],
   "source": [
    "data[data['state_name'] == 'Andhra Pradesh']['district_name'].nunique()"
   ]
  },
  {
   "cell_type": "code",
   "execution_count": 302,
   "id": "8cf8cde5",
   "metadata": {},
   "outputs": [
    {
     "data": {
      "text/html": [
       "<div>\n",
       "<style scoped>\n",
       "    .dataframe tbody tr th:only-of-type {\n",
       "        vertical-align: middle;\n",
       "    }\n",
       "\n",
       "    .dataframe tbody tr th {\n",
       "        vertical-align: top;\n",
       "    }\n",
       "\n",
       "    .dataframe thead th {\n",
       "        text-align: right;\n",
       "    }\n",
       "</style>\n",
       "<table border=\"1\" class=\"dataframe\">\n",
       "  <thead>\n",
       "    <tr style=\"text-align: right;\">\n",
       "      <th></th>\n",
       "      <th>state_name</th>\n",
       "      <th>district_name</th>\n",
       "      <th>block_name</th>\n",
       "      <th>basin_name</th>\n",
       "      <th>sub_basin_name</th>\n",
       "      <th>agency_name</th>\n",
       "      <th>date_collection</th>\n",
       "      <th>BIOCHEMICAL OXYGEN DEMAND(mg/L)</th>\n",
       "      <th>DISSOLVED OXYGEN(mg/L).1</th>\n",
       "      <th>PH1</th>\n",
       "    </tr>\n",
       "  </thead>\n",
       "  <tbody>\n",
       "    <tr>\n",
       "      <th>0</th>\n",
       "      <td>Andhra Pradesh</td>\n",
       "      <td>Warangal</td>\n",
       "      <td>THORRUR</td>\n",
       "      <td>Godavari Basin</td>\n",
       "      <td>Pranhita and others</td>\n",
       "      <td>CPCB</td>\n",
       "      <td>08-03-2021 00:00</td>\n",
       "      <td>2.1</td>\n",
       "      <td>5.400000</td>\n",
       "      <td>7.31</td>\n",
       "    </tr>\n",
       "    <tr>\n",
       "      <th>1</th>\n",
       "      <td>Andhra Pradesh</td>\n",
       "      <td>KURNOOL</td>\n",
       "      <td>KURNOOL</td>\n",
       "      <td>Krishna Basin</td>\n",
       "      <td>Tungabhadra Lower</td>\n",
       "      <td>CPCB</td>\n",
       "      <td>07-03-2021 00:00</td>\n",
       "      <td>2.8</td>\n",
       "      <td>5.000000</td>\n",
       "      <td>7.70</td>\n",
       "    </tr>\n",
       "    <tr>\n",
       "      <th>2</th>\n",
       "      <td>Andhra Pradesh</td>\n",
       "      <td>KURNOOL</td>\n",
       "      <td>PAGIDYALA</td>\n",
       "      <td>Krishna Basin</td>\n",
       "      <td>Krishna Middle</td>\n",
       "      <td>CPCB</td>\n",
       "      <td>14-03-2021 00:00</td>\n",
       "      <td>2.5</td>\n",
       "      <td>5.600000</td>\n",
       "      <td>7.30</td>\n",
       "    </tr>\n",
       "    <tr>\n",
       "      <th>3</th>\n",
       "      <td>Andhra Pradesh</td>\n",
       "      <td>KRISHNA</td>\n",
       "      <td>JAGGAYYAPETA</td>\n",
       "      <td>Krishna Basin</td>\n",
       "      <td>Krishna Lower</td>\n",
       "      <td>CPCB</td>\n",
       "      <td>24-03-2021 00:00</td>\n",
       "      <td>2.6</td>\n",
       "      <td>7.100000</td>\n",
       "      <td>8.15</td>\n",
       "    </tr>\n",
       "    <tr>\n",
       "      <th>4</th>\n",
       "      <td>Andhra Pradesh</td>\n",
       "      <td>Warangal</td>\n",
       "      <td>THORRUR</td>\n",
       "      <td>Krishna Basin</td>\n",
       "      <td>Krishna Lower</td>\n",
       "      <td>CPCB</td>\n",
       "      <td>10-03-2021 00:00</td>\n",
       "      <td>2.2</td>\n",
       "      <td>6.200000</td>\n",
       "      <td>8.15</td>\n",
       "    </tr>\n",
       "    <tr>\n",
       "      <th>...</th>\n",
       "      <td>...</td>\n",
       "      <td>...</td>\n",
       "      <td>...</td>\n",
       "      <td>...</td>\n",
       "      <td>...</td>\n",
       "      <td>...</td>\n",
       "      <td>...</td>\n",
       "      <td>...</td>\n",
       "      <td>...</td>\n",
       "      <td>...</td>\n",
       "    </tr>\n",
       "    <tr>\n",
       "      <th>124</th>\n",
       "      <td>Andhra Pradesh</td>\n",
       "      <td>Rangareddy</td>\n",
       "      <td>RAJENDRANAGAR</td>\n",
       "      <td>Krishna Basin</td>\n",
       "      <td>Krishna Lower</td>\n",
       "      <td>CPCB</td>\n",
       "      <td>05-03-2021 00:00</td>\n",
       "      <td>22.0</td>\n",
       "      <td>6.617672</td>\n",
       "      <td>8.30</td>\n",
       "    </tr>\n",
       "    <tr>\n",
       "      <th>125</th>\n",
       "      <td>Andhra Pradesh</td>\n",
       "      <td>Rangareddy</td>\n",
       "      <td>RAJENDRANAGAR</td>\n",
       "      <td>Krishna Basin</td>\n",
       "      <td>Krishna Lower</td>\n",
       "      <td>CPCB</td>\n",
       "      <td>03-03-2021 00:00</td>\n",
       "      <td>8.0</td>\n",
       "      <td>3.500000</td>\n",
       "      <td>7.86</td>\n",
       "    </tr>\n",
       "    <tr>\n",
       "      <th>126</th>\n",
       "      <td>Andhra Pradesh</td>\n",
       "      <td>Rangareddy</td>\n",
       "      <td>RAJENDRANAGAR</td>\n",
       "      <td>Krishna Basin</td>\n",
       "      <td>Krishna Lower</td>\n",
       "      <td>CPCB</td>\n",
       "      <td>04-03-2021 00:00</td>\n",
       "      <td>12.0</td>\n",
       "      <td>6.617672</td>\n",
       "      <td>7.47</td>\n",
       "    </tr>\n",
       "    <tr>\n",
       "      <th>127</th>\n",
       "      <td>Andhra Pradesh</td>\n",
       "      <td>Rangareddy</td>\n",
       "      <td>RAJENDRANAGAR</td>\n",
       "      <td>Krishna Basin</td>\n",
       "      <td>Krishna Lower</td>\n",
       "      <td>CPCB</td>\n",
       "      <td>06-03-2021 00:00</td>\n",
       "      <td>6.0</td>\n",
       "      <td>1.100000</td>\n",
       "      <td>7.28</td>\n",
       "    </tr>\n",
       "    <tr>\n",
       "      <th>128</th>\n",
       "      <td>Andhra Pradesh</td>\n",
       "      <td>Rangareddy</td>\n",
       "      <td>RAJENDRANAGAR</td>\n",
       "      <td>Krishna Basin</td>\n",
       "      <td>Krishna Lower</td>\n",
       "      <td>CPCB</td>\n",
       "      <td>03-03-2021 00:00</td>\n",
       "      <td>10.0</td>\n",
       "      <td>6.617672</td>\n",
       "      <td>7.97</td>\n",
       "    </tr>\n",
       "  </tbody>\n",
       "</table>\n",
       "<p>129 rows × 10 columns</p>\n",
       "</div>"
      ],
      "text/plain": [
       "         state_name district_name     block_name      basin_name  \\\n",
       "0    Andhra Pradesh      Warangal        THORRUR  Godavari Basin   \n",
       "1    Andhra Pradesh       KURNOOL        KURNOOL   Krishna Basin   \n",
       "2    Andhra Pradesh       KURNOOL      PAGIDYALA   Krishna Basin   \n",
       "3    Andhra Pradesh       KRISHNA   JAGGAYYAPETA   Krishna Basin   \n",
       "4    Andhra Pradesh      Warangal        THORRUR   Krishna Basin   \n",
       "..              ...           ...            ...             ...   \n",
       "124  Andhra Pradesh    Rangareddy  RAJENDRANAGAR   Krishna Basin   \n",
       "125  Andhra Pradesh    Rangareddy  RAJENDRANAGAR   Krishna Basin   \n",
       "126  Andhra Pradesh    Rangareddy  RAJENDRANAGAR   Krishna Basin   \n",
       "127  Andhra Pradesh    Rangareddy  RAJENDRANAGAR   Krishna Basin   \n",
       "128  Andhra Pradesh    Rangareddy  RAJENDRANAGAR   Krishna Basin   \n",
       "\n",
       "          sub_basin_name agency_name   date_collection  \\\n",
       "0    Pranhita and others        CPCB  08-03-2021 00:00   \n",
       "1      Tungabhadra Lower        CPCB  07-03-2021 00:00   \n",
       "2         Krishna Middle        CPCB  14-03-2021 00:00   \n",
       "3          Krishna Lower        CPCB  24-03-2021 00:00   \n",
       "4          Krishna Lower        CPCB  10-03-2021 00:00   \n",
       "..                   ...         ...               ...   \n",
       "124        Krishna Lower        CPCB  05-03-2021 00:00   \n",
       "125        Krishna Lower        CPCB  03-03-2021 00:00   \n",
       "126        Krishna Lower        CPCB  04-03-2021 00:00   \n",
       "127        Krishna Lower        CPCB  06-03-2021 00:00   \n",
       "128        Krishna Lower        CPCB  03-03-2021 00:00   \n",
       "\n",
       "     BIOCHEMICAL OXYGEN DEMAND(mg/L)  DISSOLVED OXYGEN(mg/L).1   PH1  \n",
       "0                                2.1                  5.400000  7.31  \n",
       "1                                2.8                  5.000000  7.70  \n",
       "2                                2.5                  5.600000  7.30  \n",
       "3                                2.6                  7.100000  8.15  \n",
       "4                                2.2                  6.200000  8.15  \n",
       "..                               ...                       ...   ...  \n",
       "124                             22.0                  6.617672  8.30  \n",
       "125                              8.0                  3.500000  7.86  \n",
       "126                             12.0                  6.617672  7.47  \n",
       "127                              6.0                  1.100000  7.28  \n",
       "128                             10.0                  6.617672  7.97  \n",
       "\n",
       "[129 rows x 10 columns]"
      ]
     },
     "execution_count": 302,
     "metadata": {},
     "output_type": "execute_result"
    }
   ],
   "source": [
    "data[data['state_name'] == 'Andhra Pradesh']"
   ]
  },
  {
   "cell_type": "code",
   "execution_count": 303,
   "id": "cf8468a6",
   "metadata": {},
   "outputs": [
    {
     "data": {
      "text/html": [
       "<div>\n",
       "<style scoped>\n",
       "    .dataframe tbody tr th:only-of-type {\n",
       "        vertical-align: middle;\n",
       "    }\n",
       "\n",
       "    .dataframe tbody tr th {\n",
       "        vertical-align: top;\n",
       "    }\n",
       "\n",
       "    .dataframe thead th {\n",
       "        text-align: right;\n",
       "    }\n",
       "</style>\n",
       "<table border=\"1\" class=\"dataframe\">\n",
       "  <thead>\n",
       "    <tr style=\"text-align: right;\">\n",
       "      <th></th>\n",
       "      <th>state_name</th>\n",
       "      <th>district_name</th>\n",
       "      <th>block_name</th>\n",
       "      <th>basin_name</th>\n",
       "      <th>sub_basin_name</th>\n",
       "      <th>agency_name</th>\n",
       "      <th>date_collection</th>\n",
       "      <th>BIOCHEMICAL OXYGEN DEMAND(mg/L)</th>\n",
       "      <th>DISSOLVED OXYGEN(mg/L).1</th>\n",
       "      <th>PH1</th>\n",
       "    </tr>\n",
       "  </thead>\n",
       "  <tbody>\n",
       "    <tr>\n",
       "      <th>0</th>\n",
       "      <td>Andhra Pradesh</td>\n",
       "      <td>Warangal</td>\n",
       "      <td>THORRUR</td>\n",
       "      <td>Godavari Basin</td>\n",
       "      <td>Pranhita and others</td>\n",
       "      <td>CPCB</td>\n",
       "      <td>08-03-2021 00:00</td>\n",
       "      <td>2.1</td>\n",
       "      <td>5.4</td>\n",
       "      <td>7.31</td>\n",
       "    </tr>\n",
       "    <tr>\n",
       "      <th>1</th>\n",
       "      <td>Andhra Pradesh</td>\n",
       "      <td>KURNOOL</td>\n",
       "      <td>KURNOOL</td>\n",
       "      <td>Krishna Basin</td>\n",
       "      <td>Tungabhadra Lower</td>\n",
       "      <td>CPCB</td>\n",
       "      <td>07-03-2021 00:00</td>\n",
       "      <td>2.8</td>\n",
       "      <td>5.0</td>\n",
       "      <td>7.70</td>\n",
       "    </tr>\n",
       "    <tr>\n",
       "      <th>2</th>\n",
       "      <td>Andhra Pradesh</td>\n",
       "      <td>KURNOOL</td>\n",
       "      <td>PAGIDYALA</td>\n",
       "      <td>Krishna Basin</td>\n",
       "      <td>Krishna Middle</td>\n",
       "      <td>CPCB</td>\n",
       "      <td>14-03-2021 00:00</td>\n",
       "      <td>2.5</td>\n",
       "      <td>5.6</td>\n",
       "      <td>7.30</td>\n",
       "    </tr>\n",
       "    <tr>\n",
       "      <th>3</th>\n",
       "      <td>Andhra Pradesh</td>\n",
       "      <td>KRISHNA</td>\n",
       "      <td>JAGGAYYAPETA</td>\n",
       "      <td>Krishna Basin</td>\n",
       "      <td>Krishna Lower</td>\n",
       "      <td>CPCB</td>\n",
       "      <td>24-03-2021 00:00</td>\n",
       "      <td>2.6</td>\n",
       "      <td>7.1</td>\n",
       "      <td>8.15</td>\n",
       "    </tr>\n",
       "    <tr>\n",
       "      <th>4</th>\n",
       "      <td>Andhra Pradesh</td>\n",
       "      <td>Warangal</td>\n",
       "      <td>THORRUR</td>\n",
       "      <td>Krishna Basin</td>\n",
       "      <td>Krishna Lower</td>\n",
       "      <td>CPCB</td>\n",
       "      <td>10-03-2021 00:00</td>\n",
       "      <td>2.2</td>\n",
       "      <td>6.2</td>\n",
       "      <td>8.15</td>\n",
       "    </tr>\n",
       "  </tbody>\n",
       "</table>\n",
       "</div>"
      ],
      "text/plain": [
       "       state_name district_name    block_name      basin_name  \\\n",
       "0  Andhra Pradesh      Warangal       THORRUR  Godavari Basin   \n",
       "1  Andhra Pradesh       KURNOOL       KURNOOL   Krishna Basin   \n",
       "2  Andhra Pradesh       KURNOOL     PAGIDYALA   Krishna Basin   \n",
       "3  Andhra Pradesh       KRISHNA  JAGGAYYAPETA   Krishna Basin   \n",
       "4  Andhra Pradesh      Warangal       THORRUR   Krishna Basin   \n",
       "\n",
       "        sub_basin_name agency_name   date_collection  \\\n",
       "0  Pranhita and others        CPCB  08-03-2021 00:00   \n",
       "1    Tungabhadra Lower        CPCB  07-03-2021 00:00   \n",
       "2       Krishna Middle        CPCB  14-03-2021 00:00   \n",
       "3        Krishna Lower        CPCB  24-03-2021 00:00   \n",
       "4        Krishna Lower        CPCB  10-03-2021 00:00   \n",
       "\n",
       "   BIOCHEMICAL OXYGEN DEMAND(mg/L)  DISSOLVED OXYGEN(mg/L).1   PH1  \n",
       "0                              2.1                       5.4  7.31  \n",
       "1                              2.8                       5.0  7.70  \n",
       "2                              2.5                       5.6  7.30  \n",
       "3                              2.6                       7.1  8.15  \n",
       "4                              2.2                       6.2  8.15  "
      ]
     },
     "execution_count": 303,
     "metadata": {},
     "output_type": "execute_result"
    }
   ],
   "source": [
    "data.head()"
   ]
  },
  {
   "cell_type": "code",
   "execution_count": 304,
   "id": "604765fc",
   "metadata": {},
   "outputs": [
    {
     "data": {
      "text/plain": [
       "22"
      ]
     },
     "execution_count": 304,
     "metadata": {},
     "output_type": "execute_result"
    }
   ],
   "source": [
    "data['basin_name'].nunique()"
   ]
  },
  {
   "cell_type": "code",
   "execution_count": 305,
   "id": "1712c8e9",
   "metadata": {},
   "outputs": [
    {
     "data": {
      "text/plain": [
       "array(['Godavari Basin', 'Krishna Basin', 'Pennar Basin',\n",
       "       'East flowing rivers between Mahanadi and Pennar Basin',\n",
       "       'East flowing rivers between Pennar and Kanyakumari Basin', ' ',\n",
       "       'Brahamaputra Basin', 'Barak and Others Basin', 'Ganga Basin',\n",
       "       'Indus (Up to border) Basin', 'Mahanadi Basin',\n",
       "       'West flowing rivers from Tapi to Tadri Basin', 'Sabarmati Basin',\n",
       "       'Mahi Basin', 'Narmada Basin', 'Tapi Basin',\n",
       "       'West flowing rivers of Kutch and Saurashtra including Luni Basin',\n",
       "       'Brahmani and Baitarni Basin', 'Subernarekha Basin',\n",
       "       'Cauvery Basin',\n",
       "       'West flowing rivers from Tadri to Kanyakumari Basin',\n",
       "       'Minor rivers draining into Myanmar and Bangladesh Basin'],\n",
       "      dtype=object)"
      ]
     },
     "execution_count": 305,
     "metadata": {},
     "output_type": "execute_result"
    }
   ],
   "source": [
    "data['basin_name'].unique()"
   ]
  },
  {
   "cell_type": "code",
   "execution_count": 306,
   "id": "14d6246a",
   "metadata": {},
   "outputs": [
    {
     "name": "stdout",
     "output_type": "stream",
     "text": [
      "(133,)\n",
      "8\n",
      "(192,)\n",
      "7\n",
      "(5,)\n",
      "2\n",
      "(35,)\n",
      "3\n",
      "(107,)\n",
      "3\n",
      "(35,)\n",
      "1\n",
      "(190,)\n",
      "2\n",
      "(143,)\n",
      "3\n",
      "(446,)\n",
      "19\n",
      "(196,)\n",
      "6\n",
      "(96,)\n",
      "3\n",
      "(135,)\n",
      "2\n",
      "(22,)\n",
      "2\n",
      "(27,)\n",
      "2\n",
      "(90,)\n",
      "3\n",
      "(21,)\n",
      "3\n",
      "(15,)\n",
      "5\n",
      "(59,)\n",
      "2\n",
      "(28,)\n",
      "1\n",
      "(151,)\n",
      "3\n",
      "(99,)\n",
      "3\n",
      "(40,)\n",
      "4\n"
     ]
    }
   ],
   "source": [
    "for i in data['basin_name'].unique():\n",
    "    print(data[data['basin_name'] == i]['sub_basin_name'].shape)\n",
    "    print(data[data['basin_name'] == i]['sub_basin_name'].nunique())"
   ]
  },
  {
   "cell_type": "code",
   "execution_count": 307,
   "id": "bf1d959b",
   "metadata": {},
   "outputs": [
    {
     "data": {
      "text/plain": [
       "array(['CPCB'], dtype=object)"
      ]
     },
     "execution_count": 307,
     "metadata": {},
     "output_type": "execute_result"
    }
   ],
   "source": [
    "data['agency_name'].unique()"
   ]
  },
  {
   "cell_type": "code",
   "execution_count": 308,
   "id": "c3940aa0",
   "metadata": {},
   "outputs": [],
   "source": [
    "data.drop('agency_name', axis = 1, inplace = True)"
   ]
  },
  {
   "cell_type": "code",
   "execution_count": 309,
   "id": "ddb63579",
   "metadata": {},
   "outputs": [
    {
     "data": {
      "text/plain": [
       "(2265, 9)"
      ]
     },
     "execution_count": 309,
     "metadata": {},
     "output_type": "execute_result"
    }
   ],
   "source": [
    "data.shape"
   ]
  },
  {
   "cell_type": "code",
   "execution_count": 310,
   "id": "8f1f12ec",
   "metadata": {},
   "outputs": [
    {
     "data": {
      "text/html": [
       "<div>\n",
       "<style scoped>\n",
       "    .dataframe tbody tr th:only-of-type {\n",
       "        vertical-align: middle;\n",
       "    }\n",
       "\n",
       "    .dataframe tbody tr th {\n",
       "        vertical-align: top;\n",
       "    }\n",
       "\n",
       "    .dataframe thead th {\n",
       "        text-align: right;\n",
       "    }\n",
       "</style>\n",
       "<table border=\"1\" class=\"dataframe\">\n",
       "  <thead>\n",
       "    <tr style=\"text-align: right;\">\n",
       "      <th></th>\n",
       "      <th>state_name</th>\n",
       "      <th>district_name</th>\n",
       "      <th>block_name</th>\n",
       "      <th>basin_name</th>\n",
       "      <th>sub_basin_name</th>\n",
       "      <th>date_collection</th>\n",
       "      <th>BIOCHEMICAL OXYGEN DEMAND(mg/L)</th>\n",
       "      <th>DISSOLVED OXYGEN(mg/L).1</th>\n",
       "      <th>PH1</th>\n",
       "    </tr>\n",
       "  </thead>\n",
       "  <tbody>\n",
       "    <tr>\n",
       "      <th>0</th>\n",
       "      <td>Andhra Pradesh</td>\n",
       "      <td>Warangal</td>\n",
       "      <td>THORRUR</td>\n",
       "      <td>Godavari Basin</td>\n",
       "      <td>Pranhita and others</td>\n",
       "      <td>08-03-2021 00:00</td>\n",
       "      <td>2.1</td>\n",
       "      <td>5.4</td>\n",
       "      <td>7.31</td>\n",
       "    </tr>\n",
       "    <tr>\n",
       "      <th>1</th>\n",
       "      <td>Andhra Pradesh</td>\n",
       "      <td>KURNOOL</td>\n",
       "      <td>KURNOOL</td>\n",
       "      <td>Krishna Basin</td>\n",
       "      <td>Tungabhadra Lower</td>\n",
       "      <td>07-03-2021 00:00</td>\n",
       "      <td>2.8</td>\n",
       "      <td>5.0</td>\n",
       "      <td>7.70</td>\n",
       "    </tr>\n",
       "    <tr>\n",
       "      <th>2</th>\n",
       "      <td>Andhra Pradesh</td>\n",
       "      <td>KURNOOL</td>\n",
       "      <td>PAGIDYALA</td>\n",
       "      <td>Krishna Basin</td>\n",
       "      <td>Krishna Middle</td>\n",
       "      <td>14-03-2021 00:00</td>\n",
       "      <td>2.5</td>\n",
       "      <td>5.6</td>\n",
       "      <td>7.30</td>\n",
       "    </tr>\n",
       "    <tr>\n",
       "      <th>3</th>\n",
       "      <td>Andhra Pradesh</td>\n",
       "      <td>KRISHNA</td>\n",
       "      <td>JAGGAYYAPETA</td>\n",
       "      <td>Krishna Basin</td>\n",
       "      <td>Krishna Lower</td>\n",
       "      <td>24-03-2021 00:00</td>\n",
       "      <td>2.6</td>\n",
       "      <td>7.1</td>\n",
       "      <td>8.15</td>\n",
       "    </tr>\n",
       "    <tr>\n",
       "      <th>4</th>\n",
       "      <td>Andhra Pradesh</td>\n",
       "      <td>Warangal</td>\n",
       "      <td>THORRUR</td>\n",
       "      <td>Krishna Basin</td>\n",
       "      <td>Krishna Lower</td>\n",
       "      <td>10-03-2021 00:00</td>\n",
       "      <td>2.2</td>\n",
       "      <td>6.2</td>\n",
       "      <td>8.15</td>\n",
       "    </tr>\n",
       "  </tbody>\n",
       "</table>\n",
       "</div>"
      ],
      "text/plain": [
       "       state_name district_name    block_name      basin_name  \\\n",
       "0  Andhra Pradesh      Warangal       THORRUR  Godavari Basin   \n",
       "1  Andhra Pradesh       KURNOOL       KURNOOL   Krishna Basin   \n",
       "2  Andhra Pradesh       KURNOOL     PAGIDYALA   Krishna Basin   \n",
       "3  Andhra Pradesh       KRISHNA  JAGGAYYAPETA   Krishna Basin   \n",
       "4  Andhra Pradesh      Warangal       THORRUR   Krishna Basin   \n",
       "\n",
       "        sub_basin_name   date_collection  BIOCHEMICAL OXYGEN DEMAND(mg/L)  \\\n",
       "0  Pranhita and others  08-03-2021 00:00                              2.1   \n",
       "1    Tungabhadra Lower  07-03-2021 00:00                              2.8   \n",
       "2       Krishna Middle  14-03-2021 00:00                              2.5   \n",
       "3        Krishna Lower  24-03-2021 00:00                              2.6   \n",
       "4        Krishna Lower  10-03-2021 00:00                              2.2   \n",
       "\n",
       "   DISSOLVED OXYGEN(mg/L).1   PH1  \n",
       "0                       5.4  7.31  \n",
       "1                       5.0  7.70  \n",
       "2                       5.6  7.30  \n",
       "3                       7.1  8.15  \n",
       "4                       6.2  8.15  "
      ]
     },
     "execution_count": 310,
     "metadata": {},
     "output_type": "execute_result"
    }
   ],
   "source": [
    "data.head()"
   ]
  },
  {
   "cell_type": "code",
   "execution_count": null,
   "id": "3b2b68fe",
   "metadata": {},
   "outputs": [],
   "source": []
  },
  {
   "cell_type": "markdown",
   "id": "bea0f89f",
   "metadata": {},
   "source": [
    "# EDA"
   ]
  },
  {
   "cell_type": "markdown",
   "id": "b0c0d495",
   "metadata": {},
   "source": [
    "### Checking the ph level of the water of various basins"
   ]
  },
  {
   "attachments": {
    "ph-scale_orig.jpg": {
     "image/jpeg": "[encoded data removed]"
    }
   },
   "cell_type": "markdown",
   "id": "f3df7238",
   "metadata": {},
   "source": [
    "![ph-scale_orig.jpg](attachment:ph-scale_orig.jpg)"
   ]
  },
  {
   "cell_type": "code",
   "execution_count": 311,
   "id": "01fbb3ac",
   "metadata": {},
   "outputs": [
    {
     "data": {
      "image/png": "[encoded data removed]",
      "text/plain": [
       "<Figure size 432x288 with 1 Axes>"
      ]
     },
     "metadata": {
      "needs_background": "light"
     },
     "output_type": "display_data"
    }
   ],
   "source": [
    "plt.hist(data[data['basin_name'] == 'Godavari Basin']['PH1'])\n",
    "plt.show()\n",
    "\n",
    "# From the below histogram we see that the ph value of water in godavari basin ranges between 6.5 to 8.5"
   ]
  },
  {
   "cell_type": "code",
   "execution_count": 312,
   "id": "34f1ef87",
   "metadata": {},
   "outputs": [
    {
     "data": {
      "image/png": "[encoded data removed]",
      "text/plain": [
       "<Figure size 432x288 with 1 Axes>"
      ]
     },
     "metadata": {
      "needs_background": "light"
     },
     "output_type": "display_data"
    }
   ],
   "source": [
    "plt.hist(data[data['basin_name'] == 'Krishna Basin']['PH1'])\n",
    "plt.show()\n",
    "\n",
    "# ph for krishna basin ranges between 6.5 to 10 which means that this water is more basic in nature"
   ]
  },
  {
   "cell_type": "code",
   "execution_count": 313,
   "id": "6c0ad1e2",
   "metadata": {},
   "outputs": [
    {
     "data": {
      "text/plain": [
       "array(['Godavari Basin', 'Krishna Basin', 'Pennar Basin',\n",
       "       'East flowing rivers between Mahanadi and Pennar Basin',\n",
       "       'East flowing rivers between Pennar and Kanyakumari Basin', ' ',\n",
       "       'Brahamaputra Basin', 'Barak and Others Basin', 'Ganga Basin',\n",
       "       'Indus (Up to border) Basin', 'Mahanadi Basin',\n",
       "       'West flowing rivers from Tapi to Tadri Basin', 'Sabarmati Basin',\n",
       "       'Mahi Basin', 'Narmada Basin', 'Tapi Basin',\n",
       "       'West flowing rivers of Kutch and Saurashtra including Luni Basin',\n",
       "       'Brahmani and Baitarni Basin', 'Subernarekha Basin',\n",
       "       'Cauvery Basin',\n",
       "       'West flowing rivers from Tadri to Kanyakumari Basin',\n",
       "       'Minor rivers draining into Myanmar and Bangladesh Basin'],\n",
       "      dtype=object)"
      ]
     },
     "execution_count": 313,
     "metadata": {},
     "output_type": "execute_result"
    }
   ],
   "source": [
    "data['basin_name'].unique()"
   ]
  },
  {
   "cell_type": "code",
   "execution_count": 314,
   "id": "8ba6e617",
   "metadata": {},
   "outputs": [
    {
     "name": "stdout",
     "output_type": "stream",
     "text": [
      "(133, 9)\n",
      "(192, 9)\n",
      "(5, 9)\n",
      "(35, 9)\n",
      "(107, 9)\n",
      "(35, 9)\n",
      "(190, 9)\n",
      "(143, 9)\n",
      "(446, 9)\n",
      "(196, 9)\n",
      "(96, 9)\n",
      "(135, 9)\n",
      "(22, 9)\n",
      "(27, 9)\n",
      "(90, 9)\n",
      "(21, 9)\n",
      "(15, 9)\n",
      "(59, 9)\n",
      "(28, 9)\n",
      "(151, 9)\n",
      "(99, 9)\n",
      "(40, 9)\n"
     ]
    }
   ],
   "source": [
    "for i in data['basin_name'].unique():\n",
    "    print(data[data['basin_name'] == i].shape)"
   ]
  },
  {
   "cell_type": "code",
   "execution_count": 315,
   "id": "d84c40fb",
   "metadata": {},
   "outputs": [
    {
     "data": {
      "image/png": "[encoded data removed]",
      "text/plain": [
       "<Figure size 432x288 with 1 Axes>"
      ]
     },
     "metadata": {
      "needs_background": "light"
     },
     "output_type": "display_data"
    }
   ],
   "source": [
    "plt.hist(data[data['basin_name'] == 'East flowing rivers between Pennar and Kanyakumari Basin']['PH1'])\n",
    "plt.show()\n",
    "\n",
    "# ph values ranges between 6.5 to 8.5"
   ]
  },
  {
   "cell_type": "code",
   "execution_count": 316,
   "id": "783d7055",
   "metadata": {},
   "outputs": [
    {
     "data": {
      "image/png": "[encoded data removed]",
      "text/plain": [
       "<Figure size 432x288 with 1 Axes>"
      ]
     },
     "metadata": {
      "needs_background": "light"
     },
     "output_type": "display_data"
    }
   ],
   "source": [
    "plt.hist(data[data['basin_name'] == 'Barak and Others Basin']['PH1'])\n",
    "plt.show()\n",
    "\n",
    "# ph value ranges between 2 and 10 implies that the water is acidic in nature"
   ]
  },
  {
   "cell_type": "code",
   "execution_count": 317,
   "id": "d9c37c12",
   "metadata": {},
   "outputs": [
    {
     "data": {
      "image/png": "[encoded data removed]",
      "text/plain": [
       "<Figure size 432x288 with 1 Axes>"
      ]
     },
     "metadata": {
      "needs_background": "light"
     },
     "output_type": "display_data"
    }
   ],
   "source": [
    "plt.hist(data[data['basin_name'] == 'Ganga Basin']['PH1'])\n",
    "plt.show()\n",
    "\n",
    "# ph value ranges between 6 to 9 and is having neutral ph"
   ]
  },
  {
   "cell_type": "code",
   "execution_count": 318,
   "id": "e355bd1b",
   "metadata": {},
   "outputs": [
    {
     "data": {
      "image/png": "[encoded data removed]",
      "text/plain": [
       "<Figure size 432x288 with 1 Axes>"
      ]
     },
     "metadata": {
      "needs_background": "light"
     },
     "output_type": "display_data"
    }
   ],
   "source": [
    "plt.hist(data[data['basin_name'] == 'Indus (Up to border) Basin']['PH1'])\n",
    "plt.show()\n",
    "\n",
    "# most ph value ranges between 6 to 9 and is having neutral ph and in \n",
    "# some portion the ph is recorded to be very basic near to 14"
   ]
  },
  {
   "cell_type": "code",
   "execution_count": 319,
   "id": "ffb9b7d2",
   "metadata": {},
   "outputs": [
    {
     "data": {
      "image/png": "[encoded data removed]",
      "text/plain": [
       "<Figure size 432x288 with 1 Axes>"
      ]
     },
     "metadata": {
      "needs_background": "light"
     },
     "output_type": "display_data"
    }
   ],
   "source": [
    "plt.hist(data[data['basin_name'] == 'Mahanadi Basin']['PH1'])\n",
    "plt.show()\n",
    "\n",
    "# The ph of this water is neutral in nature"
   ]
  },
  {
   "cell_type": "code",
   "execution_count": 320,
   "id": "29c51d3d",
   "metadata": {},
   "outputs": [
    {
     "data": {
      "image/png": "[encoded data removed]",
      "text/plain": [
       "<Figure size 432x288 with 1 Axes>"
      ]
     },
     "metadata": {
      "needs_background": "light"
     },
     "output_type": "display_data"
    }
   ],
   "source": [
    "plt.hist(data[data['basin_name'] == 'Sabarmati Basin']['PH1'])\n",
    "plt.show()\n",
    "\n",
    "# The ph of water is neutral"
   ]
  },
  {
   "cell_type": "code",
   "execution_count": 321,
   "id": "a43747a7",
   "metadata": {},
   "outputs": [
    {
     "data": {
      "image/png": "[encoded data removed]",
      "text/plain": [
       "<Figure size 432x288 with 1 Axes>"
      ]
     },
     "metadata": {
      "needs_background": "light"
     },
     "output_type": "display_data"
    }
   ],
   "source": [
    "plt.hist(data[data['basin_name'] == 'Cauvery Basin']['PH1'])\n",
    "plt.show()\n",
    "\n",
    "# ph of water is neutral"
   ]
  },
  {
   "cell_type": "code",
   "execution_count": 322,
   "id": "2edd60aa",
   "metadata": {},
   "outputs": [
    {
     "data": {
      "text/html": [
       "<div>\n",
       "<style scoped>\n",
       "    .dataframe tbody tr th:only-of-type {\n",
       "        vertical-align: middle;\n",
       "    }\n",
       "\n",
       "    .dataframe tbody tr th {\n",
       "        vertical-align: top;\n",
       "    }\n",
       "\n",
       "    .dataframe thead th {\n",
       "        text-align: right;\n",
       "    }\n",
       "</style>\n",
       "<table border=\"1\" class=\"dataframe\">\n",
       "  <thead>\n",
       "    <tr style=\"text-align: right;\">\n",
       "      <th></th>\n",
       "      <th>state_name</th>\n",
       "      <th>district_name</th>\n",
       "      <th>block_name</th>\n",
       "      <th>basin_name</th>\n",
       "      <th>sub_basin_name</th>\n",
       "      <th>date_collection</th>\n",
       "      <th>BIOCHEMICAL OXYGEN DEMAND(mg/L)</th>\n",
       "      <th>DISSOLVED OXYGEN(mg/L).1</th>\n",
       "      <th>PH1</th>\n",
       "    </tr>\n",
       "  </thead>\n",
       "  <tbody>\n",
       "    <tr>\n",
       "      <th>0</th>\n",
       "      <td>Andhra Pradesh</td>\n",
       "      <td>Warangal</td>\n",
       "      <td>THORRUR</td>\n",
       "      <td>Godavari Basin</td>\n",
       "      <td>Pranhita and others</td>\n",
       "      <td>08-03-2021 00:00</td>\n",
       "      <td>2.1</td>\n",
       "      <td>5.4</td>\n",
       "      <td>7.31</td>\n",
       "    </tr>\n",
       "    <tr>\n",
       "      <th>1</th>\n",
       "      <td>Andhra Pradesh</td>\n",
       "      <td>KURNOOL</td>\n",
       "      <td>KURNOOL</td>\n",
       "      <td>Krishna Basin</td>\n",
       "      <td>Tungabhadra Lower</td>\n",
       "      <td>07-03-2021 00:00</td>\n",
       "      <td>2.8</td>\n",
       "      <td>5.0</td>\n",
       "      <td>7.70</td>\n",
       "    </tr>\n",
       "    <tr>\n",
       "      <th>2</th>\n",
       "      <td>Andhra Pradesh</td>\n",
       "      <td>KURNOOL</td>\n",
       "      <td>PAGIDYALA</td>\n",
       "      <td>Krishna Basin</td>\n",
       "      <td>Krishna Middle</td>\n",
       "      <td>14-03-2021 00:00</td>\n",
       "      <td>2.5</td>\n",
       "      <td>5.6</td>\n",
       "      <td>7.30</td>\n",
       "    </tr>\n",
       "    <tr>\n",
       "      <th>3</th>\n",
       "      <td>Andhra Pradesh</td>\n",
       "      <td>KRISHNA</td>\n",
       "      <td>JAGGAYYAPETA</td>\n",
       "      <td>Krishna Basin</td>\n",
       "      <td>Krishna Lower</td>\n",
       "      <td>24-03-2021 00:00</td>\n",
       "      <td>2.6</td>\n",
       "      <td>7.1</td>\n",
       "      <td>8.15</td>\n",
       "    </tr>\n",
       "    <tr>\n",
       "      <th>4</th>\n",
       "      <td>Andhra Pradesh</td>\n",
       "      <td>Warangal</td>\n",
       "      <td>THORRUR</td>\n",
       "      <td>Krishna Basin</td>\n",
       "      <td>Krishna Lower</td>\n",
       "      <td>10-03-2021 00:00</td>\n",
       "      <td>2.2</td>\n",
       "      <td>6.2</td>\n",
       "      <td>8.15</td>\n",
       "    </tr>\n",
       "  </tbody>\n",
       "</table>\n",
       "</div>"
      ],
      "text/plain": [
       "       state_name district_name    block_name      basin_name  \\\n",
       "0  Andhra Pradesh      Warangal       THORRUR  Godavari Basin   \n",
       "1  Andhra Pradesh       KURNOOL       KURNOOL   Krishna Basin   \n",
       "2  Andhra Pradesh       KURNOOL     PAGIDYALA   Krishna Basin   \n",
       "3  Andhra Pradesh       KRISHNA  JAGGAYYAPETA   Krishna Basin   \n",
       "4  Andhra Pradesh      Warangal       THORRUR   Krishna Basin   \n",
       "\n",
       "        sub_basin_name   date_collection  BIOCHEMICAL OXYGEN DEMAND(mg/L)  \\\n",
       "0  Pranhita and others  08-03-2021 00:00                              2.1   \n",
       "1    Tungabhadra Lower  07-03-2021 00:00                              2.8   \n",
       "2       Krishna Middle  14-03-2021 00:00                              2.5   \n",
       "3        Krishna Lower  24-03-2021 00:00                              2.6   \n",
       "4        Krishna Lower  10-03-2021 00:00                              2.2   \n",
       "\n",
       "   DISSOLVED OXYGEN(mg/L).1   PH1  \n",
       "0                       5.4  7.31  \n",
       "1                       5.0  7.70  \n",
       "2                       5.6  7.30  \n",
       "3                       7.1  8.15  \n",
       "4                       6.2  8.15  "
      ]
     },
     "execution_count": 322,
     "metadata": {},
     "output_type": "execute_result"
    }
   ],
   "source": [
    "data.head()"
   ]
  },
  {
   "cell_type": "markdown",
   "id": "427b5f07",
   "metadata": {},
   "source": [
    "### Checking statewise ph level of the water"
   ]
  },
  {
   "cell_type": "code",
   "execution_count": 323,
   "id": "5e6e769b",
   "metadata": {},
   "outputs": [],
   "source": [
    "states = data.state_name.unique()"
   ]
  },
  {
   "cell_type": "code",
   "execution_count": 324,
   "id": "ec24a540",
   "metadata": {},
   "outputs": [
    {
     "data": {
      "image/png": "[encoded data removed]",
      "text/plain": [
       "<Figure size 432x288 with 1 Axes>"
      ]
     },
     "metadata": {
      "needs_background": "light"
     },
     "output_type": "display_data"
    }
   ],
   "source": [
    "plt.hist(data[data['state_name'] == states[0]]['PH1'])\n",
    "plt.show()\n",
    "\n",
    "# Andhra Pradesh"
   ]
  },
  {
   "cell_type": "code",
   "execution_count": 325,
   "id": "c15c7005",
   "metadata": {},
   "outputs": [
    {
     "data": {
      "image/png": "[encoded data removed]",
      "text/plain": [
       "<Figure size 432x288 with 1 Axes>"
      ]
     },
     "metadata": {
      "needs_background": "light"
     },
     "output_type": "display_data"
    }
   ],
   "source": [
    "plt.hist(data[data['state_name'] == states[1]]['PH1'])\n",
    "plt.show()\n",
    "\n",
    "# Arunachal Pradesh"
   ]
  },
  {
   "cell_type": "code",
   "execution_count": 326,
   "id": "b1118e32",
   "metadata": {},
   "outputs": [
    {
     "data": {
      "image/png": "[encoded data removed]",
      "text/plain": [
       "<Figure size 432x288 with 1 Axes>"
      ]
     },
     "metadata": {
      "needs_background": "light"
     },
     "output_type": "display_data"
    }
   ],
   "source": [
    "plt.hist(data[data['state_name'] == states[2]]['PH1'])\n",
    "plt.show()\n",
    "\n",
    "# Assam"
   ]
  },
  {
   "cell_type": "code",
   "execution_count": 327,
   "id": "8ab8e3dc",
   "metadata": {},
   "outputs": [
    {
     "data": {
      "image/png": "[encoded data removed]",
      "text/plain": [
       "<Figure size 432x288 with 1 Axes>"
      ]
     },
     "metadata": {
      "needs_background": "light"
     },
     "output_type": "display_data"
    }
   ],
   "source": [
    "plt.hist(data[data['state_name'] == states[3]]['PH1'])\n",
    "plt.show()\n",
    "\n",
    "# Bihar"
   ]
  },
  {
   "cell_type": "code",
   "execution_count": 328,
   "id": "d309a127",
   "metadata": {},
   "outputs": [
    {
     "data": {
      "image/png": "[encoded data removed]",
      "text/plain": [
       "<Figure size 432x288 with 1 Axes>"
      ]
     },
     "metadata": {
      "needs_background": "light"
     },
     "output_type": "display_data"
    }
   ],
   "source": [
    "plt.hist(data[data['state_name'] == states[4]]['PH1'])\n",
    "plt.show()\n",
    "\n",
    "# Chandigarh"
   ]
  },
  {
   "cell_type": "code",
   "execution_count": 329,
   "id": "5ea73aa0",
   "metadata": {},
   "outputs": [
    {
     "data": {
      "image/png": "[encoded data removed]",
      "text/plain": [
       "<Figure size 432x288 with 1 Axes>"
      ]
     },
     "metadata": {
      "needs_background": "light"
     },
     "output_type": "display_data"
    }
   ],
   "source": [
    "plt.hist(data[data['state_name'] == states[5]]['PH1'])\n",
    "plt.show()\n",
    "\n",
    "# Chattisgarh"
   ]
  },
  {
   "cell_type": "code",
   "execution_count": 330,
   "id": "93926c01",
   "metadata": {},
   "outputs": [
    {
     "data": {
      "image/png": "[encoded data removed]",
      "text/plain": [
       "<Figure size 432x288 with 1 Axes>"
      ]
     },
     "metadata": {
      "needs_background": "light"
     },
     "output_type": "display_data"
    }
   ],
   "source": [
    "plt.hist(data[data['state_name'] == states[6]]['PH1'])\n",
    "plt.show()\n",
    "\n",
    "# Dadra and Nagar Haveli"
   ]
  },
  {
   "cell_type": "code",
   "execution_count": 331,
   "id": "5375626c",
   "metadata": {},
   "outputs": [
    {
     "data": {
      "image/png": "[encoded data removed]",
      "text/plain": [
       "<Figure size 432x288 with 1 Axes>"
      ]
     },
     "metadata": {
      "needs_background": "light"
     },
     "output_type": "display_data"
    }
   ],
   "source": [
    "plt.hist(data[data['state_name'] == states[7]]['PH1'])\n",
    "plt.show()\n",
    "\n",
    "# Daman & Diu"
   ]
  },
  {
   "cell_type": "code",
   "execution_count": 332,
   "id": "955edb63",
   "metadata": {},
   "outputs": [
    {
     "data": {
      "image/png": "[encoded data removed]",
      "text/plain": [
       "<Figure size 432x288 with 1 Axes>"
      ]
     },
     "metadata": {
      "needs_background": "light"
     },
     "output_type": "display_data"
    }
   ],
   "source": [
    "plt.hist(data[data['state_name'] == states[8]]['PH1'])\n",
    "plt.show()\n",
    "\n",
    "# Delhi"
   ]
  },
  {
   "cell_type": "code",
   "execution_count": 333,
   "id": "9a745785",
   "metadata": {},
   "outputs": [
    {
     "data": {
      "image/png": "[encoded data removed]",
      "text/plain": [
       "<Figure size 432x288 with 1 Axes>"
      ]
     },
     "metadata": {
      "needs_background": "light"
     },
     "output_type": "display_data"
    }
   ],
   "source": [
    "plt.hist(data[data['state_name'] == states[9]]['PH1'])\n",
    "plt.show()\n",
    "\n",
    "# Goa"
   ]
  },
  {
   "cell_type": "code",
   "execution_count": 334,
   "id": "ad8619b1",
   "metadata": {},
   "outputs": [
    {
     "data": {
      "image/png": "[encoded data removed]",
      "text/plain": [
       "<Figure size 432x288 with 1 Axes>"
      ]
     },
     "metadata": {
      "needs_background": "light"
     },
     "output_type": "display_data"
    }
   ],
   "source": [
    "plt.hist(data[data['state_name'] == states[10]]['PH1'])\n",
    "plt.show()\n",
    "\n",
    "# Gujarat"
   ]
  },
  {
   "cell_type": "code",
   "execution_count": 335,
   "id": "74614f1f",
   "metadata": {},
   "outputs": [
    {
     "data": {
      "image/png": "[encoded data removed]",
      "text/plain": [
       "<Figure size 432x288 with 1 Axes>"
      ]
     },
     "metadata": {
      "needs_background": "light"
     },
     "output_type": "display_data"
    }
   ],
   "source": [
    "plt.hist(data[data['state_name'] == states[11]]['PH1'])\n",
    "plt.show()\n",
    "\n",
    "# Harayana"
   ]
  },
  {
   "cell_type": "code",
   "execution_count": 336,
   "id": "68bed551",
   "metadata": {},
   "outputs": [
    {
     "data": {
      "image/png": "[encoded data removed]",
      "text/plain": [
       "<Figure size 432x288 with 1 Axes>"
      ]
     },
     "metadata": {
      "needs_background": "light"
     },
     "output_type": "display_data"
    }
   ],
   "source": [
    "plt.hist(data[data['state_name'] == states[12]]['PH1'])\n",
    "plt.show()\n",
    "\n",
    "# Himachal Pradesh"
   ]
  },
  {
   "cell_type": "code",
   "execution_count": 337,
   "id": "478831af",
   "metadata": {},
   "outputs": [
    {
     "data": {
      "image/png": "[encoded data removed]",
      "text/plain": [
       "<Figure size 432x288 with 1 Axes>"
      ]
     },
     "metadata": {
      "needs_background": "light"
     },
     "output_type": "display_data"
    }
   ],
   "source": [
    "plt.hist(data[data['state_name'] == states[13]]['PH1'])\n",
    "plt.show()\n",
    "\n",
    "# Jammu and Kashmir"
   ]
  },
  {
   "cell_type": "code",
   "execution_count": 338,
   "id": "d44928a5",
   "metadata": {},
   "outputs": [
    {
     "data": {
      "image/png": "[encoded data removed]",
      "text/plain": [
       "<Figure size 432x288 with 1 Axes>"
      ]
     },
     "metadata": {
      "needs_background": "light"
     },
     "output_type": "display_data"
    }
   ],
   "source": [
    "plt.hist(data[data['state_name'] == states[14]]['PH1'])\n",
    "plt.show()\n",
    "\n",
    "# Jharkhand"
   ]
  },
  {
   "cell_type": "code",
   "execution_count": 339,
   "id": "ff7d788e",
   "metadata": {},
   "outputs": [
    {
     "data": {
      "image/png": "[encoded data removed]",
      "text/plain": [
       "<Figure size 432x288 with 1 Axes>"
      ]
     },
     "metadata": {
      "needs_background": "light"
     },
     "output_type": "display_data"
    }
   ],
   "source": [
    "plt.hist(data[data['state_name'] == states[15]]['PH1'])\n",
    "plt.show()\n",
    "\n",
    "# Karnataka"
   ]
  },
  {
   "cell_type": "code",
   "execution_count": 340,
   "id": "7884c790",
   "metadata": {},
   "outputs": [
    {
     "data": {
      "image/png": "[encoded data removed]",
      "text/plain": [
       "<Figure size 432x288 with 1 Axes>"
      ]
     },
     "metadata": {
      "needs_background": "light"
     },
     "output_type": "display_data"
    }
   ],
   "source": [
    "plt.hist(data[data['state_name'] == states[16]]['PH1'])\n",
    "plt.show()\n",
    "\n",
    "# Kerala"
   ]
  },
  {
   "cell_type": "code",
   "execution_count": 341,
   "id": "92c6320e",
   "metadata": {},
   "outputs": [
    {
     "data": {
      "image/png": "[encoded data removed]",
      "text/plain": [
       "<Figure size 432x288 with 1 Axes>"
      ]
     },
     "metadata": {
      "needs_background": "light"
     },
     "output_type": "display_data"
    }
   ],
   "source": [
    "plt.hist(data[data['state_name'] == states[17]]['PH1'])\n",
    "plt.show()\n",
    "\n",
    "# Madhya Pradesh \n",
    "# There is presence of acidic water in Madhya Pradesh"
   ]
  },
  {
   "cell_type": "code",
   "execution_count": 342,
   "id": "162bf905",
   "metadata": {},
   "outputs": [
    {
     "data": {
      "image/png": "[encoded data removed]",
      "text/plain": [
       "<Figure size 432x288 with 1 Axes>"
      ]
     },
     "metadata": {
      "needs_background": "light"
     },
     "output_type": "display_data"
    }
   ],
   "source": [
    "plt.hist(data[data['state_name'] == states[18]]['PH1'])\n",
    "plt.show()\n",
    "\n",
    "# Maharashtra"
   ]
  },
  {
   "cell_type": "code",
   "execution_count": 343,
   "id": "15db469b",
   "metadata": {},
   "outputs": [
    {
     "data": {
      "image/png": "[encoded data removed]",
      "text/plain": [
       "<Figure size 432x288 with 1 Axes>"
      ]
     },
     "metadata": {
      "needs_background": "light"
     },
     "output_type": "display_data"
    }
   ],
   "source": [
    "plt.hist(data[data['state_name'] == states[19]]['PH1'])\n",
    "plt.show()\n",
    "\n",
    "# Manipur"
   ]
  },
  {
   "cell_type": "code",
   "execution_count": 344,
   "id": "bde90032",
   "metadata": {},
   "outputs": [
    {
     "data": {
      "image/png": "[encoded data removed]",
      "text/plain": [
       "<Figure size 432x288 with 1 Axes>"
      ]
     },
     "metadata": {
      "needs_background": "light"
     },
     "output_type": "display_data"
    }
   ],
   "source": [
    "plt.hist(data[data['state_name'] == states[20]]['PH1'])\n",
    "plt.show()\n",
    "\n",
    "# Meghalaya\n",
    "# There is presence of acidic water in Meghalaya"
   ]
  },
  {
   "cell_type": "code",
   "execution_count": 345,
   "id": "15e1e539",
   "metadata": {},
   "outputs": [
    {
     "data": {
      "image/png": "[encoded data removed]",
      "text/plain": [
       "<Figure size 432x288 with 1 Axes>"
      ]
     },
     "metadata": {
      "needs_background": "light"
     },
     "output_type": "display_data"
    }
   ],
   "source": [
    "plt.hist(data[data['state_name'] == states[21]]['PH1'])\n",
    "plt.show()\n",
    "\n",
    "# Mizoram"
   ]
  },
  {
   "cell_type": "code",
   "execution_count": 346,
   "id": "17ececaf",
   "metadata": {},
   "outputs": [
    {
     "data": {
      "image/png": "[encoded data removed]",
      "text/plain": [
       "<Figure size 432x288 with 1 Axes>"
      ]
     },
     "metadata": {
      "needs_background": "light"
     },
     "output_type": "display_data"
    }
   ],
   "source": [
    "plt.hist(data[data['state_name'] == states[22]]['PH1'])\n",
    "plt.show()\n",
    "\n",
    "# Nagaland"
   ]
  },
  {
   "cell_type": "code",
   "execution_count": 347,
   "id": "744a18cb",
   "metadata": {},
   "outputs": [
    {
     "data": {
      "image/png": "[encoded data removed]",
      "text/plain": [
       "<Figure size 432x288 with 1 Axes>"
      ]
     },
     "metadata": {
      "needs_background": "light"
     },
     "output_type": "display_data"
    }
   ],
   "source": [
    "plt.hist(data[data['state_name'] == states[23]]['PH1'])\n",
    "plt.show()\n",
    "\n",
    "# Odisha"
   ]
  },
  {
   "cell_type": "code",
   "execution_count": 348,
   "id": "529219a4",
   "metadata": {},
   "outputs": [
    {
     "data": {
      "image/png": "[encoded data removed]",
      "text/plain": [
       "<Figure size 432x288 with 1 Axes>"
      ]
     },
     "metadata": {
      "needs_background": "light"
     },
     "output_type": "display_data"
    }
   ],
   "source": [
    "plt.hist(data[data['state_name'] == states[24]]['PH1'])\n",
    "plt.show()\n",
    "\n",
    "# Puducherry"
   ]
  },
  {
   "cell_type": "code",
   "execution_count": 349,
   "id": "0202605e",
   "metadata": {},
   "outputs": [
    {
     "data": {
      "image/png": "[encoded data removed]",
      "text/plain": [
       "<Figure size 432x288 with 1 Axes>"
      ]
     },
     "metadata": {
      "needs_background": "light"
     },
     "output_type": "display_data"
    }
   ],
   "source": [
    "plt.hist(data[data['state_name'] == states[25]]['PH1'])\n",
    "plt.show()\n",
    "\n",
    "# Punjab"
   ]
  },
  {
   "cell_type": "code",
   "execution_count": 350,
   "id": "36ca6938",
   "metadata": {},
   "outputs": [
    {
     "data": {
      "image/png": "[encoded data removed]",
      "text/plain": [
       "<Figure size 432x288 with 1 Axes>"
      ]
     },
     "metadata": {
      "needs_background": "light"
     },
     "output_type": "display_data"
    }
   ],
   "source": [
    "plt.hist(data[data['state_name'] == states[26]]['PH1'])\n",
    "plt.show()\n",
    "\n",
    "# Rajasthan"
   ]
  },
  {
   "cell_type": "code",
   "execution_count": 351,
   "id": "176e71d8",
   "metadata": {},
   "outputs": [
    {
     "data": {
      "image/png": "[encoded data removed]",
      "text/plain": [
       "<Figure size 432x288 with 1 Axes>"
      ]
     },
     "metadata": {
      "needs_background": "light"
     },
     "output_type": "display_data"
    }
   ],
   "source": [
    "plt.hist(data[data['state_name'] == states[27]]['PH1'])\n",
    "plt.show()\n",
    "\n",
    "# Sikkim"
   ]
  },
  {
   "cell_type": "code",
   "execution_count": 352,
   "id": "82411973",
   "metadata": {},
   "outputs": [
    {
     "data": {
      "image/png": "[encoded data removed]",
      "text/plain": [
       "<Figure size 432x288 with 1 Axes>"
      ]
     },
     "metadata": {
      "needs_background": "light"
     },
     "output_type": "display_data"
    }
   ],
   "source": [
    "plt.hist(data[data['state_name'] == states[28]]['PH1'])\n",
    "plt.show()\n",
    "\n",
    "# Tamil Nadu"
   ]
  },
  {
   "cell_type": "code",
   "execution_count": 353,
   "id": "c156c850",
   "metadata": {},
   "outputs": [
    {
     "data": {
      "image/png": "[encoded data removed]",
      "text/plain": [
       "<Figure size 432x288 with 1 Axes>"
      ]
     },
     "metadata": {
      "needs_background": "light"
     },
     "output_type": "display_data"
    }
   ],
   "source": [
    "plt.hist(data[data['state_name'] == states[29]]['PH1'])\n",
    "plt.show()\n",
    "\n",
    "# Telangana"
   ]
  },
  {
   "cell_type": "code",
   "execution_count": 354,
   "id": "ca4c1998",
   "metadata": {},
   "outputs": [
    {
     "data": {
      "image/png": "[encoded data removed]",
      "text/plain": [
       "<Figure size 432x288 with 1 Axes>"
      ]
     },
     "metadata": {
      "needs_background": "light"
     },
     "output_type": "display_data"
    }
   ],
   "source": [
    "plt.hist(data[data['state_name'] == states[30]]['PH1'])\n",
    "plt.show()\n",
    "\n",
    "# Tripura"
   ]
  },
  {
   "cell_type": "code",
   "execution_count": 355,
   "id": "8ec1c987",
   "metadata": {},
   "outputs": [
    {
     "data": {
      "image/png": "[encoded data removed]",
      "text/plain": [
       "<Figure size 432x288 with 1 Axes>"
      ]
     },
     "metadata": {
      "needs_background": "light"
     },
     "output_type": "display_data"
    }
   ],
   "source": [
    "plt.hist(data[data['state_name'] == states[31]]['PH1'])\n",
    "plt.show()\n",
    "\n",
    "# Uttarakhand"
   ]
  },
  {
   "cell_type": "code",
   "execution_count": 356,
   "id": "a5340d87",
   "metadata": {},
   "outputs": [
    {
     "data": {
      "image/png": "[encoded data removed]",
      "text/plain": [
       "<Figure size 432x288 with 1 Axes>"
      ]
     },
     "metadata": {
      "needs_background": "light"
     },
     "output_type": "display_data"
    }
   ],
   "source": [
    "plt.hist(data[data['state_name'] == states[32]]['PH1'])\n",
    "plt.show()\n",
    "\n",
    "# Uttar Pradesh"
   ]
  },
  {
   "cell_type": "code",
   "execution_count": 357,
   "id": "586bd63a",
   "metadata": {},
   "outputs": [
    {
     "data": {
      "image/png": "[encoded data removed]",
      "text/plain": [
       "<Figure size 432x288 with 1 Axes>"
      ]
     },
     "metadata": {
      "needs_background": "light"
     },
     "output_type": "display_data"
    }
   ],
   "source": [
    "plt.hist(data[data['state_name'] == states[33]]['PH1'])\n",
    "plt.show()\n",
    "\n",
    "# West Bengal"
   ]
  },
  {
   "cell_type": "code",
   "execution_count": 358,
   "id": "7236df86",
   "metadata": {},
   "outputs": [],
   "source": [
    "# The ph of water is acidic in Madhya Pradesh and Meghalaya"
   ]
  },
  {
   "cell_type": "code",
   "execution_count": 359,
   "id": "c48c8031",
   "metadata": {},
   "outputs": [
    {
     "name": "stderr",
     "output_type": "stream",
     "text": [
      "<ipython-input-359-be93ca8bca6c>:4: RuntimeWarning: More than 20 figures have been opened. Figures created through the pyplot interface (`matplotlib.pyplot.figure`) are retained until explicitly closed and may consume too much memory. (To control this warning, see the rcParam `figure.max_open_warning`).\n",
      "  plt.figure(figsize = (16, 16))\n"
     ]
    },
    {
     "data": {
      "image/png": "[encoded data removed]",
      "text/plain": [
       "<Figure size 1152x1152 with 1 Axes>"
      ]
     },
     "metadata": {
      "needs_background": "light"
     },
     "output_type": "display_data"
    },
    {
     "data": {
      "image/png": "[encoded data removed]",
      "text/plain": [
       "<Figure size 1152x1152 with 1 Axes>"
      ]
     },
     "metadata": {
      "needs_background": "light"
     },
     "output_type": "display_data"
    },
    {
     "data": {
      "image/png": "[encoded data removed]",
      "text/plain": [
       "<Figure size 1152x1152 with 1 Axes>"
      ]
     },
     "metadata": {
      "needs_background": "light"
     },
     "output_type": "display_data"
    },
    {
     "data": {
      "image/png": "[encoded data removed]",
      "text/plain": [
       "<Figure size 1152x1152 with 1 Axes>"
      ]
     },
     "metadata": {
      "needs_background": "light"
     },
     "output_type": "display_data"
    },
    {
     "data": {
      "image/png": "[encoded data removed]",
      "text/plain": [
       "<Figure size 1152x1152 with 1 Axes>"
      ]
     },
     "metadata": {
      "needs_background": "light"
     },
     "output_type": "display_data"
    },
    {
     "data": {
      "image/png": "[encoded data removed]",
      "text/plain": [
       "<Figure size 1152x1152 with 1 Axes>"
      ]
     },
     "metadata": {
      "needs_background": "light"
     },
     "output_type": "display_data"
    },
    {
     "data": {
      "image/png": "[encoded data removed]",
      "text/plain": [
       "<Figure size 1152x1152 with 1 Axes>"
      ]
     },
     "metadata": {
      "needs_background": "light"
     },
     "output_type": "display_data"
    },
    {
     "data": {
      "image/png": "[encoded data removed]",
      "text/plain": [
       "<Figure size 1152x1152 with 1 Axes>"
      ]
     },
     "metadata": {
      "needs_background": "light"
     },
     "output_type": "display_data"
    },
    {
     "data": {
      "image/png": "[encoded data removed]",
      "text/plain": [
       "<Figure size 1152x1152 with 1 Axes>"
      ]
     },
     "metadata": {
      "needs_background": "light"
     },
     "output_type": "display_data"
    },
    {
     "data": {
      "image/png": "[encoded data removed]",
      "text/plain": [
       "<Figure size 1152x1152 with 1 Axes>"
      ]
     },
     "metadata": {
      "needs_background": "light"
     },
     "output_type": "display_data"
    },
    {
     "data": {
      "image/png": "[encoded data removed]",
      "text/plain": [
       "<Figure size 1152x1152 with 1 Axes>"
      ]
     },
     "metadata": {
      "needs_background": "light"
     },
     "output_type": "display_data"
    },
    {
     "data": {
      "image/png": "[encoded data removed]",
      "text/plain": [
       "<Figure size 1152x1152 with 1 Axes>"
      ]
     },
     "metadata": {
      "needs_background": "light"
     },
     "output_type": "display_data"
    },
    {
     "data": {
      "image/png": "[encoded data removed]",
      "text/plain": [
       "<Figure size 1152x1152 with 1 Axes>"
      ]
     },
     "metadata": {
      "needs_background": "light"
     },
     "output_type": "display_data"
    },
    {
     "data": {
      "image/png": "[encoded data removed]",
      "text/plain": [
       "<Figure size 1152x1152 with 1 Axes>"
      ]
     },
     "metadata": {
      "needs_background": "light"
     },
     "output_type": "display_data"
    },
    {
     "data": {
      "image/png": "[encoded data removed]",
      "text/plain": [
       "<Figure size 1152x1152 with 1 Axes>"
      ]
     },
     "metadata": {
      "needs_background": "light"
     },
     "output_type": "display_data"
    },
    {
     "data": {
      "image/png": "[encoded data removed]",
      "text/plain": [
       "<Figure size 1152x1152 with 1 Axes>"
      ]
     },
     "metadata": {
      "needs_background": "light"
     },
     "output_type": "display_data"
    },
    {
     "data": {
      "image/png": "[encoded data removed]",
      "text/plain": [
       "<Figure size 1152x1152 with 1 Axes>"
      ]
     },
     "metadata": {
      "needs_background": "light"
     },
     "output_type": "display_data"
    },
    {
     "data": {
      "image/png": "[encoded data removed]",
      "text/plain": [
       "<Figure size 1152x1152 with 1 Axes>"
      ]
     },
     "metadata": {
      "needs_background": "light"
     },
     "output_type": "display_data"
    },
    {
     "data": {
      "image/png": "[encoded data removed]",
      "text/plain": [
       "<Figure size 1152x1152 with 1 Axes>"
      ]
     },
     "metadata": {
      "needs_background": "light"
     },
     "output_type": "display_data"
    },
    {
     "data": {
      "image/png": "[encoded data removed]",
      "text/plain": [
       "<Figure size 1152x1152 with 1 Axes>"
      ]
     },
     "metadata": {
      "needs_background": "light"
     },
     "output_type": "display_data"
    },
    {
     "data": {
      "image/png": "[encoded data removed]",
      "text/plain": [
       "<Figure size 1152x1152 with 1 Axes>"
      ]
     },
     "metadata": {
      "needs_background": "light"
     },
     "output_type": "display_data"
    },
    {
     "data": {
      "image/png": "[encoded data removed]",
      "text/plain": [
       "<Figure size 1152x1152 with 1 Axes>"
      ]
     },
     "metadata": {
      "needs_background": "light"
     },
     "output_type": "display_data"
    },
    {
     "data": {
      "image/png": "[encoded data removed]",
      "text/plain": [
       "<Figure size 1152x1152 with 1 Axes>"
      ]
     },
     "metadata": {
      "needs_background": "light"
     },
     "output_type": "display_data"
    },
    {
     "data": {
      "image/png": "[encoded data removed]",
      "text/plain": [
       "<Figure size 1152x1152 with 1 Axes>"
      ]
     },
     "metadata": {
      "needs_background": "light"
     },
     "output_type": "display_data"
    },
    {
     "data": {
      "image/png": "[encoded data removed]",
      "text/plain": [
       "<Figure size 1152x1152 with 1 Axes>"
      ]
     },
     "metadata": {
      "needs_background": "light"
     },
     "output_type": "display_data"
    },
    {
     "data": {
      "image/png": "[encoded data removed]",
      "text/plain": [
       "<Figure size 1152x1152 with 1 Axes>"
      ]
     },
     "metadata": {
      "needs_background": "light"
     },
     "output_type": "display_data"
    },
    {
     "data": {
      "image/png": "[encoded data removed]",
      "text/plain": [
       "<Figure size 1152x1152 with 1 Axes>"
      ]
     },
     "metadata": {
      "needs_background": "light"
     },
     "output_type": "display_data"
    },
    {
     "data": {
      "image/png": "[encoded data removed]",
      "text/plain": [
       "<Figure size 1152x1152 with 1 Axes>"
      ]
     },
     "metadata": {
      "needs_background": "light"
     },
     "output_type": "display_data"
    },
    {
     "data": {
      "image/png": "[encoded data removed]",
      "text/plain": [
       "<Figure size 1152x1152 with 1 Axes>"
      ]
     },
     "metadata": {
      "needs_background": "light"
     },
     "output_type": "display_data"
    },
    {
     "data": {
      "image/png": "[encoded data removed]",
      "text/plain": [
       "<Figure size 1152x1152 with 1 Axes>"
      ]
     },
     "metadata": {
      "needs_background": "light"
     },
     "output_type": "display_data"
    },
    {
     "data": {
      "image/png": "[encoded data removed]",
      "text/plain": [
       "<Figure size 1152x1152 with 1 Axes>"
      ]
     },
     "metadata": {
      "needs_background": "light"
     },
     "output_type": "display_data"
    },
    {
     "data": {
      "image/png": "[encoded data removed]",
      "text/plain": [
       "<Figure size 1152x1152 with 1 Axes>"
      ]
     },
     "metadata": {
      "needs_background": "light"
     },
     "output_type": "display_data"
    },
    {
     "data": {
      "image/png": "[encoded data removed]",
      "text/plain": [
       "<Figure size 1152x1152 with 1 Axes>"
      ]
     },
     "metadata": {
      "needs_background": "light"
     },
     "output_type": "display_data"
    }
   ],
   "source": [
    "# We can see that the ph value of water in most of the states is nearly neutral and is suitable for drinking\n",
    "\n",
    "for i in range(1, 34):\n",
    "    plt.figure(figsize = (16, 16))\n",
    "    plt.subplot(6, 6, i)\n",
    "    plt.hist(data[data['state_name'] == states[i]]['PH1'])\n",
    "    plt.title(states[i])"
   ]
  },
  {
   "cell_type": "code",
   "execution_count": 360,
   "id": "83db7e1c",
   "metadata": {},
   "outputs": [
    {
     "data": {
      "text/html": [
       "<div>\n",
       "<style scoped>\n",
       "    .dataframe tbody tr th:only-of-type {\n",
       "        vertical-align: middle;\n",
       "    }\n",
       "\n",
       "    .dataframe tbody tr th {\n",
       "        vertical-align: top;\n",
       "    }\n",
       "\n",
       "    .dataframe thead th {\n",
       "        text-align: right;\n",
       "    }\n",
       "</style>\n",
       "<table border=\"1\" class=\"dataframe\">\n",
       "  <thead>\n",
       "    <tr style=\"text-align: right;\">\n",
       "      <th></th>\n",
       "      <th>state_name</th>\n",
       "      <th>district_name</th>\n",
       "      <th>block_name</th>\n",
       "      <th>basin_name</th>\n",
       "      <th>sub_basin_name</th>\n",
       "      <th>date_collection</th>\n",
       "      <th>BIOCHEMICAL OXYGEN DEMAND(mg/L)</th>\n",
       "      <th>DISSOLVED OXYGEN(mg/L).1</th>\n",
       "      <th>PH1</th>\n",
       "    </tr>\n",
       "  </thead>\n",
       "  <tbody>\n",
       "    <tr>\n",
       "      <th>0</th>\n",
       "      <td>Andhra Pradesh</td>\n",
       "      <td>Warangal</td>\n",
       "      <td>THORRUR</td>\n",
       "      <td>Godavari Basin</td>\n",
       "      <td>Pranhita and others</td>\n",
       "      <td>08-03-2021 00:00</td>\n",
       "      <td>2.1</td>\n",
       "      <td>5.4</td>\n",
       "      <td>7.31</td>\n",
       "    </tr>\n",
       "    <tr>\n",
       "      <th>1</th>\n",
       "      <td>Andhra Pradesh</td>\n",
       "      <td>KURNOOL</td>\n",
       "      <td>KURNOOL</td>\n",
       "      <td>Krishna Basin</td>\n",
       "      <td>Tungabhadra Lower</td>\n",
       "      <td>07-03-2021 00:00</td>\n",
       "      <td>2.8</td>\n",
       "      <td>5.0</td>\n",
       "      <td>7.70</td>\n",
       "    </tr>\n",
       "    <tr>\n",
       "      <th>2</th>\n",
       "      <td>Andhra Pradesh</td>\n",
       "      <td>KURNOOL</td>\n",
       "      <td>PAGIDYALA</td>\n",
       "      <td>Krishna Basin</td>\n",
       "      <td>Krishna Middle</td>\n",
       "      <td>14-03-2021 00:00</td>\n",
       "      <td>2.5</td>\n",
       "      <td>5.6</td>\n",
       "      <td>7.30</td>\n",
       "    </tr>\n",
       "    <tr>\n",
       "      <th>3</th>\n",
       "      <td>Andhra Pradesh</td>\n",
       "      <td>KRISHNA</td>\n",
       "      <td>JAGGAYYAPETA</td>\n",
       "      <td>Krishna Basin</td>\n",
       "      <td>Krishna Lower</td>\n",
       "      <td>24-03-2021 00:00</td>\n",
       "      <td>2.6</td>\n",
       "      <td>7.1</td>\n",
       "      <td>8.15</td>\n",
       "    </tr>\n",
       "    <tr>\n",
       "      <th>4</th>\n",
       "      <td>Andhra Pradesh</td>\n",
       "      <td>Warangal</td>\n",
       "      <td>THORRUR</td>\n",
       "      <td>Krishna Basin</td>\n",
       "      <td>Krishna Lower</td>\n",
       "      <td>10-03-2021 00:00</td>\n",
       "      <td>2.2</td>\n",
       "      <td>6.2</td>\n",
       "      <td>8.15</td>\n",
       "    </tr>\n",
       "  </tbody>\n",
       "</table>\n",
       "</div>"
      ],
      "text/plain": [
       "       state_name district_name    block_name      basin_name  \\\n",
       "0  Andhra Pradesh      Warangal       THORRUR  Godavari Basin   \n",
       "1  Andhra Pradesh       KURNOOL       KURNOOL   Krishna Basin   \n",
       "2  Andhra Pradesh       KURNOOL     PAGIDYALA   Krishna Basin   \n",
       "3  Andhra Pradesh       KRISHNA  JAGGAYYAPETA   Krishna Basin   \n",
       "4  Andhra Pradesh      Warangal       THORRUR   Krishna Basin   \n",
       "\n",
       "        sub_basin_name   date_collection  BIOCHEMICAL OXYGEN DEMAND(mg/L)  \\\n",
       "0  Pranhita and others  08-03-2021 00:00                              2.1   \n",
       "1    Tungabhadra Lower  07-03-2021 00:00                              2.8   \n",
       "2       Krishna Middle  14-03-2021 00:00                              2.5   \n",
       "3        Krishna Lower  24-03-2021 00:00                              2.6   \n",
       "4        Krishna Lower  10-03-2021 00:00                              2.2   \n",
       "\n",
       "   DISSOLVED OXYGEN(mg/L).1   PH1  \n",
       "0                       5.4  7.31  \n",
       "1                       5.0  7.70  \n",
       "2                       5.6  7.30  \n",
       "3                       7.1  8.15  \n",
       "4                       6.2  8.15  "
      ]
     },
     "execution_count": 360,
     "metadata": {},
     "output_type": "execute_result"
    }
   ],
   "source": [
    "data.head()"
   ]
  },
  {
   "cell_type": "code",
   "execution_count": 361,
   "id": "c6646547",
   "metadata": {},
   "outputs": [
    {
     "data": {
      "text/html": [
       "<div>\n",
       "<style scoped>\n",
       "    .dataframe tbody tr th:only-of-type {\n",
       "        vertical-align: middle;\n",
       "    }\n",
       "\n",
       "    .dataframe tbody tr th {\n",
       "        vertical-align: top;\n",
       "    }\n",
       "\n",
       "    .dataframe thead th {\n",
       "        text-align: right;\n",
       "    }\n",
       "</style>\n",
       "<table border=\"1\" class=\"dataframe\">\n",
       "  <thead>\n",
       "    <tr style=\"text-align: right;\">\n",
       "      <th></th>\n",
       "      <th>BIOCHEMICAL OXYGEN DEMAND(mg/L)</th>\n",
       "      <th>DISSOLVED OXYGEN(mg/L).1</th>\n",
       "      <th>PH1</th>\n",
       "    </tr>\n",
       "  </thead>\n",
       "  <tbody>\n",
       "    <tr>\n",
       "      <th>count</th>\n",
       "      <td>2265.000000</td>\n",
       "      <td>2265.000000</td>\n",
       "      <td>2265.000000</td>\n",
       "    </tr>\n",
       "    <tr>\n",
       "      <th>mean</th>\n",
       "      <td>6.850688</td>\n",
       "      <td>6.606541</td>\n",
       "      <td>7.529681</td>\n",
       "    </tr>\n",
       "    <tr>\n",
       "      <th>std</th>\n",
       "      <td>24.954577</td>\n",
       "      <td>1.887122</td>\n",
       "      <td>0.602722</td>\n",
       "    </tr>\n",
       "    <tr>\n",
       "      <th>min</th>\n",
       "      <td>1.100000</td>\n",
       "      <td>0.300000</td>\n",
       "      <td>2.000000</td>\n",
       "    </tr>\n",
       "    <tr>\n",
       "      <th>25%</th>\n",
       "      <td>1.800000</td>\n",
       "      <td>5.700000</td>\n",
       "      <td>7.200000</td>\n",
       "    </tr>\n",
       "    <tr>\n",
       "      <th>50%</th>\n",
       "      <td>2.800000</td>\n",
       "      <td>6.700000</td>\n",
       "      <td>7.533134</td>\n",
       "    </tr>\n",
       "    <tr>\n",
       "      <th>75%</th>\n",
       "      <td>6.846228</td>\n",
       "      <td>7.600000</td>\n",
       "      <td>7.900000</td>\n",
       "    </tr>\n",
       "    <tr>\n",
       "      <th>max</th>\n",
       "      <td>805.000000</td>\n",
       "      <td>25.000000</td>\n",
       "      <td>13.000000</td>\n",
       "    </tr>\n",
       "  </tbody>\n",
       "</table>\n",
       "</div>"
      ],
      "text/plain": [
       "       BIOCHEMICAL OXYGEN DEMAND(mg/L)  DISSOLVED OXYGEN(mg/L).1          PH1\n",
       "count                      2265.000000               2265.000000  2265.000000\n",
       "mean                          6.850688                  6.606541     7.529681\n",
       "std                          24.954577                  1.887122     0.602722\n",
       "min                           1.100000                  0.300000     2.000000\n",
       "25%                           1.800000                  5.700000     7.200000\n",
       "50%                           2.800000                  6.700000     7.533134\n",
       "75%                           6.846228                  7.600000     7.900000\n",
       "max                         805.000000                 25.000000    13.000000"
      ]
     },
     "execution_count": 361,
     "metadata": {},
     "output_type": "execute_result"
    }
   ],
   "source": [
    "data.describe()"
   ]
  },
  {
   "cell_type": "code",
   "execution_count": 362,
   "id": "baa461e3",
   "metadata": {},
   "outputs": [
    {
     "name": "stderr",
     "output_type": "stream",
     "text": [
      "C:\\Users\\91738\\anaconda3\\lib\\site-packages\\seaborn\\_decorators.py:36: FutureWarning: Pass the following variable as a keyword arg: x. From version 0.12, the only valid positional argument will be `data`, and passing other arguments without an explicit keyword will result in an error or misinterpretation.\n",
      "  warnings.warn(\n"
     ]
    },
    {
     "data": {
      "text/plain": [
       "<matplotlib.axes._subplots.AxesSubplot at 0x1b0ebae4040>"
      ]
     },
     "execution_count": 362,
     "metadata": {},
     "output_type": "execute_result"
    },
    {
     "data": {
      "image/png": "[encoded data removed]",
      "text/plain": [
       "<Figure size 432x288 with 1 Axes>"
      ]
     },
     "metadata": {
      "needs_background": "light"
     },
     "output_type": "display_data"
    }
   ],
   "source": [
    "sns.boxplot(data['BIOCHEMICAL OXYGEN DEMAND(mg/L)'])"
   ]
  },
  {
   "cell_type": "code",
   "execution_count": 363,
   "id": "b252d9f1",
   "metadata": {},
   "outputs": [],
   "source": [
    "data = data[data['BIOCHEMICAL OXYGEN DEMAND(mg/L)'] < 100]"
   ]
  },
  {
   "cell_type": "code",
   "execution_count": 364,
   "id": "d7296bab",
   "metadata": {},
   "outputs": [
    {
     "data": {
      "text/html": [
       "<div>\n",
       "<style scoped>\n",
       "    .dataframe tbody tr th:only-of-type {\n",
       "        vertical-align: middle;\n",
       "    }\n",
       "\n",
       "    .dataframe tbody tr th {\n",
       "        vertical-align: top;\n",
       "    }\n",
       "\n",
       "    .dataframe thead th {\n",
       "        text-align: right;\n",
       "    }\n",
       "</style>\n",
       "<table border=\"1\" class=\"dataframe\">\n",
       "  <thead>\n",
       "    <tr style=\"text-align: right;\">\n",
       "      <th></th>\n",
       "      <th>state_name</th>\n",
       "      <th>district_name</th>\n",
       "      <th>block_name</th>\n",
       "      <th>basin_name</th>\n",
       "      <th>sub_basin_name</th>\n",
       "      <th>date_collection</th>\n",
       "      <th>BIOCHEMICAL OXYGEN DEMAND(mg/L)</th>\n",
       "      <th>DISSOLVED OXYGEN(mg/L).1</th>\n",
       "      <th>PH1</th>\n",
       "    </tr>\n",
       "  </thead>\n",
       "  <tbody>\n",
       "    <tr>\n",
       "      <th>0</th>\n",
       "      <td>Andhra Pradesh</td>\n",
       "      <td>Warangal</td>\n",
       "      <td>THORRUR</td>\n",
       "      <td>Godavari Basin</td>\n",
       "      <td>Pranhita and others</td>\n",
       "      <td>08-03-2021 00:00</td>\n",
       "      <td>2.1</td>\n",
       "      <td>5.4</td>\n",
       "      <td>7.31</td>\n",
       "    </tr>\n",
       "    <tr>\n",
       "      <th>1</th>\n",
       "      <td>Andhra Pradesh</td>\n",
       "      <td>KURNOOL</td>\n",
       "      <td>KURNOOL</td>\n",
       "      <td>Krishna Basin</td>\n",
       "      <td>Tungabhadra Lower</td>\n",
       "      <td>07-03-2021 00:00</td>\n",
       "      <td>2.8</td>\n",
       "      <td>5.0</td>\n",
       "      <td>7.70</td>\n",
       "    </tr>\n",
       "    <tr>\n",
       "      <th>2</th>\n",
       "      <td>Andhra Pradesh</td>\n",
       "      <td>KURNOOL</td>\n",
       "      <td>PAGIDYALA</td>\n",
       "      <td>Krishna Basin</td>\n",
       "      <td>Krishna Middle</td>\n",
       "      <td>14-03-2021 00:00</td>\n",
       "      <td>2.5</td>\n",
       "      <td>5.6</td>\n",
       "      <td>7.30</td>\n",
       "    </tr>\n",
       "    <tr>\n",
       "      <th>3</th>\n",
       "      <td>Andhra Pradesh</td>\n",
       "      <td>KRISHNA</td>\n",
       "      <td>JAGGAYYAPETA</td>\n",
       "      <td>Krishna Basin</td>\n",
       "      <td>Krishna Lower</td>\n",
       "      <td>24-03-2021 00:00</td>\n",
       "      <td>2.6</td>\n",
       "      <td>7.1</td>\n",
       "      <td>8.15</td>\n",
       "    </tr>\n",
       "    <tr>\n",
       "      <th>4</th>\n",
       "      <td>Andhra Pradesh</td>\n",
       "      <td>Warangal</td>\n",
       "      <td>THORRUR</td>\n",
       "      <td>Krishna Basin</td>\n",
       "      <td>Krishna Lower</td>\n",
       "      <td>10-03-2021 00:00</td>\n",
       "      <td>2.2</td>\n",
       "      <td>6.2</td>\n",
       "      <td>8.15</td>\n",
       "    </tr>\n",
       "  </tbody>\n",
       "</table>\n",
       "</div>"
      ],
      "text/plain": [
       "       state_name district_name    block_name      basin_name  \\\n",
       "0  Andhra Pradesh      Warangal       THORRUR  Godavari Basin   \n",
       "1  Andhra Pradesh       KURNOOL       KURNOOL   Krishna Basin   \n",
       "2  Andhra Pradesh       KURNOOL     PAGIDYALA   Krishna Basin   \n",
       "3  Andhra Pradesh       KRISHNA  JAGGAYYAPETA   Krishna Basin   \n",
       "4  Andhra Pradesh      Warangal       THORRUR   Krishna Basin   \n",
       "\n",
       "        sub_basin_name   date_collection  BIOCHEMICAL OXYGEN DEMAND(mg/L)  \\\n",
       "0  Pranhita and others  08-03-2021 00:00                              2.1   \n",
       "1    Tungabhadra Lower  07-03-2021 00:00                              2.8   \n",
       "2       Krishna Middle  14-03-2021 00:00                              2.5   \n",
       "3        Krishna Lower  24-03-2021 00:00                              2.6   \n",
       "4        Krishna Lower  10-03-2021 00:00                              2.2   \n",
       "\n",
       "   DISSOLVED OXYGEN(mg/L).1   PH1  \n",
       "0                       5.4  7.31  \n",
       "1                       5.0  7.70  \n",
       "2                       5.6  7.30  \n",
       "3                       7.1  8.15  \n",
       "4                       6.2  8.15  "
      ]
     },
     "execution_count": 364,
     "metadata": {},
     "output_type": "execute_result"
    }
   ],
   "source": [
    "data.head()"
   ]
  },
  {
   "cell_type": "code",
   "execution_count": 365,
   "id": "5f571a0e",
   "metadata": {},
   "outputs": [
    {
     "data": {
      "text/plain": [
       "(2255, 9)"
      ]
     },
     "execution_count": 365,
     "metadata": {},
     "output_type": "execute_result"
    }
   ],
   "source": [
    "data.shape"
   ]
  },
  {
   "cell_type": "code",
   "execution_count": 366,
   "id": "c06c4a96",
   "metadata": {},
   "outputs": [
    {
     "data": {
      "text/html": [
       "<div>\n",
       "<style scoped>\n",
       "    .dataframe tbody tr th:only-of-type {\n",
       "        vertical-align: middle;\n",
       "    }\n",
       "\n",
       "    .dataframe tbody tr th {\n",
       "        vertical-align: top;\n",
       "    }\n",
       "\n",
       "    .dataframe thead th {\n",
       "        text-align: right;\n",
       "    }\n",
       "</style>\n",
       "<table border=\"1\" class=\"dataframe\">\n",
       "  <thead>\n",
       "    <tr style=\"text-align: right;\">\n",
       "      <th></th>\n",
       "      <th>BIOCHEMICAL OXYGEN DEMAND(mg/L)</th>\n",
       "      <th>DISSOLVED OXYGEN(mg/L).1</th>\n",
       "      <th>PH1</th>\n",
       "    </tr>\n",
       "  </thead>\n",
       "  <tbody>\n",
       "    <tr>\n",
       "      <th>count</th>\n",
       "      <td>2255.000000</td>\n",
       "      <td>2255.000000</td>\n",
       "      <td>2255.000000</td>\n",
       "    </tr>\n",
       "    <tr>\n",
       "      <th>mean</th>\n",
       "      <td>5.557342</td>\n",
       "      <td>6.607874</td>\n",
       "      <td>7.530664</td>\n",
       "    </tr>\n",
       "    <tr>\n",
       "      <th>std</th>\n",
       "      <td>8.452673</td>\n",
       "      <td>1.890171</td>\n",
       "      <td>0.602223</td>\n",
       "    </tr>\n",
       "    <tr>\n",
       "      <th>min</th>\n",
       "      <td>1.100000</td>\n",
       "      <td>0.300000</td>\n",
       "      <td>2.000000</td>\n",
       "    </tr>\n",
       "    <tr>\n",
       "      <th>25%</th>\n",
       "      <td>1.800000</td>\n",
       "      <td>5.700000</td>\n",
       "      <td>7.200000</td>\n",
       "    </tr>\n",
       "    <tr>\n",
       "      <th>50%</th>\n",
       "      <td>2.800000</td>\n",
       "      <td>6.700000</td>\n",
       "      <td>7.533134</td>\n",
       "    </tr>\n",
       "    <tr>\n",
       "      <th>75%</th>\n",
       "      <td>6.846228</td>\n",
       "      <td>7.600000</td>\n",
       "      <td>7.900000</td>\n",
       "    </tr>\n",
       "    <tr>\n",
       "      <th>max</th>\n",
       "      <td>94.000000</td>\n",
       "      <td>25.000000</td>\n",
       "      <td>13.000000</td>\n",
       "    </tr>\n",
       "  </tbody>\n",
       "</table>\n",
       "</div>"
      ],
      "text/plain": [
       "       BIOCHEMICAL OXYGEN DEMAND(mg/L)  DISSOLVED OXYGEN(mg/L).1          PH1\n",
       "count                      2255.000000               2255.000000  2255.000000\n",
       "mean                          5.557342                  6.607874     7.530664\n",
       "std                           8.452673                  1.890171     0.602223\n",
       "min                           1.100000                  0.300000     2.000000\n",
       "25%                           1.800000                  5.700000     7.200000\n",
       "50%                           2.800000                  6.700000     7.533134\n",
       "75%                           6.846228                  7.600000     7.900000\n",
       "max                          94.000000                 25.000000    13.000000"
      ]
     },
     "execution_count": 366,
     "metadata": {},
     "output_type": "execute_result"
    }
   ],
   "source": [
    "data.describe()"
   ]
  },
  {
   "cell_type": "code",
   "execution_count": 367,
   "id": "8a242658",
   "metadata": {},
   "outputs": [
    {
     "name": "stderr",
     "output_type": "stream",
     "text": [
      "C:\\Users\\91738\\anaconda3\\lib\\site-packages\\seaborn\\_decorators.py:36: FutureWarning: Pass the following variable as a keyword arg: x. From version 0.12, the only valid positional argument will be `data`, and passing other arguments without an explicit keyword will result in an error or misinterpretation.\n",
      "  warnings.warn(\n"
     ]
    },
    {
     "data": {
      "text/plain": [
       "<matplotlib.axes._subplots.AxesSubplot at 0x1b0ebed1130>"
      ]
     },
     "execution_count": 367,
     "metadata": {},
     "output_type": "execute_result"
    },
    {
     "data": {
      "image/png": "[encoded data removed]",
      "text/plain": [
       "<Figure size 432x288 with 1 Axes>"
      ]
     },
     "metadata": {
      "needs_background": "light"
     },
     "output_type": "display_data"
    }
   ],
   "source": [
    "sns.boxplot(data['BIOCHEMICAL OXYGEN DEMAND(mg/L)'])"
   ]
  },
  {
   "cell_type": "code",
   "execution_count": 368,
   "id": "b06e183e",
   "metadata": {},
   "outputs": [
    {
     "data": {
      "text/plain": [
       "(122, 9)"
      ]
     },
     "execution_count": 368,
     "metadata": {},
     "output_type": "execute_result"
    }
   ],
   "source": [
    "data[data['BIOCHEMICAL OXYGEN DEMAND(mg/L)'] > 15].shape"
   ]
  },
  {
   "cell_type": "code",
   "execution_count": 369,
   "id": "6cf30a51",
   "metadata": {},
   "outputs": [],
   "source": [
    "data = data[data['BIOCHEMICAL OXYGEN DEMAND(mg/L)'] < 15]"
   ]
  },
  {
   "cell_type": "code",
   "execution_count": 370,
   "id": "2cbf3728",
   "metadata": {},
   "outputs": [
    {
     "data": {
      "text/html": [
       "<div>\n",
       "<style scoped>\n",
       "    .dataframe tbody tr th:only-of-type {\n",
       "        vertical-align: middle;\n",
       "    }\n",
       "\n",
       "    .dataframe tbody tr th {\n",
       "        vertical-align: top;\n",
       "    }\n",
       "\n",
       "    .dataframe thead th {\n",
       "        text-align: right;\n",
       "    }\n",
       "</style>\n",
       "<table border=\"1\" class=\"dataframe\">\n",
       "  <thead>\n",
       "    <tr style=\"text-align: right;\">\n",
       "      <th></th>\n",
       "      <th>state_name</th>\n",
       "      <th>district_name</th>\n",
       "      <th>block_name</th>\n",
       "      <th>basin_name</th>\n",
       "      <th>sub_basin_name</th>\n",
       "      <th>date_collection</th>\n",
       "      <th>BIOCHEMICAL OXYGEN DEMAND(mg/L)</th>\n",
       "      <th>DISSOLVED OXYGEN(mg/L).1</th>\n",
       "      <th>PH1</th>\n",
       "    </tr>\n",
       "  </thead>\n",
       "  <tbody>\n",
       "    <tr>\n",
       "      <th>0</th>\n",
       "      <td>Andhra Pradesh</td>\n",
       "      <td>Warangal</td>\n",
       "      <td>THORRUR</td>\n",
       "      <td>Godavari Basin</td>\n",
       "      <td>Pranhita and others</td>\n",
       "      <td>08-03-2021 00:00</td>\n",
       "      <td>2.1</td>\n",
       "      <td>5.4</td>\n",
       "      <td>7.31</td>\n",
       "    </tr>\n",
       "    <tr>\n",
       "      <th>1</th>\n",
       "      <td>Andhra Pradesh</td>\n",
       "      <td>KURNOOL</td>\n",
       "      <td>KURNOOL</td>\n",
       "      <td>Krishna Basin</td>\n",
       "      <td>Tungabhadra Lower</td>\n",
       "      <td>07-03-2021 00:00</td>\n",
       "      <td>2.8</td>\n",
       "      <td>5.0</td>\n",
       "      <td>7.70</td>\n",
       "    </tr>\n",
       "    <tr>\n",
       "      <th>2</th>\n",
       "      <td>Andhra Pradesh</td>\n",
       "      <td>KURNOOL</td>\n",
       "      <td>PAGIDYALA</td>\n",
       "      <td>Krishna Basin</td>\n",
       "      <td>Krishna Middle</td>\n",
       "      <td>14-03-2021 00:00</td>\n",
       "      <td>2.5</td>\n",
       "      <td>5.6</td>\n",
       "      <td>7.30</td>\n",
       "    </tr>\n",
       "    <tr>\n",
       "      <th>3</th>\n",
       "      <td>Andhra Pradesh</td>\n",
       "      <td>KRISHNA</td>\n",
       "      <td>JAGGAYYAPETA</td>\n",
       "      <td>Krishna Basin</td>\n",
       "      <td>Krishna Lower</td>\n",
       "      <td>24-03-2021 00:00</td>\n",
       "      <td>2.6</td>\n",
       "      <td>7.1</td>\n",
       "      <td>8.15</td>\n",
       "    </tr>\n",
       "    <tr>\n",
       "      <th>4</th>\n",
       "      <td>Andhra Pradesh</td>\n",
       "      <td>Warangal</td>\n",
       "      <td>THORRUR</td>\n",
       "      <td>Krishna Basin</td>\n",
       "      <td>Krishna Lower</td>\n",
       "      <td>10-03-2021 00:00</td>\n",
       "      <td>2.2</td>\n",
       "      <td>6.2</td>\n",
       "      <td>8.15</td>\n",
       "    </tr>\n",
       "  </tbody>\n",
       "</table>\n",
       "</div>"
      ],
      "text/plain": [
       "       state_name district_name    block_name      basin_name  \\\n",
       "0  Andhra Pradesh      Warangal       THORRUR  Godavari Basin   \n",
       "1  Andhra Pradesh       KURNOOL       KURNOOL   Krishna Basin   \n",
       "2  Andhra Pradesh       KURNOOL     PAGIDYALA   Krishna Basin   \n",
       "3  Andhra Pradesh       KRISHNA  JAGGAYYAPETA   Krishna Basin   \n",
       "4  Andhra Pradesh      Warangal       THORRUR   Krishna Basin   \n",
       "\n",
       "        sub_basin_name   date_collection  BIOCHEMICAL OXYGEN DEMAND(mg/L)  \\\n",
       "0  Pranhita and others  08-03-2021 00:00                              2.1   \n",
       "1    Tungabhadra Lower  07-03-2021 00:00                              2.8   \n",
       "2       Krishna Middle  14-03-2021 00:00                              2.5   \n",
       "3        Krishna Lower  24-03-2021 00:00                              2.6   \n",
       "4        Krishna Lower  10-03-2021 00:00                              2.2   \n",
       "\n",
       "   DISSOLVED OXYGEN(mg/L).1   PH1  \n",
       "0                       5.4  7.31  \n",
       "1                       5.0  7.70  \n",
       "2                       5.6  7.30  \n",
       "3                       7.1  8.15  \n",
       "4                       6.2  8.15  "
      ]
     },
     "execution_count": 370,
     "metadata": {},
     "output_type": "execute_result"
    }
   ],
   "source": [
    "data.head()"
   ]
  },
  {
   "cell_type": "code",
   "execution_count": 371,
   "id": "31bba249",
   "metadata": {},
   "outputs": [
    {
     "data": {
      "text/plain": [
       "(2125, 9)"
      ]
     },
     "execution_count": 371,
     "metadata": {},
     "output_type": "execute_result"
    }
   ],
   "source": [
    "data.shape"
   ]
  },
  {
   "cell_type": "code",
   "execution_count": 372,
   "id": "b37375c3",
   "metadata": {},
   "outputs": [
    {
     "name": "stderr",
     "output_type": "stream",
     "text": [
      "C:\\Users\\91738\\anaconda3\\lib\\site-packages\\seaborn\\_decorators.py:36: FutureWarning: Pass the following variable as a keyword arg: x. From version 0.12, the only valid positional argument will be `data`, and passing other arguments without an explicit keyword will result in an error or misinterpretation.\n",
      "  warnings.warn(\n"
     ]
    },
    {
     "data": {
      "text/plain": [
       "<matplotlib.axes._subplots.AxesSubplot at 0x1b0ebd49730>"
      ]
     },
     "execution_count": 372,
     "metadata": {},
     "output_type": "execute_result"
    },
    {
     "data": {
      "image/png": "[encoded data removed]",
      "text/plain": [
       "<Figure size 432x288 with 1 Axes>"
      ]
     },
     "metadata": {
      "needs_background": "light"
     },
     "output_type": "display_data"
    }
   ],
   "source": [
    "sns.boxplot(data['BIOCHEMICAL OXYGEN DEMAND(mg/L)'])"
   ]
  },
  {
   "cell_type": "code",
   "execution_count": 373,
   "id": "a82dfd6f",
   "metadata": {},
   "outputs": [
    {
     "data": {
      "text/html": [
       "<div>\n",
       "<style scoped>\n",
       "    .dataframe tbody tr th:only-of-type {\n",
       "        vertical-align: middle;\n",
       "    }\n",
       "\n",
       "    .dataframe tbody tr th {\n",
       "        vertical-align: top;\n",
       "    }\n",
       "\n",
       "    .dataframe thead th {\n",
       "        text-align: right;\n",
       "    }\n",
       "</style>\n",
       "<table border=\"1\" class=\"dataframe\">\n",
       "  <thead>\n",
       "    <tr style=\"text-align: right;\">\n",
       "      <th></th>\n",
       "      <th>BIOCHEMICAL OXYGEN DEMAND(mg/L)</th>\n",
       "      <th>DISSOLVED OXYGEN(mg/L).1</th>\n",
       "      <th>PH1</th>\n",
       "    </tr>\n",
       "  </thead>\n",
       "  <tbody>\n",
       "    <tr>\n",
       "      <th>count</th>\n",
       "      <td>2125.000000</td>\n",
       "      <td>2125.000000</td>\n",
       "      <td>2125.000000</td>\n",
       "    </tr>\n",
       "    <tr>\n",
       "      <th>mean</th>\n",
       "      <td>3.903627</td>\n",
       "      <td>6.725122</td>\n",
       "      <td>7.530841</td>\n",
       "    </tr>\n",
       "    <tr>\n",
       "      <th>std</th>\n",
       "      <td>2.793560</td>\n",
       "      <td>1.747295</td>\n",
       "      <td>0.610833</td>\n",
       "    </tr>\n",
       "    <tr>\n",
       "      <th>min</th>\n",
       "      <td>1.100000</td>\n",
       "      <td>0.400000</td>\n",
       "      <td>2.000000</td>\n",
       "    </tr>\n",
       "    <tr>\n",
       "      <th>25%</th>\n",
       "      <td>1.800000</td>\n",
       "      <td>5.800000</td>\n",
       "      <td>7.200000</td>\n",
       "    </tr>\n",
       "    <tr>\n",
       "      <th>50%</th>\n",
       "      <td>2.600000</td>\n",
       "      <td>6.800000</td>\n",
       "      <td>7.533134</td>\n",
       "    </tr>\n",
       "    <tr>\n",
       "      <th>75%</th>\n",
       "      <td>6.846228</td>\n",
       "      <td>7.700000</td>\n",
       "      <td>7.900000</td>\n",
       "    </tr>\n",
       "    <tr>\n",
       "      <th>max</th>\n",
       "      <td>14.800000</td>\n",
       "      <td>25.000000</td>\n",
       "      <td>13.000000</td>\n",
       "    </tr>\n",
       "  </tbody>\n",
       "</table>\n",
       "</div>"
      ],
      "text/plain": [
       "       BIOCHEMICAL OXYGEN DEMAND(mg/L)  DISSOLVED OXYGEN(mg/L).1          PH1\n",
       "count                      2125.000000               2125.000000  2125.000000\n",
       "mean                          3.903627                  6.725122     7.530841\n",
       "std                           2.793560                  1.747295     0.610833\n",
       "min                           1.100000                  0.400000     2.000000\n",
       "25%                           1.800000                  5.800000     7.200000\n",
       "50%                           2.600000                  6.800000     7.533134\n",
       "75%                           6.846228                  7.700000     7.900000\n",
       "max                          14.800000                 25.000000    13.000000"
      ]
     },
     "execution_count": 373,
     "metadata": {},
     "output_type": "execute_result"
    }
   ],
   "source": [
    "data.describe()"
   ]
  },
  {
   "cell_type": "code",
   "execution_count": 374,
   "id": "a5622863",
   "metadata": {},
   "outputs": [
    {
     "name": "stderr",
     "output_type": "stream",
     "text": [
      "C:\\Users\\91738\\anaconda3\\lib\\site-packages\\seaborn\\_decorators.py:36: FutureWarning: Pass the following variable as a keyword arg: x. From version 0.12, the only valid positional argument will be `data`, and passing other arguments without an explicit keyword will result in an error or misinterpretation.\n",
      "  warnings.warn(\n"
     ]
    },
    {
     "data": {
      "text/plain": [
       "<matplotlib.axes._subplots.AxesSubplot at 0x1b0edc18430>"
      ]
     },
     "execution_count": 374,
     "metadata": {},
     "output_type": "execute_result"
    },
    {
     "data": {
      "image/png": "[encoded data removed]",
      "text/plain": [
       "<Figure size 432x288 with 1 Axes>"
      ]
     },
     "metadata": {
      "needs_background": "light"
     },
     "output_type": "display_data"
    }
   ],
   "source": [
    "sns.boxplot(data['DISSOLVED OXYGEN(mg/L).1'])"
   ]
  },
  {
   "cell_type": "code",
   "execution_count": 375,
   "id": "ed294e9e",
   "metadata": {},
   "outputs": [
    {
     "data": {
      "text/plain": [
       "count    2125.000000\n",
       "mean        6.725122\n",
       "std         1.747295\n",
       "min         0.400000\n",
       "25%         5.800000\n",
       "50%         6.800000\n",
       "75%         7.700000\n",
       "max        25.000000\n",
       "Name: DISSOLVED OXYGEN(mg/L).1, dtype: float64"
      ]
     },
     "execution_count": 375,
     "metadata": {},
     "output_type": "execute_result"
    }
   ],
   "source": [
    "data['DISSOLVED OXYGEN(mg/L).1'].describe()"
   ]
  },
  {
   "cell_type": "code",
   "execution_count": 376,
   "id": "7e94bad6",
   "metadata": {},
   "outputs": [],
   "source": [
    "# Removing the outliers\n",
    "\n",
    "data = data[(data['DISSOLVED OXYGEN(mg/L).1'] > 3.5) & (data['DISSOLVED OXYGEN(mg/L).1'] < 10)]"
   ]
  },
  {
   "cell_type": "code",
   "execution_count": 377,
   "id": "5a90bbda",
   "metadata": {},
   "outputs": [
    {
     "name": "stderr",
     "output_type": "stream",
     "text": [
      "C:\\Users\\91738\\anaconda3\\lib\\site-packages\\seaborn\\_decorators.py:36: FutureWarning: Pass the following variable as a keyword arg: x. From version 0.12, the only valid positional argument will be `data`, and passing other arguments without an explicit keyword will result in an error or misinterpretation.\n",
      "  warnings.warn(\n"
     ]
    },
    {
     "data": {
      "text/plain": [
       "<matplotlib.axes._subplots.AxesSubplot at 0x1b0ebe213d0>"
      ]
     },
     "execution_count": 377,
     "metadata": {},
     "output_type": "execute_result"
    },
    {
     "data": {
      "image/png": "[encoded data removed]",
      "text/plain": [
       "<Figure size 432x288 with 1 Axes>"
      ]
     },
     "metadata": {
      "needs_background": "light"
     },
     "output_type": "display_data"
    }
   ],
   "source": [
    "sns.boxplot(data['DISSOLVED OXYGEN(mg/L).1'])"
   ]
  },
  {
   "cell_type": "code",
   "execution_count": 378,
   "id": "75672f29",
   "metadata": {},
   "outputs": [
    {
     "data": {
      "text/plain": [
       "(1990, 9)"
      ]
     },
     "execution_count": 378,
     "metadata": {},
     "output_type": "execute_result"
    }
   ],
   "source": [
    "data.shape"
   ]
  },
  {
   "cell_type": "code",
   "execution_count": 379,
   "id": "dc9d4b7d",
   "metadata": {},
   "outputs": [
    {
     "data": {
      "text/html": [
       "<div>\n",
       "<style scoped>\n",
       "    .dataframe tbody tr th:only-of-type {\n",
       "        vertical-align: middle;\n",
       "    }\n",
       "\n",
       "    .dataframe tbody tr th {\n",
       "        vertical-align: top;\n",
       "    }\n",
       "\n",
       "    .dataframe thead th {\n",
       "        text-align: right;\n",
       "    }\n",
       "</style>\n",
       "<table border=\"1\" class=\"dataframe\">\n",
       "  <thead>\n",
       "    <tr style=\"text-align: right;\">\n",
       "      <th></th>\n",
       "      <th>state_name</th>\n",
       "      <th>district_name</th>\n",
       "      <th>block_name</th>\n",
       "      <th>basin_name</th>\n",
       "      <th>sub_basin_name</th>\n",
       "      <th>date_collection</th>\n",
       "      <th>BIOCHEMICAL OXYGEN DEMAND(mg/L)</th>\n",
       "      <th>DISSOLVED OXYGEN(mg/L).1</th>\n",
       "      <th>PH1</th>\n",
       "    </tr>\n",
       "  </thead>\n",
       "  <tbody>\n",
       "    <tr>\n",
       "      <th>0</th>\n",
       "      <td>Andhra Pradesh</td>\n",
       "      <td>Warangal</td>\n",
       "      <td>THORRUR</td>\n",
       "      <td>Godavari Basin</td>\n",
       "      <td>Pranhita and others</td>\n",
       "      <td>08-03-2021 00:00</td>\n",
       "      <td>2.1</td>\n",
       "      <td>5.4</td>\n",
       "      <td>7.31</td>\n",
       "    </tr>\n",
       "    <tr>\n",
       "      <th>1</th>\n",
       "      <td>Andhra Pradesh</td>\n",
       "      <td>KURNOOL</td>\n",
       "      <td>KURNOOL</td>\n",
       "      <td>Krishna Basin</td>\n",
       "      <td>Tungabhadra Lower</td>\n",
       "      <td>07-03-2021 00:00</td>\n",
       "      <td>2.8</td>\n",
       "      <td>5.0</td>\n",
       "      <td>7.70</td>\n",
       "    </tr>\n",
       "    <tr>\n",
       "      <th>2</th>\n",
       "      <td>Andhra Pradesh</td>\n",
       "      <td>KURNOOL</td>\n",
       "      <td>PAGIDYALA</td>\n",
       "      <td>Krishna Basin</td>\n",
       "      <td>Krishna Middle</td>\n",
       "      <td>14-03-2021 00:00</td>\n",
       "      <td>2.5</td>\n",
       "      <td>5.6</td>\n",
       "      <td>7.30</td>\n",
       "    </tr>\n",
       "    <tr>\n",
       "      <th>3</th>\n",
       "      <td>Andhra Pradesh</td>\n",
       "      <td>KRISHNA</td>\n",
       "      <td>JAGGAYYAPETA</td>\n",
       "      <td>Krishna Basin</td>\n",
       "      <td>Krishna Lower</td>\n",
       "      <td>24-03-2021 00:00</td>\n",
       "      <td>2.6</td>\n",
       "      <td>7.1</td>\n",
       "      <td>8.15</td>\n",
       "    </tr>\n",
       "    <tr>\n",
       "      <th>4</th>\n",
       "      <td>Andhra Pradesh</td>\n",
       "      <td>Warangal</td>\n",
       "      <td>THORRUR</td>\n",
       "      <td>Krishna Basin</td>\n",
       "      <td>Krishna Lower</td>\n",
       "      <td>10-03-2021 00:00</td>\n",
       "      <td>2.2</td>\n",
       "      <td>6.2</td>\n",
       "      <td>8.15</td>\n",
       "    </tr>\n",
       "  </tbody>\n",
       "</table>\n",
       "</div>"
      ],
      "text/plain": [
       "       state_name district_name    block_name      basin_name  \\\n",
       "0  Andhra Pradesh      Warangal       THORRUR  Godavari Basin   \n",
       "1  Andhra Pradesh       KURNOOL       KURNOOL   Krishna Basin   \n",
       "2  Andhra Pradesh       KURNOOL     PAGIDYALA   Krishna Basin   \n",
       "3  Andhra Pradesh       KRISHNA  JAGGAYYAPETA   Krishna Basin   \n",
       "4  Andhra Pradesh      Warangal       THORRUR   Krishna Basin   \n",
       "\n",
       "        sub_basin_name   date_collection  BIOCHEMICAL OXYGEN DEMAND(mg/L)  \\\n",
       "0  Pranhita and others  08-03-2021 00:00                              2.1   \n",
       "1    Tungabhadra Lower  07-03-2021 00:00                              2.8   \n",
       "2       Krishna Middle  14-03-2021 00:00                              2.5   \n",
       "3        Krishna Lower  24-03-2021 00:00                              2.6   \n",
       "4        Krishna Lower  10-03-2021 00:00                              2.2   \n",
       "\n",
       "   DISSOLVED OXYGEN(mg/L).1   PH1  \n",
       "0                       5.4  7.31  \n",
       "1                       5.0  7.70  \n",
       "2                       5.6  7.30  \n",
       "3                       7.1  8.15  \n",
       "4                       6.2  8.15  "
      ]
     },
     "execution_count": 379,
     "metadata": {},
     "output_type": "execute_result"
    }
   ],
   "source": [
    "data.head()"
   ]
  },
  {
   "cell_type": "code",
   "execution_count": 380,
   "id": "f0fc9f7e",
   "metadata": {},
   "outputs": [
    {
     "data": {
      "text/plain": [
       "'01-03-2021 00:00'"
      ]
     },
     "execution_count": 380,
     "metadata": {},
     "output_type": "execute_result"
    }
   ],
   "source": [
    "np.min(data['date_collection'])"
   ]
  },
  {
   "cell_type": "code",
   "execution_count": 381,
   "id": "99a84509",
   "metadata": {},
   "outputs": [
    {
     "data": {
      "text/plain": [
       "'31-03-2021 00:00'"
      ]
     },
     "execution_count": 381,
     "metadata": {},
     "output_type": "execute_result"
    }
   ],
   "source": [
    "np.max(data['date_collection'])"
   ]
  },
  {
   "cell_type": "code",
   "execution_count": 385,
   "id": "6575ebfa",
   "metadata": {},
   "outputs": [
    {
     "data": {
      "text/plain": [
       "array(['08-03-2021 00:00', '07-03-2021 00:00', '14-03-2021 00:00',\n",
       "       '24-03-2021 00:00', '10-03-2021 00:00', '05-03-2021 00:00',\n",
       "       '04-03-2021 00:00', '02-03-2021 00:00', '15-03-2021 00:00',\n",
       "       '09-03-2021 00:00', '06-03-2021 00:00', '20-03-2021 00:00',\n",
       "       '25-03-2021 00:00', '01-03-2021 00:00', '12-03-2021 00:00',\n",
       "       '03-03-2021 00:00', '31-03-2021 00:00', '16-03-2021 00:00',\n",
       "       '17-03-2021 00:00', '13-03-2021 00:00', '22-03-2021 00:00',\n",
       "       '18-03-2021 00:00', '26-03-2021 00:00', '23-03-2021 00:00',\n",
       "       '11-03-2021 00:00', '27-03-2021 00:00', '19-03-2021 00:00',\n",
       "       '30-03-2021 00:00', '21-03-2021 00:00'], dtype=object)"
      ]
     },
     "execution_count": 385,
     "metadata": {},
     "output_type": "execute_result"
    }
   ],
   "source": [
    "data['date_collection'].unique()"
   ]
  },
  {
   "cell_type": "code",
   "execution_count": 382,
   "id": "cc916068",
   "metadata": {},
   "outputs": [],
   "source": [
    "# These records are only for the 3rd month of 2021"
   ]
  },
  {
   "cell_type": "code",
   "execution_count": 383,
   "id": "974a917b",
   "metadata": {},
   "outputs": [
    {
     "data": {
      "text/html": [
       "<div>\n",
       "<style scoped>\n",
       "    .dataframe tbody tr th:only-of-type {\n",
       "        vertical-align: middle;\n",
       "    }\n",
       "\n",
       "    .dataframe tbody tr th {\n",
       "        vertical-align: top;\n",
       "    }\n",
       "\n",
       "    .dataframe thead th {\n",
       "        text-align: right;\n",
       "    }\n",
       "</style>\n",
       "<table border=\"1\" class=\"dataframe\">\n",
       "  <thead>\n",
       "    <tr style=\"text-align: right;\">\n",
       "      <th></th>\n",
       "      <th>state_name</th>\n",
       "      <th>district_name</th>\n",
       "      <th>block_name</th>\n",
       "      <th>basin_name</th>\n",
       "      <th>sub_basin_name</th>\n",
       "      <th>date_collection</th>\n",
       "      <th>BIOCHEMICAL OXYGEN DEMAND(mg/L)</th>\n",
       "      <th>DISSOLVED OXYGEN(mg/L).1</th>\n",
       "      <th>PH1</th>\n",
       "    </tr>\n",
       "  </thead>\n",
       "  <tbody>\n",
       "    <tr>\n",
       "      <th>0</th>\n",
       "      <td>Andhra Pradesh</td>\n",
       "      <td>Warangal</td>\n",
       "      <td>THORRUR</td>\n",
       "      <td>Godavari Basin</td>\n",
       "      <td>Pranhita and others</td>\n",
       "      <td>08-03-2021 00:00</td>\n",
       "      <td>2.1</td>\n",
       "      <td>5.4</td>\n",
       "      <td>7.31</td>\n",
       "    </tr>\n",
       "    <tr>\n",
       "      <th>1</th>\n",
       "      <td>Andhra Pradesh</td>\n",
       "      <td>KURNOOL</td>\n",
       "      <td>KURNOOL</td>\n",
       "      <td>Krishna Basin</td>\n",
       "      <td>Tungabhadra Lower</td>\n",
       "      <td>07-03-2021 00:00</td>\n",
       "      <td>2.8</td>\n",
       "      <td>5.0</td>\n",
       "      <td>7.70</td>\n",
       "    </tr>\n",
       "    <tr>\n",
       "      <th>2</th>\n",
       "      <td>Andhra Pradesh</td>\n",
       "      <td>KURNOOL</td>\n",
       "      <td>PAGIDYALA</td>\n",
       "      <td>Krishna Basin</td>\n",
       "      <td>Krishna Middle</td>\n",
       "      <td>14-03-2021 00:00</td>\n",
       "      <td>2.5</td>\n",
       "      <td>5.6</td>\n",
       "      <td>7.30</td>\n",
       "    </tr>\n",
       "    <tr>\n",
       "      <th>3</th>\n",
       "      <td>Andhra Pradesh</td>\n",
       "      <td>KRISHNA</td>\n",
       "      <td>JAGGAYYAPETA</td>\n",
       "      <td>Krishna Basin</td>\n",
       "      <td>Krishna Lower</td>\n",
       "      <td>24-03-2021 00:00</td>\n",
       "      <td>2.6</td>\n",
       "      <td>7.1</td>\n",
       "      <td>8.15</td>\n",
       "    </tr>\n",
       "    <tr>\n",
       "      <th>4</th>\n",
       "      <td>Andhra Pradesh</td>\n",
       "      <td>Warangal</td>\n",
       "      <td>THORRUR</td>\n",
       "      <td>Krishna Basin</td>\n",
       "      <td>Krishna Lower</td>\n",
       "      <td>10-03-2021 00:00</td>\n",
       "      <td>2.2</td>\n",
       "      <td>6.2</td>\n",
       "      <td>8.15</td>\n",
       "    </tr>\n",
       "  </tbody>\n",
       "</table>\n",
       "</div>"
      ],
      "text/plain": [
       "       state_name district_name    block_name      basin_name  \\\n",
       "0  Andhra Pradesh      Warangal       THORRUR  Godavari Basin   \n",
       "1  Andhra Pradesh       KURNOOL       KURNOOL   Krishna Basin   \n",
       "2  Andhra Pradesh       KURNOOL     PAGIDYALA   Krishna Basin   \n",
       "3  Andhra Pradesh       KRISHNA  JAGGAYYAPETA   Krishna Basin   \n",
       "4  Andhra Pradesh      Warangal       THORRUR   Krishna Basin   \n",
       "\n",
       "        sub_basin_name   date_collection  BIOCHEMICAL OXYGEN DEMAND(mg/L)  \\\n",
       "0  Pranhita and others  08-03-2021 00:00                              2.1   \n",
       "1    Tungabhadra Lower  07-03-2021 00:00                              2.8   \n",
       "2       Krishna Middle  14-03-2021 00:00                              2.5   \n",
       "3        Krishna Lower  24-03-2021 00:00                              2.6   \n",
       "4        Krishna Lower  10-03-2021 00:00                              2.2   \n",
       "\n",
       "   DISSOLVED OXYGEN(mg/L).1   PH1  \n",
       "0                       5.4  7.31  \n",
       "1                       5.0  7.70  \n",
       "2                       5.6  7.30  \n",
       "3                       7.1  8.15  \n",
       "4                       6.2  8.15  "
      ]
     },
     "execution_count": 383,
     "metadata": {},
     "output_type": "execute_result"
    }
   ],
   "source": [
    "data.head()"
   ]
  },
  {
   "cell_type": "code",
   "execution_count": null,
   "id": "d879e0ec",
   "metadata": {
    "scrolled": true
   },
   "outputs": [],
   "source": []
  },
  {
   "cell_type": "code",
   "execution_count": null,
   "id": "b3549fd9",
   "metadata": {},
   "outputs": [],
   "source": []
  }
 ],
 "metadata": {
  "kernelspec": {
   "display_name": "Python 3",
   "language": "python",
   "name": "python3"
  },
  "language_info": {
   "codemirror_mode": {
    "name": "ipython",
    "version": 3
   },
   "file_extension": ".py",
   "mimetype": "text/x-python",
   "name": "python",
   "nbconvert_exporter": "python",
   "pygments_lexer": "ipython3",
   "version": "3.8.8"
  }
 },
 "nbformat": 4,
 "nbformat_minor": 5
}
